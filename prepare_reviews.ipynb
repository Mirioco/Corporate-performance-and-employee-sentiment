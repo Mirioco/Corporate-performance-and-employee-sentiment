{
 "cells": [
  {
   "cell_type": "markdown",
   "id": "d63e66d3-7693-4f9f-9a73-b3b2f5019c34",
   "metadata": {},
   "source": [
    "### Format for dashboard:\n",
    "-"
   ]
  },
  {
   "cell_type": "code",
   "execution_count": 172,
   "id": "92cf6a8f-4d71-42ca-978b-fbe05f26c516",
   "metadata": {},
   "outputs": [],
   "source": [
    "import pandas as pd\n",
    "import numpy as np\n",
    "from datetime import datetime\n",
    "import matplotlib.pyplot as plt"
   ]
  },
  {
   "cell_type": "code",
   "execution_count": 173,
   "id": "d785e1d5-2e1e-4dec-b6a2-975008cf0976",
   "metadata": {},
   "outputs": [],
   "source": [
    "df_links = pd.read_csv('data/links_luxobelg.csv', index_col=0)"
   ]
  },
  {
   "cell_type": "code",
   "execution_count": 174,
   "id": "871a6982-046b-4366-8054-4ec5fc03cb9e",
   "metadata": {},
   "outputs": [],
   "source": [
    "def get_csvs_as_dict(df_links):\n",
    "    reviews = {}\n",
    "    for country in ['belgian', 'lux']:\n",
    "        reviews[country] = {}\n",
    "        for company in df_links['company']:\n",
    "            try:\n",
    "                reviews[country][company] = pd.read_csv(f'data/raw_reviews/{company}_{country}_reviews.csv', index_col=0)\n",
    "            except:\n",
    "                continue\n",
    "    return reviews"
   ]
  },
  {
   "cell_type": "code",
   "execution_count": 175,
   "id": "6b241d99-c8e0-4c77-ac45-79f0a9a312c5",
   "metadata": {},
   "outputs": [],
   "source": [
    "reviews_dict = get_csvs_as_dict(df_links)"
   ]
  },
  {
   "cell_type": "code",
   "execution_count": 176,
   "id": "1d0eebc7-c572-492a-972e-4d7e5b8842e5",
   "metadata": {},
   "outputs": [],
   "source": [
    "def split_date_place_job(df_reviews):\n",
    "    \"\"\"\n",
    "    Expect a single dataframe of reviews with a column date_and_job and returns the dataframe\n",
    "    with that column split into 2, date, job_city\n",
    "    \"\"\"\n",
    "    date_jobloc = pd.DataFrame()\n",
    "    \n",
    "    date_and_job = df_reviews.pop('date_and_job')\n",
    "    date_jobloc = date_and_job.str.split(' - ', n=1, expand=True)\n",
    "    date_jobloc.columns = ['date', 'job_location']\n",
    "    \n",
    "    df = pd.concat([date_jobloc, df_reviews], axis=1)\n",
    "    return df"
   ]
  },
  {
   "cell_type": "code",
   "execution_count": 177,
   "id": "e1f293f1-ca9e-4700-8059-2b6683a82ca7",
   "metadata": {},
   "outputs": [],
   "source": [
    "def format_date(date):\n",
    "    \"\"\"\n",
    "    Function to be mapped\n",
    "    Expect date string like May 6, 2022 and convert it to datetime object\n",
    "    \"\"\"\n",
    "    month_name = date[:3]\n",
    "    datetime_object = datetime.strptime(month_name, \"%b\")\n",
    "    month_number = datetime_object.month\n",
    "    date_numbers = str(month_number)+','+date[4:]\n",
    "    date_numbers = date_numbers.replace(' ', '')\n",
    "    formatted_date = datetime.strptime(date_numbers, '%m,%d,%Y')\n",
    "    return formatted_date"
   ]
  },
  {
   "cell_type": "code",
   "execution_count": 178,
   "id": "409b6dd2-c4e5-4857-86a0-967657648fa2",
   "metadata": {},
   "outputs": [],
   "source": [
    "def split_date_to_datetime(reviews_dict):\n",
    "    for country in reviews_dict:\n",
    "        for company in reviews_dict[country]:\n",
    "            reviews_dict[country][company] = split_date_place_job(reviews_dict[country][company])  \n",
    "            reviews_dict[country][company]['date'] = reviews_dict[country][company]['date'].map(format_date)\n",
    "    return reviews_dict"
   ]
  },
  {
   "cell_type": "code",
   "execution_count": 179,
   "id": "7f1a3857-f947-4a5d-a4c2-c7b0285916cf",
   "metadata": {},
   "outputs": [],
   "source": [
    "splitted_date = split_date_to_datetime(reviews_dict)"
   ]
  },
  {
   "cell_type": "code",
   "execution_count": 180,
   "id": "a8020445-8c0d-41f0-a5b4-6e3f05a1b693",
   "metadata": {},
   "outputs": [],
   "source": [
    "star_columns = ['Work/Life Balance', 'Culture & Values', 'Diversity & Inclusion', 'Career Opportunities', 'Compensation and Benefits', 'Senior Management']"
   ]
  },
  {
   "cell_type": "code",
   "execution_count": 181,
   "id": "89a7b6e9-09e0-489f-92d7-5479eb90f692",
   "metadata": {},
   "outputs": [],
   "source": [
    "def stars_to_int(row):\n",
    "    \"\"\"\n",
    "    Function to be mapped on columns with ratings as stars\n",
    "    \"\"\"\n",
    "    if row == '*****':\n",
    "        return 5\n",
    "    elif row == '****':\n",
    "        return 4\n",
    "    elif row == '***':\n",
    "        return 3\n",
    "    elif row == '**':\n",
    "        return 2\n",
    "    elif row == '*':\n",
    "        return 1\n",
    "    else:\n",
    "        return np.nan"
   ]
  },
  {
   "cell_type": "code",
   "execution_count": 182,
   "id": "0d8b9063-cfd6-4355-8b69-689eb9fe6ff4",
   "metadata": {},
   "outputs": [],
   "source": [
    "def clean_dfs(dfs):\n",
    "    for country, df_country in dfs.items():\n",
    "        for company, df_company in df_country.items():\n",
    "            if isinstance(df_company, float):\n",
    "                continue\n",
    "            else:\n",
    "                df_company.set_index('date', inplace=True)\n",
    "                df_company.sort_index(inplace=True)\n",
    "                for star_column in star_columns:\n",
    "                    df_company[star_column] = df_company[star_column].map(stars_to_int)\n",
    "                \n",
    "    return dfs"
   ]
  },
  {
   "cell_type": "code",
   "execution_count": 183,
   "id": "52fc6f7f-18a5-4f2c-b409-6157e0533bb8",
   "metadata": {},
   "outputs": [],
   "source": [
    "clean_dfs = clean_dfs(splitted_date)"
   ]
  },
  {
   "cell_type": "code",
   "execution_count": 184,
   "id": "c841e237-2e85-4170-8e5b-ada93d23db7d",
   "metadata": {},
   "outputs": [],
   "source": [
    "def add_rolling_means(dfs):\n",
    "    for country, df_country in dfs.items():\n",
    "        for company, df_company in df_country.items():\n",
    "            if isinstance(df_company, float):\n",
    "                continue\n",
    "            else:\n",
    "                for star_column in star_columns:\n",
    "                    df_company[f'{star_column}_rolling_10mean'] = df_company[star_column].rolling(10, min_periods=1).mean(skipna=True)\n",
    "    return dfs"
   ]
  },
  {
   "cell_type": "code",
   "execution_count": 185,
   "id": "c257e6e8-f2ac-4f65-a731-ba01339a4a84",
   "metadata": {},
   "outputs": [],
   "source": [
    "dfs_finished = add_rolling_means(clean_dfs)"
   ]
  },
  {
   "cell_type": "code",
   "execution_count": 189,
   "id": "e318ded8-9676-405c-bcf4-c3bf0dd4ebf5",
   "metadata": {},
   "outputs": [],
   "source": [
    "def combine_dfs(dfs):\n",
    "    columns = list(pd.DataFrame(dfs).iloc[0][0].columns)\n",
    "    columns.extend(['country', 'company'])\n",
    "    combined_reviews = pd.DataFrame(columns = columns)\n",
    "    for country, df_country in dfs.items():\n",
    "        for company, df_company in df_country.items():\n",
    "            if isinstance(df_company, float):\n",
    "                continue\n",
    "            else:\n",
    "                df_company['country'] = country\n",
    "                df_company['company'] = company\n",
    "                combined_reviews = combined_reviews.append(dfs[country][company])\n",
    "    #combined_reviews.set_index('date', inplace=True)\n",
    "    return combined_reviews"
   ]
  },
  {
   "cell_type": "code",
   "execution_count": 190,
   "id": "dff8efb9-9af5-4a10-a3d0-28cfde27b934",
   "metadata": {},
   "outputs": [],
   "source": [
    "combined_dfs = combine_dfs(dfs_finished)"
   ]
  },
  {
   "cell_type": "code",
   "execution_count": 192,
   "id": "eae0736c-d906-48a7-b508-cd5c28179ae9",
   "metadata": {},
   "outputs": [],
   "source": [
    "#combined_dfs.to_csv('data/combined_reviews.csv')"
   ]
  },
  {
   "cell_type": "code",
   "execution_count": null,
   "id": "08a8373d-d0fa-438c-9a4a-9abc64066da4",
   "metadata": {},
   "outputs": [],
   "source": []
  },
  {
   "cell_type": "code",
   "execution_count": null,
   "id": "154a57dc-e1c0-4892-aa21-41f76e879c29",
   "metadata": {},
   "outputs": [],
   "source": []
  },
  {
   "cell_type": "code",
   "execution_count": null,
   "id": "3701ac7d-2093-40b3-8c39-fd90a569b846",
   "metadata": {},
   "outputs": [],
   "source": []
  },
  {
   "cell_type": "code",
   "execution_count": null,
   "id": "5d112ed7-7db4-49c2-9183-220c776a7555",
   "metadata": {},
   "outputs": [],
   "source": []
  },
  {
   "cell_type": "markdown",
   "id": "4d724cde-1058-4665-a0e0-6b72a4d4f213",
   "metadata": {},
   "source": [
    "### Text processing"
   ]
  },
  {
   "cell_type": "code",
   "execution_count": 41,
   "id": "18f07319-ddc9-4e44-b67d-cbd5f1a33075",
   "metadata": {},
   "outputs": [
    {
     "name": "stdout",
     "output_type": "stream",
     "text": [
      "137\n",
      "13\n",
      "97\n",
      "24\n",
      "36\n",
      "52\n",
      "39\n",
      "229\n",
      "122\n",
      "68\n",
      "38\n",
      "234\n",
      "190\n",
      "44\n",
      "139\n",
      "262\n",
      "18\n"
     ]
    }
   ],
   "source": [
    "for countries in reviews.values():\n",
    "    for company in countries.values():\n",
    "        print(len(company))"
   ]
  },
  {
   "cell_type": "code",
   "execution_count": 52,
   "id": "0a933ef0-a933-4392-9acb-d3d5b9c0358e",
   "metadata": {},
   "outputs": [],
   "source": [
    "from gensim.utils import simple_preprocess\n",
    "\n",
    "processed = []\n",
    "# iterate over rows\n",
    "for i, text in enumerate(reviews['belgian']['deloitte']['pros']):\n",
    "    document = simple_preprocess(text) # get sentences/tokens\n",
    "    processed.append(document) # add to list"
   ]
  },
  {
   "cell_type": "code",
   "execution_count": 53,
   "id": "17591b49-f490-4169-aa27-82e85ea3968a",
   "metadata": {},
   "outputs": [
    {
     "data": {
      "text/plain": [
       "229"
      ]
     },
     "execution_count": 53,
     "metadata": {},
     "output_type": "execute_result"
    }
   ],
   "source": [
    "len(processed)"
   ]
  },
  {
   "cell_type": "code",
   "execution_count": 54,
   "id": "30153ab0-3e05-4d67-8bf5-bc93697a80b8",
   "metadata": {},
   "outputs": [
    {
     "name": "stdout",
     "output_type": "stream",
     "text": [
      "7\n",
      "9\n",
      "6\n",
      "5\n",
      "4\n",
      "7\n",
      "11\n",
      "7\n",
      "22\n",
      "14\n",
      "5\n",
      "17\n",
      "8\n",
      "32\n",
      "9\n",
      "60\n",
      "5\n",
      "5\n",
      "9\n",
      "7\n",
      "5\n",
      "5\n",
      "7\n",
      "26\n",
      "7\n",
      "6\n",
      "38\n",
      "7\n",
      "5\n",
      "6\n",
      "6\n",
      "10\n",
      "7\n",
      "20\n",
      "9\n",
      "7\n",
      "6\n",
      "8\n",
      "8\n",
      "5\n",
      "6\n",
      "5\n",
      "6\n",
      "9\n",
      "10\n",
      "5\n",
      "8\n",
      "6\n",
      "5\n",
      "12\n",
      "5\n",
      "11\n",
      "5\n",
      "12\n",
      "21\n",
      "6\n",
      "23\n",
      "4\n",
      "5\n",
      "7\n",
      "9\n",
      "7\n",
      "8\n",
      "12\n",
      "5\n",
      "6\n",
      "20\n",
      "7\n",
      "10\n",
      "5\n",
      "6\n",
      "11\n",
      "15\n",
      "42\n",
      "8\n",
      "7\n",
      "5\n",
      "8\n",
      "5\n",
      "8\n",
      "6\n",
      "14\n",
      "5\n",
      "11\n",
      "16\n",
      "5\n",
      "6\n",
      "5\n",
      "11\n",
      "8\n",
      "7\n",
      "9\n",
      "5\n",
      "10\n",
      "8\n",
      "35\n",
      "6\n",
      "6\n",
      "17\n",
      "7\n",
      "5\n",
      "8\n",
      "8\n",
      "11\n",
      "7\n",
      "22\n",
      "6\n",
      "6\n",
      "6\n",
      "9\n",
      "5\n",
      "5\n",
      "13\n",
      "6\n",
      "8\n",
      "8\n",
      "19\n",
      "5\n",
      "28\n",
      "9\n",
      "5\n",
      "6\n",
      "6\n",
      "3\n",
      "6\n",
      "7\n",
      "20\n",
      "6\n",
      "22\n",
      "4\n",
      "4\n",
      "7\n",
      "6\n",
      "79\n",
      "9\n",
      "8\n",
      "10\n",
      "5\n",
      "5\n",
      "35\n",
      "23\n",
      "6\n",
      "8\n",
      "5\n",
      "5\n",
      "12\n",
      "32\n",
      "13\n",
      "9\n",
      "9\n",
      "18\n",
      "9\n",
      "18\n",
      "7\n",
      "8\n",
      "8\n",
      "8\n",
      "14\n",
      "14\n",
      "5\n",
      "13\n",
      "5\n",
      "10\n",
      "10\n",
      "13\n",
      "22\n",
      "4\n",
      "14\n",
      "5\n",
      "55\n",
      "6\n",
      "9\n",
      "14\n",
      "11\n",
      "82\n",
      "4\n",
      "10\n",
      "8\n",
      "14\n",
      "7\n",
      "8\n",
      "19\n",
      "14\n",
      "10\n",
      "7\n",
      "7\n",
      "19\n",
      "24\n",
      "18\n",
      "7\n",
      "19\n",
      "5\n",
      "26\n",
      "26\n",
      "5\n",
      "10\n",
      "8\n",
      "18\n",
      "6\n",
      "35\n",
      "39\n",
      "42\n",
      "23\n",
      "20\n",
      "5\n",
      "7\n",
      "14\n",
      "27\n",
      "23\n",
      "20\n",
      "39\n",
      "19\n",
      "33\n",
      "19\n",
      "21\n",
      "9\n",
      "5\n",
      "5\n",
      "10\n",
      "12\n",
      "36\n",
      "17\n",
      "27\n",
      "8\n",
      "20\n",
      "5\n",
      "29\n",
      "19\n",
      "17\n"
     ]
    }
   ],
   "source": [
    "#Check for correlation between sentence length and scores, although probably not really informative\n",
    "for pro in processed:\n",
    "    print(len(pro))"
   ]
  },
  {
   "cell_type": "code",
   "execution_count": null,
   "id": "764eea44-798c-4534-a824-8d2b01d26f20",
   "metadata": {},
   "outputs": [],
   "source": []
  }
 ],
 "metadata": {
  "kernelspec": {
   "display_name": "Python 3 (ipykernel)",
   "language": "python",
   "name": "python3"
  },
  "language_info": {
   "codemirror_mode": {
    "name": "ipython",
    "version": 3
   },
   "file_extension": ".py",
   "mimetype": "text/x-python",
   "name": "python",
   "nbconvert_exporter": "python",
   "pygments_lexer": "ipython3",
   "version": "3.9.7"
  }
 },
 "nbformat": 4,
 "nbformat_minor": 5
}
