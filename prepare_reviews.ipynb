{
 "cells": [
  {
   "cell_type": "markdown",
   "id": "d63e66d3-7693-4f9f-9a73-b3b2f5019c34",
   "metadata": {},
   "source": [
    "### Format for dashboard:\n",
    "-"
   ]
  },
  {
   "cell_type": "code",
   "execution_count": 172,
   "id": "92cf6a8f-4d71-42ca-978b-fbe05f26c516",
   "metadata": {},
   "outputs": [],
   "source": [
    "import pandas as pd\n",
    "import numpy as np\n",
    "from datetime import datetime\n",
    "import matplotlib.pyplot as plt"
   ]
  },
  {
   "cell_type": "code",
   "execution_count": 173,
   "id": "d785e1d5-2e1e-4dec-b6a2-975008cf0976",
   "metadata": {},
   "outputs": [],
   "source": [
    "df_links = pd.read_csv('data/links_luxobelg.csv', index_col=0)"
   ]
  },
  {
   "cell_type": "code",
   "execution_count": 174,
   "id": "871a6982-046b-4366-8054-4ec5fc03cb9e",
   "metadata": {},
   "outputs": [],
   "source": [
    "def get_csvs_as_dict(df_links):\n",
    "    reviews = {}\n",
    "    for country in ['belgian', 'lux']:\n",
    "        reviews[country] = {}\n",
    "        for company in df_links['company']:\n",
    "            try:\n",
    "                reviews[country][company] = pd.read_csv(f'data/raw_reviews/{company}_{country}_reviews.csv', index_col=0)\n",
    "            except:\n",
    "                continue\n",
    "    return reviews"
   ]
  },
  {
   "cell_type": "code",
   "execution_count": 175,
   "id": "6b241d99-c8e0-4c77-ac45-79f0a9a312c5",
   "metadata": {},
   "outputs": [],
   "source": [
    "reviews_dict = get_csvs_as_dict(df_links)"
   ]
  },
  {
   "cell_type": "code",
   "execution_count": 176,
   "id": "1d0eebc7-c572-492a-972e-4d7e5b8842e5",
   "metadata": {},
   "outputs": [],
   "source": [
    "def split_date_place_job(df_reviews):\n",
    "    \"\"\"\n",
    "    Expect a single dataframe of reviews with a column date_and_job and returns the dataframe\n",
    "    with that column split into 2, date, job_city\n",
    "    \"\"\"\n",
    "    date_jobloc = pd.DataFrame()\n",
    "    \n",
    "    date_and_job = df_reviews.pop('date_and_job')\n",
    "    date_jobloc = date_and_job.str.split(' - ', n=1, expand=True)\n",
    "    date_jobloc.columns = ['date', 'job_location']\n",
    "    \n",
    "    df = pd.concat([date_jobloc, df_reviews], axis=1)\n",
    "    return df"
   ]
  },
  {
   "cell_type": "code",
   "execution_count": 177,
   "id": "e1f293f1-ca9e-4700-8059-2b6683a82ca7",
   "metadata": {},
   "outputs": [],
   "source": [
    "def format_date(date):\n",
    "    \"\"\"\n",
    "    Function to be mapped\n",
    "    Expect date string like May 6, 2022 and convert it to datetime object\n",
    "    \"\"\"\n",
    "    month_name = date[:3]\n",
    "    datetime_object = datetime.strptime(month_name, \"%b\")\n",
    "    month_number = datetime_object.month\n",
    "    date_numbers = str(month_number)+','+date[4:]\n",
    "    date_numbers = date_numbers.replace(' ', '')\n",
    "    formatted_date = datetime.strptime(date_numbers, '%m,%d,%Y')\n",
    "    return formatted_date"
   ]
  },
  {
   "cell_type": "code",
   "execution_count": 178,
   "id": "409b6dd2-c4e5-4857-86a0-967657648fa2",
   "metadata": {},
   "outputs": [],
   "source": [
    "def split_date_to_datetime(reviews_dict):\n",
    "    for country in reviews_dict:\n",
    "        for company in reviews_dict[country]:\n",
    "            reviews_dict[country][company] = split_date_place_job(reviews_dict[country][company])  \n",
    "            reviews_dict[country][company]['date'] = reviews_dict[country][company]['date'].map(format_date)\n",
    "    return reviews_dict"
   ]
  },
  {
   "cell_type": "code",
   "execution_count": 179,
   "id": "7f1a3857-f947-4a5d-a4c2-c7b0285916cf",
   "metadata": {},
   "outputs": [],
   "source": [
    "splitted_date = split_date_to_datetime(reviews_dict)"
   ]
  },
  {
   "cell_type": "code",
   "execution_count": 180,
   "id": "a8020445-8c0d-41f0-a5b4-6e3f05a1b693",
   "metadata": {},
   "outputs": [],
   "source": [
    "star_columns = ['Work/Life Balance', 'Culture & Values', 'Diversity & Inclusion', 'Career Opportunities', 'Compensation and Benefits', 'Senior Management']"
   ]
  },
  {
   "cell_type": "code",
   "execution_count": 181,
   "id": "89a7b6e9-09e0-489f-92d7-5479eb90f692",
   "metadata": {},
   "outputs": [],
   "source": [
    "def stars_to_int(row):\n",
    "    \"\"\"\n",
    "    Function to be mapped on columns with ratings as stars\n",
    "    \"\"\"\n",
    "    if row == '*****':\n",
    "        return 5\n",
    "    elif row == '****':\n",
    "        return 4\n",
    "    elif row == '***':\n",
    "        return 3\n",
    "    elif row == '**':\n",
    "        return 2\n",
    "    elif row == '*':\n",
    "        return 1\n",
    "    else:\n",
    "        return np.nan"
   ]
  },
  {
   "cell_type": "code",
   "execution_count": 182,
   "id": "0d8b9063-cfd6-4355-8b69-689eb9fe6ff4",
   "metadata": {},
   "outputs": [],
   "source": [
    "def clean_dfs(dfs):\n",
    "    for country, df_country in dfs.items():\n",
    "        for company, df_company in df_country.items():\n",
    "            if isinstance(df_company, float):\n",
    "                continue\n",
    "            else:\n",
    "                df_company.set_index('date', inplace=True)\n",
    "                df_company.sort_index(inplace=True)\n",
    "                for star_column in star_columns:\n",
    "                    df_company[star_column] = df_company[star_column].map(stars_to_int)\n",
    "                \n",
    "    return dfs"
   ]
  },
  {
   "cell_type": "code",
   "execution_count": 183,
   "id": "52fc6f7f-18a5-4f2c-b409-6157e0533bb8",
   "metadata": {},
   "outputs": [],
   "source": [
    "clean_dfs = clean_dfs(splitted_date)"
   ]
  },
  {
   "cell_type": "code",
   "execution_count": 184,
   "id": "c841e237-2e85-4170-8e5b-ada93d23db7d",
   "metadata": {},
   "outputs": [],
   "source": [
    "def add_rolling_means(dfs):\n",
    "    for country, df_country in dfs.items():\n",
    "        for company, df_company in df_country.items():\n",
    "            if isinstance(df_company, float):\n",
    "                continue\n",
    "            else:\n",
    "                for star_column in star_columns:\n",
    "                    df_company[f'{star_column}_rolling_10mean'] = df_company[star_column].rolling(10, min_periods=1).mean(skipna=True)\n",
    "    return dfs"
   ]
  },
  {
   "cell_type": "code",
   "execution_count": 185,
   "id": "c257e6e8-f2ac-4f65-a731-ba01339a4a84",
   "metadata": {},
   "outputs": [],
   "source": [
    "dfs_finished = add_rolling_means(clean_dfs)"
   ]
  },
  {
   "cell_type": "code",
   "execution_count": 189,
   "id": "e318ded8-9676-405c-bcf4-c3bf0dd4ebf5",
   "metadata": {},
   "outputs": [],
   "source": [
    "def combine_dfs(dfs):\n",
    "    columns = list(pd.DataFrame(dfs).iloc[0][0].columns)\n",
    "    columns.extend(['country', 'company'])\n",
    "    combined_reviews = pd.DataFrame(columns = columns)\n",
    "    for country, df_country in dfs.items():\n",
    "        for company, df_company in df_country.items():\n",
    "            if isinstance(df_company, float):\n",
    "                continue\n",
    "            else:\n",
    "                df_company['country'] = country\n",
    "                df_company['company'] = company\n",
    "                combined_reviews = combined_reviews.append(dfs[country][company])\n",
    "    #combined_reviews.set_index('date', inplace=True)\n",
    "    return combined_reviews"
   ]
  },
  {
   "cell_type": "code",
   "execution_count": 190,
   "id": "dff8efb9-9af5-4a10-a3d0-28cfde27b934",
   "metadata": {},
   "outputs": [],
   "source": [
    "combined_dfs = combine_dfs(dfs_finished)"
   ]
  },
  {
   "cell_type": "code",
   "execution_count": 192,
   "id": "eae0736c-d906-48a7-b508-cd5c28179ae9",
   "metadata": {},
   "outputs": [],
   "source": [
    "combined_dfs.to_csv('data/combined_reviews.csv')"
   ]
  }
 ],
 "metadata": {
  "kernelspec": {
   "display_name": "Python 3 (ipykernel)",
   "language": "python",
   "name": "python3"
  },
  "language_info": {
   "codemirror_mode": {
    "name": "ipython",
    "version": 3
   },
   "file_extension": ".py",
   "mimetype": "text/x-python",
   "name": "python",
   "nbconvert_exporter": "python",
   "pygments_lexer": "ipython3",
   "version": "3.9.7"
  }
 },
 "nbformat": 4,
 "nbformat_minor": 5
}
