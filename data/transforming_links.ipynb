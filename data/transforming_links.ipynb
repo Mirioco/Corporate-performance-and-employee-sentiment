{
 "cells": [
  {
   "cell_type": "code",
   "execution_count": 1,
   "id": "e29787d3-cde3-4fed-b2fe-aad6bf5e49c4",
   "metadata": {},
   "outputs": [],
   "source": [
    "import pandas as pd"
   ]
  },
  {
   "cell_type": "code",
   "execution_count": 7,
   "id": "b7c69c9a-0eaa-4c27-969a-12b253ceaa86",
   "metadata": {},
   "outputs": [],
   "source": [
    "df = pd.read_excel('links_luxobelg.xlsx')"
   ]
  },
  {
   "cell_type": "code",
   "execution_count": 8,
   "id": "3f8fb037-9cb4-44d6-b264-2e2078201a2d",
   "metadata": {},
   "outputs": [
    {
     "data": {
      "text/html": [
       "<div>\n",
       "<style scoped>\n",
       "    .dataframe tbody tr th:only-of-type {\n",
       "        vertical-align: middle;\n",
       "    }\n",
       "\n",
       "    .dataframe tbody tr th {\n",
       "        vertical-align: top;\n",
       "    }\n",
       "\n",
       "    .dataframe thead th {\n",
       "        text-align: right;\n",
       "    }\n",
       "</style>\n",
       "<table border=\"1\" class=\"dataframe\">\n",
       "  <thead>\n",
       "    <tr style=\"text-align: right;\">\n",
       "      <th></th>\n",
       "      <th>company</th>\n",
       "      <th>link_belgium</th>\n",
       "      <th>link_lux</th>\n",
       "    </tr>\n",
       "  </thead>\n",
       "  <tbody>\n",
       "    <tr>\n",
       "      <th>0</th>\n",
       "      <td>pwc</td>\n",
       "      <td>https://www.glassdoor.com/Reviews/PwC-Belgium-...</td>\n",
       "      <td>https://www.glassdoor.com/Reviews/PwC-Luxembou...</td>\n",
       "    </tr>\n",
       "    <tr>\n",
       "      <th>1</th>\n",
       "      <td>belfius</td>\n",
       "      <td>https://www.glassdoor.com/Reviews/Belfius-Bank...</td>\n",
       "      <td>NaN</td>\n",
       "    </tr>\n",
       "    <tr>\n",
       "      <th>2</th>\n",
       "      <td>ey</td>\n",
       "      <td>https://www.glassdoor.com/Reviews/EY-Belgium-R...</td>\n",
       "      <td>https://www.glassdoor.com/Reviews/EY-Luxembour...</td>\n",
       "    </tr>\n",
       "    <tr>\n",
       "      <th>3</th>\n",
       "      <td>bnp_paribas</td>\n",
       "      <td>https://www.glassdoor.com/Reviews/BNP-Paribas-...</td>\n",
       "      <td>NaN</td>\n",
       "    </tr>\n",
       "    <tr>\n",
       "      <th>4</th>\n",
       "      <td>odoo</td>\n",
       "      <td>https://www.glassdoor.com/Reviews/Odoo-Belgium...</td>\n",
       "      <td>NaN</td>\n",
       "    </tr>\n",
       "    <tr>\n",
       "      <th>5</th>\n",
       "      <td>alter_domus</td>\n",
       "      <td>NaN</td>\n",
       "      <td>https://www.glassdoor.com/Reviews/Alter-Domus-...</td>\n",
       "    </tr>\n",
       "    <tr>\n",
       "      <th>6</th>\n",
       "      <td>kpmg</td>\n",
       "      <td>https://www.glassdoor.com/Reviews/KPMG-Belgium...</td>\n",
       "      <td>https://www.glassdoor.com/Reviews/KPMG-Luxembo...</td>\n",
       "    </tr>\n",
       "    <tr>\n",
       "      <th>7</th>\n",
       "      <td>kbc</td>\n",
       "      <td>https://www.glassdoor.com/Reviews/KBC-Belgium-...</td>\n",
       "      <td>NaN</td>\n",
       "    </tr>\n",
       "    <tr>\n",
       "      <th>8</th>\n",
       "      <td>deloitte</td>\n",
       "      <td>https://www.glassdoor.com/Reviews/Deloitte-Bel...</td>\n",
       "      <td>https://www.glassdoor.com/Reviews/Deloitte-Lux...</td>\n",
       "    </tr>\n",
       "    <tr>\n",
       "      <th>9</th>\n",
       "      <td>accenture</td>\n",
       "      <td>https://www.glassdoor.com/Reviews/Accenture-Be...</td>\n",
       "      <td>https://www.glassdoor.com/Reviews/Accenture-Lu...</td>\n",
       "    </tr>\n",
       "    <tr>\n",
       "      <th>10</th>\n",
       "      <td>bain_and_company</td>\n",
       "      <td>https://www.glassdoor.com/Reviews/Bain-and-Com...</td>\n",
       "      <td>NaN</td>\n",
       "    </tr>\n",
       "    <tr>\n",
       "      <th>11</th>\n",
       "      <td>mckinsey</td>\n",
       "      <td>https://www.glassdoor.com/Reviews/McKinsey-and...</td>\n",
       "      <td>NaN</td>\n",
       "    </tr>\n",
       "  </tbody>\n",
       "</table>\n",
       "</div>"
      ],
      "text/plain": [
       "             company                                       link_belgium  \\\n",
       "0                pwc  https://www.glassdoor.com/Reviews/PwC-Belgium-...   \n",
       "1            belfius  https://www.glassdoor.com/Reviews/Belfius-Bank...   \n",
       "2                 ey  https://www.glassdoor.com/Reviews/EY-Belgium-R...   \n",
       "3        bnp_paribas  https://www.glassdoor.com/Reviews/BNP-Paribas-...   \n",
       "4               odoo  https://www.glassdoor.com/Reviews/Odoo-Belgium...   \n",
       "5        alter_domus                                                NaN   \n",
       "6               kpmg  https://www.glassdoor.com/Reviews/KPMG-Belgium...   \n",
       "7                kbc  https://www.glassdoor.com/Reviews/KBC-Belgium-...   \n",
       "8           deloitte  https://www.glassdoor.com/Reviews/Deloitte-Bel...   \n",
       "9          accenture  https://www.glassdoor.com/Reviews/Accenture-Be...   \n",
       "10  bain_and_company  https://www.glassdoor.com/Reviews/Bain-and-Com...   \n",
       "11          mckinsey  https://www.glassdoor.com/Reviews/McKinsey-and...   \n",
       "\n",
       "                                             link_lux  \n",
       "0   https://www.glassdoor.com/Reviews/PwC-Luxembou...  \n",
       "1                                                 NaN  \n",
       "2   https://www.glassdoor.com/Reviews/EY-Luxembour...  \n",
       "3                                                 NaN  \n",
       "4                                                 NaN  \n",
       "5   https://www.glassdoor.com/Reviews/Alter-Domus-...  \n",
       "6   https://www.glassdoor.com/Reviews/KPMG-Luxembo...  \n",
       "7                                                 NaN  \n",
       "8   https://www.glassdoor.com/Reviews/Deloitte-Lux...  \n",
       "9   https://www.glassdoor.com/Reviews/Accenture-Lu...  \n",
       "10                                                NaN  \n",
       "11                                                NaN  "
      ]
     },
     "execution_count": 8,
     "metadata": {},
     "output_type": "execute_result"
    }
   ],
   "source": [
    "df"
   ]
  },
  {
   "cell_type": "code",
   "execution_count": 11,
   "id": "83485df9-0b77-4631-add6-56c636d47813",
   "metadata": {},
   "outputs": [
    {
     "data": {
      "text/plain": [
       "'https://www.glassdoor.com/Reviews/BNP-Paribas-Belgium-Reviews-EI_IE10342.0,11_IL.12,19_IN25.htm?filter.iso3Language=eng&filter.employmentStatus=REGULAR&filter.employmentStatus=PART_TIME'"
      ]
     },
     "execution_count": 11,
     "metadata": {},
     "output_type": "execute_result"
    }
   ],
   "source": [
    "df.iloc[3]['link_belgium']"
   ]
  },
  {
   "cell_type": "code",
   "execution_count": 12,
   "id": "72497157-c27e-4a30-a6df-8ef996451466",
   "metadata": {},
   "outputs": [],
   "source": [
    "filter_url = '.htm?sort.sortType=RD&sort.ascending=false&filter.iso3Language=eng&filter.employmentStatus=PART_TIME&filter.employmentStatus=REGULAR&filter.employmentStatus=INTERN'"
   ]
  },
  {
   "cell_type": "code",
   "execution_count": 13,
   "id": "32903590-e522-4eb6-b7e7-e85a5ef63dd6",
   "metadata": {},
   "outputs": [],
   "source": [
    "def get_company_nofilter(url):\n",
    "    htm_index = url.index('.htm')\n",
    "    url_nofilter = url[:htm_index]\n",
    "    return url_nofilter"
   ]
  },
  {
   "cell_type": "code",
   "execution_count": 17,
   "id": "263576bb-ca42-4310-844d-de23ff38fdd8",
   "metadata": {},
   "outputs": [],
   "source": [
    "def get_link(url, page):\n",
    "    nofilter = get_company_nofilter(url)\n",
    "    return nofilter + '_IP' + str(page) + filter_url"
   ]
  },
  {
   "cell_type": "code",
   "execution_count": 19,
   "id": "b1248a53-d6c3-4697-b31b-14d1c3b473ce",
   "metadata": {},
   "outputs": [
    {
     "ename": "AttributeError",
     "evalue": "'float' object has no attribute 'index'",
     "output_type": "error",
     "traceback": [
      "\u001b[0;31m---------------------------------------------------------------------------\u001b[0m",
      "\u001b[0;31mAttributeError\u001b[0m                            Traceback (most recent call last)",
      "\u001b[0;32m/var/folders/75/_lpdck312plbd86wrgx53dbc0000gn/T/ipykernel_5280/2061194472.py\u001b[0m in \u001b[0;36m<module>\u001b[0;34m\u001b[0m\n\u001b[0;32m----> 1\u001b[0;31m \u001b[0mget_link\u001b[0m\u001b[0;34m(\u001b[0m\u001b[0mdf\u001b[0m\u001b[0;34m.\u001b[0m\u001b[0miloc\u001b[0m\u001b[0;34m[\u001b[0m\u001b[0;36m3\u001b[0m\u001b[0;34m]\u001b[0m\u001b[0;34m[\u001b[0m\u001b[0;34m'link_lux'\u001b[0m\u001b[0;34m]\u001b[0m\u001b[0;34m,\u001b[0m \u001b[0;36m3\u001b[0m\u001b[0;34m)\u001b[0m\u001b[0;34m\u001b[0m\u001b[0;34m\u001b[0m\u001b[0m\n\u001b[0m",
      "\u001b[0;32m/var/folders/75/_lpdck312plbd86wrgx53dbc0000gn/T/ipykernel_5280/1805157562.py\u001b[0m in \u001b[0;36mget_link\u001b[0;34m(url, page)\u001b[0m\n\u001b[1;32m      1\u001b[0m \u001b[0;32mdef\u001b[0m \u001b[0mget_link\u001b[0m\u001b[0;34m(\u001b[0m\u001b[0murl\u001b[0m\u001b[0;34m,\u001b[0m \u001b[0mpage\u001b[0m\u001b[0;34m)\u001b[0m\u001b[0;34m:\u001b[0m\u001b[0;34m\u001b[0m\u001b[0;34m\u001b[0m\u001b[0m\n\u001b[0;32m----> 2\u001b[0;31m     \u001b[0mnofilter\u001b[0m \u001b[0;34m=\u001b[0m \u001b[0mget_company_nofilter\u001b[0m\u001b[0;34m(\u001b[0m\u001b[0murl\u001b[0m\u001b[0;34m)\u001b[0m\u001b[0;34m\u001b[0m\u001b[0;34m\u001b[0m\u001b[0m\n\u001b[0m\u001b[1;32m      3\u001b[0m     \u001b[0;32mreturn\u001b[0m \u001b[0mnofilter\u001b[0m \u001b[0;34m+\u001b[0m \u001b[0;34m'_IP'\u001b[0m \u001b[0;34m+\u001b[0m \u001b[0mstr\u001b[0m\u001b[0;34m(\u001b[0m\u001b[0mpage\u001b[0m\u001b[0;34m)\u001b[0m \u001b[0;34m+\u001b[0m \u001b[0mfilter_url\u001b[0m\u001b[0;34m\u001b[0m\u001b[0;34m\u001b[0m\u001b[0m\n",
      "\u001b[0;32m/var/folders/75/_lpdck312plbd86wrgx53dbc0000gn/T/ipykernel_5280/3153588982.py\u001b[0m in \u001b[0;36mget_company_nofilter\u001b[0;34m(url)\u001b[0m\n\u001b[1;32m      1\u001b[0m \u001b[0;32mdef\u001b[0m \u001b[0mget_company_nofilter\u001b[0m\u001b[0;34m(\u001b[0m\u001b[0murl\u001b[0m\u001b[0;34m)\u001b[0m\u001b[0;34m:\u001b[0m\u001b[0;34m\u001b[0m\u001b[0;34m\u001b[0m\u001b[0m\n\u001b[0;32m----> 2\u001b[0;31m     \u001b[0mhtm_index\u001b[0m \u001b[0;34m=\u001b[0m \u001b[0murl\u001b[0m\u001b[0;34m.\u001b[0m\u001b[0mindex\u001b[0m\u001b[0;34m(\u001b[0m\u001b[0;34m'.htm'\u001b[0m\u001b[0;34m)\u001b[0m\u001b[0;34m\u001b[0m\u001b[0;34m\u001b[0m\u001b[0m\n\u001b[0m\u001b[1;32m      3\u001b[0m     \u001b[0murl_nofilter\u001b[0m \u001b[0;34m=\u001b[0m \u001b[0murl\u001b[0m\u001b[0;34m[\u001b[0m\u001b[0;34m:\u001b[0m\u001b[0mhtm_index\u001b[0m\u001b[0;34m]\u001b[0m\u001b[0;34m\u001b[0m\u001b[0;34m\u001b[0m\u001b[0m\n\u001b[1;32m      4\u001b[0m     \u001b[0;32mreturn\u001b[0m \u001b[0murl_nofilter\u001b[0m\u001b[0;34m\u001b[0m\u001b[0;34m\u001b[0m\u001b[0m\n",
      "\u001b[0;31mAttributeError\u001b[0m: 'float' object has no attribute 'index'"
     ]
    }
   ],
   "source": [
    "def get_data(df):"
   ]
  },
  {
   "cell_type": "code",
   "execution_count": null,
   "id": "178aeeb2-9dbc-41c4-b518-2ded4ff6376f",
   "metadata": {},
   "outputs": [],
   "source": []
  }
 ],
 "metadata": {
  "kernelspec": {
   "display_name": "Python 3 (ipykernel)",
   "language": "python",
   "name": "python3"
  },
  "language_info": {
   "codemirror_mode": {
    "name": "ipython",
    "version": 3
   },
   "file_extension": ".py",
   "mimetype": "text/x-python",
   "name": "python",
   "nbconvert_exporter": "python",
   "pygments_lexer": "ipython3",
   "version": "3.9.7"
  }
 },
 "nbformat": 4,
 "nbformat_minor": 5
}
