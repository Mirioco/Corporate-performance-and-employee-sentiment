{
 "cells": [
  {
   "cell_type": "code",
   "execution_count": 1,
   "id": "77d2cac5-e3c3-4559-a29a-b452f3558f2b",
   "metadata": {},
   "outputs": [],
   "source": [
    "from selenium import webdriver\n",
    "from bs4 import BeautifulSoup"
   ]
  },
  {
   "cell_type": "code",
   "execution_count": 4,
   "id": "d6e00b0a-7549-43fe-b2b4-deeb42defa37",
   "metadata": {},
   "outputs": [],
   "source": [
    "driver = webdriver.Chrome('/Users/corentin/Documents/chromedriver')"
   ]
  },
  {
   "cell_type": "code",
   "execution_count": 6,
   "id": "a2b1d9bb-ab7f-4196-a1dd-f58c0f528566",
   "metadata": {},
   "outputs": [],
   "source": [
    "#For now you have to go on the website and login manually, haven't taken care of this yet.\n",
    "url= 'https://www.glassdoor.com/Reviews/Apple-Reviews-E1138.htm'\n",
    "driver.get(url)"
   ]
  },
  {
   "cell_type": "code",
   "execution_count": 7,
   "id": "056b4410-e683-47ec-852a-7f3116823b03",
   "metadata": {},
   "outputs": [],
   "source": [
    "soup = BeautifulSoup(driver.page_source, 'lxml')"
   ]
  },
  {
   "cell_type": "code",
   "execution_count": 8,
   "id": "cd958eb9-3f5b-4c8a-9caa-a3a162f1fc02",
   "metadata": {},
   "outputs": [],
   "source": [
    "# Postings on one page\n",
    "postings = soup.find_all('li', class_ = 'noBorder empReview cf pb-0 mb-0')"
   ]
  },
  {
   "cell_type": "code",
   "execution_count": 9,
   "id": "dfb56ab2-4270-4ff4-b4d0-9782d50642b5",
   "metadata": {},
   "outputs": [
    {
     "data": {
      "text/plain": [
       "<li class=\"noBorder empReview cf pb-0 mb-0\" data-brandviews=\"MODULE:n=reviews-reviewsPage-review:eid=1138:review_id=62183956\" id=\"empReview_62183956\"><div class=\"p-0 mb-0 mb-md-std css-w5wad1 gd-ui-module css-rntt2a ec4dwm00\"><div class=\"gdReview\"><div class=\"d-flex align-items-start justify-content-between pt-std px-std\"><div class=\"d-flex flex-column align-items-start\"><div class=\"css-1v8mtog eg4psks2\"><div class=\"d-flex align-items-center mb-0 mb-md-sm css-1x8nk7l eg4psks1\"><span class=\"ratingNumber mr-xsm\">5.0</span><div class=\"css-s88v13 e1hd5jg10\" font-size=\"sm\"><span class=\"gd-ui-star css-vk03c5 e7cj4650\" color=\"#0caa41\" font-size=\"sm\" role=\"presentation\" tabindex=\"0\">★</span><span class=\"gd-ui-star css-vk03c5 e7cj4650\" color=\"#0caa41\" font-size=\"sm\" role=\"presentation\" tabindex=\"0\">★</span><span class=\"gd-ui-star css-vk03c5 e7cj4650\" color=\"#0caa41\" font-size=\"sm\" role=\"presentation\" tabindex=\"0\">★</span><span class=\"gd-ui-star css-vk03c5 e7cj4650\" color=\"#0caa41\" font-size=\"sm\" role=\"presentation\" tabindex=\"0\">★</span><span class=\"gd-ui-star css-vk03c5 e7cj4650\" color=\"#0caa41\" font-size=\"sm\" role=\"presentation\" tabindex=\"0\">★</span></div></div></div><span class=\"pt-xsm pt-md-0 css-1qxtz39 eg4psks0\">Current Employee</span></div></div><div class=\"mt-xxsm\"><div class=\"mx-0\"><div class=\"px-std\"><h2 class=\"mb-xxsm mt-0 css-93svrw el6ke055\"><a class=\"reviewLink\" href=\"/Reviews/Employee-Review-Apple-RVW62183956.htm\">Work life balance</a></h2><span class=\"common__EiReviewDetailsStyle__newUiJobLine\"><span class=\"authorInfo\"><span class=\"authorJobTitle middle common__EiReviewDetailsStyle__newGrey\">Apr 2, 2022 - AME</span> </span></span><div><div class=\"d-flex my-std reviewBodyCell recommends css-1y3jl3a e1868oi10\"><div class=\"d-flex align-items-center mr-std\"><span class=\"SVGInline css-10xv9lv d-flex\"><svg class=\"SVGInline-svg css-10xv9lv-svg d-flex-svg\" height=\"24\" style=\"width: 24px;height: 24px;\" viewbox=\"0 0 24 24\" width=\"24\" xmlns=\"http://www.w3.org/2000/svg\"><circle cx=\"12\" cy=\"12\" fill=\"none\" r=\"7.5\" stroke=\"currentColor\" stroke-width=\"3\"></circle></svg></span><span class=\"common__EiReviewDetailsStyle__newGrey\">Recommend</span></div><div class=\"d-flex align-items-center mr-std\"><span class=\"SVGInline css-10xv9lv d-flex\"><svg class=\"SVGInline-svg css-10xv9lv-svg d-flex-svg\" height=\"24\" style=\"width: 24px;height: 24px;\" viewbox=\"0 0 24 24\" width=\"24\" xmlns=\"http://www.w3.org/2000/svg\"><circle cx=\"12\" cy=\"12\" fill=\"none\" r=\"7.5\" stroke=\"currentColor\" stroke-width=\"3\"></circle></svg></span><span class=\"common__EiReviewDetailsStyle__newGrey\">CEO Approval</span></div><div class=\"d-flex align-items-center mr-std\"><span class=\"SVGInline css-10xv9lv d-flex\"><svg class=\"SVGInline-svg css-10xv9lv-svg d-flex-svg\" height=\"24\" style=\"width: 24px;height: 24px;\" viewbox=\"0 0 24 24\" width=\"24\" xmlns=\"http://www.w3.org/2000/svg\"><circle cx=\"12\" cy=\"12\" fill=\"none\" r=\"7.5\" stroke=\"currentColor\" stroke-width=\"3\"></circle></svg></span><span class=\"common__EiReviewDetailsStyle__newGrey\">Business Outlook</span></div></div></div></div><div class=\"px-std\"><div class=\"v2__EIReviewDetailsV2__fullWidth\"><p class=\"mb-0 strong\">Pros</p><p class=\"mt-0 mb-0 pb v2__EIReviewDetailsV2__bodyColor v2__EIReviewDetailsV2__lineHeightLarge v2__EIReviewDetailsV2__isExpanded\"><span data-test=\"pros\">Challenge every day and work with good engineers</span></p></div><div class=\"v2__EIReviewDetailsV2__fullWidth\"><p class=\"mb-0 strong\">Cons</p><p class=\"mt-0 mb-0 pb v2__EIReviewDetailsV2__bodyColor v2__EIReviewDetailsV2__lineHeightLarge v2__EIReviewDetailsV2__isExpanded\"><span data-test=\"cons\">Work life balance not all the time</span></p></div><div class=\"row mt-xsm mx-0\"></div><div class=\"common__EiReviewDetailsStyle__socialHelpfulcontainer pt-std\">Be the first to find this review helpful</div><div class=\"justify-content-around justify-content-md-between my d-flex\"><div class=\"d-flex align-items-center common__EiReviewDetailsStyle__flexGrow1\"><button class=\"d-flex justify-content-center align-items-center mr-std common__EiReviewDetailsStyle__emptyButton common__EiReviewDetailsStyle__newGrey\" type=\"button\"><span class=\"SVGInline mr-xxsm d-flex common__EiReviewDetailsStyle__newIcons\"><svg class=\"SVGInline-svg mr-xxsm-svg d-flex-svg common__EiReviewDetailsStyle__newIcons-svg\" height=\"24\" viewbox=\"0 0 24 24\" width=\"24\" xmlns=\"http://www.w3.org/2000/svg\"><path d=\"M12 21a9 9 0 100-18 9 9 0 000 18zm0-19c5.523 0 10 4.477 10 10s-4.477 10-10 10S2 17.523 2 12 6.477 2 12 2zm4.243 12.243a6 6 0 01-8.486 0l-.707.707a7 7 0 009.9 0zM9 9a2 2 0 00-2 2h4a2 2 0 00-2-2zm6 0a2 2 0 00-2 2h4a2 2 0 00-2-2z\" fill=\"currentColor\" fill-rule=\"evenodd\"></path></svg></span><span class=\"\">Helpful</span></button><div class=\"d-flex css-m4cs32 e1mldt5s0\"><button class=\"d-flex p-xsm align-items-center css-vjvrmj css-cscs45 e1mldt5s1\"><span class=\"SVGInline d-flex css-vjvrmj\"><svg class=\"SVGInline-svg d-flex-svg css-vjvrmj-svg\" height=\"24\" viewbox=\"0 0 24 24\" width=\"24\" xmlns=\"http://www.w3.org/2000/svg\"><path d=\"M4 12v9h16v-9H4zm8-10l.033.003h.011a.503.503 0 01.012.002L12 2a.501.501 0 01.123.015c.004.003.008.004.012.005a.35.35 0 01.07.024l.012.007c.02.008.039.019.057.03l.026.02c.015.01.03.023.043.036l.012.012 4.95 4.95a.5.5 0 11-.707.706L12.5 3.707V12h-1v4.5a.5.5 0 00.41.492L12 17a.5.5 0 00.5-.5V12H16v-1h4a1 1 0 011 1v9a1 1 0 01-1 1H4a1 1 0 01-1-1v-9a1 1 0 011-1h4v1h3.5V3.71L7.406 7.805a.5.5 0 11-.707-.707l4.913-4.914a.5.5 0 01.34-.182c.005.002.01.002.014.001A.126.126 0 0112 2z\" fill=\"currentColor\" fill-rule=\"evenodd\"></path></svg></span><span class=\"css-icc17q el6ke0510\"><span class=\"ml-xxsm\">Share</span></span></button></div></div><div class=\"d-flex align-items-center\"><div class=\"css-14kt64j\"><span class=\"flagContent\" data-disp-type=\"review\" data-id=\"62183956\" data-member=\"false\" data-review-link=\"/Reviews/Employee-Review-Apple-RVW62183956.htm\" data-type=\"EMPLOYER_REVIEW\"><button class=\"px-0 mx-0 css-rn0r3s\" title=\"Flag as Inappropriate\" type=\"button\"><span class=\"SVGInline flag mr-xs\"><svg class=\"SVGInline-svg flag-svg mr-xs-svg\" height=\"24\" style=\"width: 30px;height: 24px;\" viewbox=\"0 0 24 24\" width=\"24\" xmlns=\"http://www.w3.org/2000/svg\"><path d=\"M9 2a9.3 9.3 0 00-4 1V2H4v20h1v-8c5.92-3.9 9.47 1.47 15 0V3c-4.17 1.1-7.21-1.09-11-1zm10 11.2c-1.38.22-2.65 0-5-.75l-.43-.13A13.8 13.8 0 009 11.54a7.45 7.45 0 00-4 1.26V4.2A7.71 7.71 0 019 3a16.39 16.39 0 014 .59h.14a14.42 14.42 0 005.86.64z\" fill=\"currentColor\" fill-rule=\"evenodd\"></path></svg></span><span class=\"SVGInline filled-flag mr-xs\"><svg class=\"SVGInline-svg filled-flag-svg mr-xs-svg\" height=\"24\" style=\"width: 30px;height: 24px;\" viewbox=\"0 0 24 24\" width=\"24\" xmlns=\"http://www.w3.org/2000/svg\"><path d=\"M9 2a9.3 9.3 0 00-4 1V2H4v20h1v-8c5.92-3.9 9.47 1.47 15 0V3c-4.17 1.1-7.21-1.09-11-1z\" fill=\"currentColor\" fill-rule=\"evenodd\"></path></svg></span><i class=\"hlpr\"></i><span class=\"css-w13sve\">Report</span><span class=\"css-bqyk8a\">Flag as Inappropriate</span></button></span></div></div></div></div></div></div></div></div></li>"
      ]
     },
     "execution_count": 9,
     "metadata": {},
     "output_type": "execute_result"
    }
   ],
   "source": [
    "postings[0]"
   ]
  },
  {
   "cell_type": "code",
   "execution_count": 30,
   "id": "f4a90528-0adf-46ae-9d54-42f095a1c9b3",
   "metadata": {},
   "outputs": [],
   "source": [
    "company_search = driver.find_element_by_xpath('//*[@id=\"sc.keyword\"]')"
   ]
  },
  {
   "cell_type": "code",
   "execution_count": 16,
   "id": "955127ff-fcd1-44f6-845f-9768ba0c199c",
   "metadata": {},
   "outputs": [],
   "source": [
    "from selenium.webdriver.common.keys import Keys"
   ]
  },
  {
   "cell_type": "code",
   "execution_count": 32,
   "id": "43f171f2-2e8e-4dfc-bd80-4b27ba806f48",
   "metadata": {},
   "outputs": [],
   "source": [
    "company_search.send_keys(Keys.COMMAND + \"a\")"
   ]
  },
  {
   "cell_type": "code",
   "execution_count": 31,
   "id": "6f14e7a7-3d0f-4cf8-8194-19e44a4b6f0d",
   "metadata": {},
   "outputs": [],
   "source": [
    "company_search.send_keys('microsoft')"
   ]
  },
  {
   "cell_type": "code",
   "execution_count": null,
   "id": "84efc143-efad-4a39-9034-a2816ffde7f9",
   "metadata": {},
   "outputs": [],
   "source": []
  }
 ],
 "metadata": {
  "kernelspec": {
   "display_name": "Python 3 (ipykernel)",
   "language": "python",
   "name": "python3"
  },
  "language_info": {
   "codemirror_mode": {
    "name": "ipython",
    "version": 3
   },
   "file_extension": ".py",
   "mimetype": "text/x-python",
   "name": "python",
   "nbconvert_exporter": "python",
   "pygments_lexer": "ipython3",
   "version": "3.9.7"
  }
 },
 "nbformat": 4,
 "nbformat_minor": 5
}
