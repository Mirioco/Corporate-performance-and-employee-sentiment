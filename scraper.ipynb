{
 "cells": [
  {
   "cell_type": "code",
   "execution_count": 151,
   "id": "2da9d361-e2ec-446f-922b-a4b345370065",
   "metadata": {},
   "outputs": [],
   "source": [
    "# Imports\n",
    "from selenium import webdriver\n",
    "from bs4 import BeautifulSoup\n",
    "from selenium.webdriver.common.keys import Keys\n",
    "from selenium.webdriver.common.action_chains import ActionChains\n",
    "\n",
    "import random\n",
    "import time\n",
    "import pandas as pd"
   ]
  },
  {
   "cell_type": "code",
   "execution_count": 152,
   "id": "f7493a80-001e-4eb1-8ddb-0643db4963f2",
   "metadata": {},
   "outputs": [],
   "source": [
    "# Get some links\n",
    "df = pd.read_csv('data/links_sample.csv')"
   ]
  },
  {
   "cell_type": "code",
   "execution_count": 153,
   "id": "c0f63fa0-3b9d-4942-ae38-b898049a18aa",
   "metadata": {},
   "outputs": [
    {
     "data": {
      "text/html": [
       "<div>\n",
       "<style scoped>\n",
       "    .dataframe tbody tr th:only-of-type {\n",
       "        vertical-align: middle;\n",
       "    }\n",
       "\n",
       "    .dataframe tbody tr th {\n",
       "        vertical-align: top;\n",
       "    }\n",
       "\n",
       "    .dataframe thead th {\n",
       "        text-align: right;\n",
       "    }\n",
       "</style>\n",
       "<table border=\"1\" class=\"dataframe\">\n",
       "  <thead>\n",
       "    <tr style=\"text-align: right;\">\n",
       "      <th></th>\n",
       "      <th>Unnamed: 0</th>\n",
       "      <th>company</th>\n",
       "      <th>link</th>\n",
       "    </tr>\n",
       "  </thead>\n",
       "  <tbody>\n",
       "    <tr>\n",
       "      <th>0</th>\n",
       "      <td>0</td>\n",
       "      <td>CARL ZEISS MEDITEC</td>\n",
       "      <td>https://fr.glassdoor.be/Avis/ZEISS-Group-Avis-...</td>\n",
       "    </tr>\n",
       "    <tr>\n",
       "      <th>1</th>\n",
       "      <td>1</td>\n",
       "      <td>HEIDELBERGCEMENT</td>\n",
       "      <td>https://fr.glassdoor.be/Avis/HeidelbergCement-...</td>\n",
       "    </tr>\n",
       "    <tr>\n",
       "      <th>2</th>\n",
       "      <td>2</td>\n",
       "      <td>RHEINMETALL</td>\n",
       "      <td>https://fr.glassdoor.be/Avis/Rheinmetall-Avis-...</td>\n",
       "    </tr>\n",
       "    <tr>\n",
       "      <th>3</th>\n",
       "      <td>3</td>\n",
       "      <td>NOKIA</td>\n",
       "      <td>https://fr.glassdoor.be/Avis/Nokia-Avis-E3494.htm</td>\n",
       "    </tr>\n",
       "    <tr>\n",
       "      <th>4</th>\n",
       "      <td>4</td>\n",
       "      <td>WORLDLINE</td>\n",
       "      <td>https://fr.glassdoor.be/Avis/Worldline-Avis-E2...</td>\n",
       "    </tr>\n",
       "  </tbody>\n",
       "</table>\n",
       "</div>"
      ],
      "text/plain": [
       "   Unnamed: 0             company  \\\n",
       "0           0  CARL ZEISS MEDITEC   \n",
       "1           1    HEIDELBERGCEMENT   \n",
       "2           2         RHEINMETALL   \n",
       "3           3               NOKIA   \n",
       "4           4           WORLDLINE   \n",
       "\n",
       "                                                link  \n",
       "0  https://fr.glassdoor.be/Avis/ZEISS-Group-Avis-...  \n",
       "1  https://fr.glassdoor.be/Avis/HeidelbergCement-...  \n",
       "2  https://fr.glassdoor.be/Avis/Rheinmetall-Avis-...  \n",
       "3  https://fr.glassdoor.be/Avis/Nokia-Avis-E3494.htm  \n",
       "4  https://fr.glassdoor.be/Avis/Worldline-Avis-E2...  "
      ]
     },
     "execution_count": 153,
     "metadata": {},
     "output_type": "execute_result"
    }
   ],
   "source": [
    "df.head()"
   ]
  },
  {
   "cell_type": "code",
   "execution_count": 154,
   "id": "ad47b8ea-09de-403e-87e7-673a39446f6b",
   "metadata": {},
   "outputs": [],
   "source": [
    "link = df[df['company'] == 'NOKIA']['link'].values[0]"
   ]
  },
  {
   "cell_type": "code",
   "execution_count": 155,
   "id": "8092edb6-e9bf-4e8a-ba74-9d8c10d9de4b",
   "metadata": {},
   "outputs": [
    {
     "data": {
      "text/plain": [
       "'https://fr.glassdoor.be/Avis/Nokia-Avis-E3494.htm'"
      ]
     },
     "execution_count": 155,
     "metadata": {},
     "output_type": "execute_result"
    }
   ],
   "source": [
    "link"
   ]
  },
  {
   "cell_type": "code",
   "execution_count": 156,
   "id": "9f476bb5-d232-49a2-a7c5-4981580d9c32",
   "metadata": {},
   "outputs": [],
   "source": [
    "# Set up\n",
    "driver = webdriver.Chrome('/Users/corentin/Documents/chromedriver')\n",
    "url = link\n",
    "driver.get(url)\n",
    "time.sleep(random.uniform(2, 4))"
   ]
  },
  {
   "cell_type": "code",
   "execution_count": 160,
   "id": "c740b56a-cf2d-4380-8524-05e95801ace5",
   "metadata": {},
   "outputs": [],
   "source": [
    "# Set site language to english \n",
    "language_choice = driver.find_element_by_xpath('//*[@id=\"Footer\"]/nav/ul[2]/li[3]/div/div/div[1]')\n",
    "language_choice.click()\n",
    "time.sleep(random.uniform(2, 4))\n",
    "# Scrolls down to not get intercepted by \"accept cookies\" overlay\n",
    "driver.execute_script('window.scrollTo(0, document.body.scrollHeight)')\n",
    "united_kindom = driver.find_element_by_xpath('//*[@id=\"option_21_b7d310c-1662-e250-a384-68de1d28e4a\"]/span')\n",
    "united_kindom.click()\n",
    "time.sleep(random.uniform(2, 4))"
   ]
  },
  {
   "cell_type": "code",
   "execution_count": 161,
   "id": "6265175d-4ce6-46a0-a836-c04f0a14a732",
   "metadata": {},
   "outputs": [],
   "source": [
    "# Get only english reviews\n",
    "filter_button = driver.find_element_by_xpath('//*[@id=\"MainContent\"]/div/div[1]/div[1]/div[1]/div/div[1]/div[2]/div[2]/button/span')\n",
    "filter_button.click()\n",
    "time.sleep(random.uniform(2, 4))\n",
    "language_button = driver.find_element_by_xpath('//*[@id=\"MainContent\"]/div/div[1]/div[1]/div[1]/div/div[1]/div[3]/div[2]/div[2]/div/div[1]')\n",
    "language_button.click()\n",
    "time.sleep(random.uniform(2, 4))\n",
    "english = driver.find_element_by_xpath('//*[@id=\"option_eng\"]')\n",
    "english.click()\n",
    "time.sleep(random.uniform(2, 4))"
   ]
  },
  {
   "cell_type": "code",
   "execution_count": 164,
   "id": "b661336b-a04e-4f41-8404-a2993e740ef3",
   "metadata": {},
   "outputs": [],
   "source": [
    "# Start with most recent reviews\n",
    "freshness_button = driver.find_element_by_xpath('//*[@id=\"MainContent\"]/div/div[1]/div[1]/div[2]/div/span/div/div/div[1]')\n",
    "freshness_button.click()\n",
    "time.sleep(random.uniform(2, 4))\n",
    "most_recent = driver.find_element_by_xpath('//*[@id=\"option_DATE\"]')\n",
    "most_recent.click()\n",
    "time.sleep(random.uniform(2, 4))"
   ]
  },
  {
   "cell_type": "code",
   "execution_count": 171,
   "id": "7470af8d-07da-4eb7-9f78-009f880ec991",
   "metadata": {},
   "outputs": [],
   "source": [
    "# Get postings on a single page\n",
    "soup = BeautifulSoup(driver.page_source, 'lxml')\n",
    "# First and other nince reviews have different classes\n",
    "first_posting = soup.find_all('li', class_ = 'empReview cf pb-0 mb-0')\n",
    "next_postings = soup.find_all('li', class_ = 'noBorder empReview cf pb-0 mb-0')\n",
    "# Extending first_posting with the nine other and renaming the variable adequatly\n",
    "first_posting.extend(next_postings)\n",
    "postings = first_posting"
   ]
  },
  {
   "cell_type": "code",
   "execution_count": 172,
   "id": "d219e71a-70c0-45b7-ae50-4db10572ad31",
   "metadata": {},
   "outputs": [],
   "source": [
    "# Get rating on a single post\n",
    "main_score = postings[0].find('span', class_ = 'ratingNumber mr-xsm').string"
   ]
  },
  {
   "cell_type": "code",
   "execution_count": 183,
   "id": "2dc806ad-8a01-42cb-8f96-6c097158d283",
   "metadata": {},
   "outputs": [
    {
     "name": "stdout",
     "output_type": "stream",
     "text": [
      "['****', '****', '****', '****', '***', '****']\n"
     ]
    }
   ],
   "source": [
    "# Get subratings on a single post\n",
    "rating_categories = postings[0].find('div', class_ = 'content')\n",
    "sub_ratings = rating_categories.find_all('li') # Each rating has a different class, it's the only way to differentiate\n",
    "rating_classes = {'css-xd4dom': '*',\n",
    "               'css-18v8tui': '**',\n",
    "               'css-vl2edp': '***',\n",
    "               'css-1nuumx7': '****',\n",
    "               'css-s88v13': '*****'}\n",
    "subcategories = ['work_life_balance', \n",
    "                 'culture_and_values', \n",
    "                 'diversity_and_inclusion', \n",
    "                 'career_opportunities',\n",
    "                 'compensation_and_benefits',\n",
    "                 'senior_management']\n",
    "ratings = []\n",
    "for sub_rating in sub_ratings:\n",
    "    rating_class = sub_rating.find_all('div')[1]['class'][0]\n",
    "    rating = rating_classes[rating_class]\n",
    "    ratings.append(rating)\n",
    "print(ratings)"
   ]
  },
  {
   "cell_type": "code",
   "execution_count": null,
   "id": "ff25f73a-b79e-4456-aef0-e5aa9ea2958e",
   "metadata": {},
   "outputs": [],
   "source": []
  },
  {
   "cell_type": "code",
   "execution_count": null,
   "id": "4f860507-fac0-44d2-8b1f-7b9c6a831356",
   "metadata": {},
   "outputs": [],
   "source": []
  },
  {
   "cell_type": "code",
   "execution_count": null,
   "id": "7f3adfda-1070-4a45-a4f2-3cde15114d27",
   "metadata": {},
   "outputs": [],
   "source": []
  },
  {
   "cell_type": "code",
   "execution_count": null,
   "id": "e38d3bcd-cd3a-42d7-aab9-e26f9d31fef0",
   "metadata": {},
   "outputs": [],
   "source": []
  },
  {
   "cell_type": "code",
   "execution_count": 165,
   "id": "679d804b-02da-48f0-9cab-db3fe1379cb7",
   "metadata": {},
   "outputs": [],
   "source": [
    "driver.execute_script(\"\"\"\n",
    "javascript:(function(){\n",
    "  document.getElementsByClassName('hardsellOverlay')[0].remove();\n",
    "  document.getElementsByTagName(\"body\")[0].style.overflow = \"scroll\";\n",
    "  let style = document.createElement('style');\n",
    "  style.innerHTML = `\n",
    "    #LoginModal {\n",
    "      display: none!important;\n",
    "    }\n",
    "  `;\n",
    "  document.head.appendChild(style);\n",
    "  window.addEventListener(\"scroll\", function (event) {\n",
    "    event.stopPropagation();\n",
    "  }, true);\n",
    "})();\n",
    "\"\"\")"
   ]
  },
  {
   "cell_type": "code",
   "execution_count": null,
   "id": "582aab1d-0588-4893-9215-305fcf76ade5",
   "metadata": {},
   "outputs": [],
   "source": []
  }
 ],
 "metadata": {
  "kernelspec": {
   "display_name": "Python 3 (ipykernel)",
   "language": "python",
   "name": "python3"
  },
  "language_info": {
   "codemirror_mode": {
    "name": "ipython",
    "version": 3
   },
   "file_extension": ".py",
   "mimetype": "text/x-python",
   "name": "python",
   "nbconvert_exporter": "python",
   "pygments_lexer": "ipython3",
   "version": "3.9.7"
  }
 },
 "nbformat": 4,
 "nbformat_minor": 5
}
