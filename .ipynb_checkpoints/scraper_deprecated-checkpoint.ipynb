{
 "cells": [
  {
   "cell_type": "code",
   "execution_count": 89,
   "id": "2da9d361-e2ec-446f-922b-a4b345370065",
   "metadata": {},
   "outputs": [],
   "source": [
    "# Imports\n",
    "from selenium import webdriver\n",
    "from bs4 import BeautifulSoup\n",
    "from selenium.webdriver.common.keys import Keys\n",
    "from selenium.webdriver.common.action_chains import ActionChains\n",
    "\n",
    "import random\n",
    "import time\n",
    "import pandas as pd"
   ]
  },
  {
   "cell_type": "code",
   "execution_count": 90,
   "id": "f7493a80-001e-4eb1-8ddb-0643db4963f2",
   "metadata": {},
   "outputs": [],
   "source": [
    "# Get some links\n",
    "df = pd.read_csv('data/links_sample.csv')"
   ]
  },
  {
   "cell_type": "code",
   "execution_count": 91,
   "id": "c0f63fa0-3b9d-4942-ae38-b898049a18aa",
   "metadata": {},
   "outputs": [
    {
     "data": {
      "text/html": [
       "<div>\n",
       "<style scoped>\n",
       "    .dataframe tbody tr th:only-of-type {\n",
       "        vertical-align: middle;\n",
       "    }\n",
       "\n",
       "    .dataframe tbody tr th {\n",
       "        vertical-align: top;\n",
       "    }\n",
       "\n",
       "    .dataframe thead th {\n",
       "        text-align: right;\n",
       "    }\n",
       "</style>\n",
       "<table border=\"1\" class=\"dataframe\">\n",
       "  <thead>\n",
       "    <tr style=\"text-align: right;\">\n",
       "      <th></th>\n",
       "      <th>Unnamed: 0</th>\n",
       "      <th>company</th>\n",
       "      <th>link</th>\n",
       "    </tr>\n",
       "  </thead>\n",
       "  <tbody>\n",
       "    <tr>\n",
       "      <th>0</th>\n",
       "      <td>0</td>\n",
       "      <td>CARL ZEISS MEDITEC</td>\n",
       "      <td>https://fr.glassdoor.be/Avis/ZEISS-Group-Avis-...</td>\n",
       "    </tr>\n",
       "    <tr>\n",
       "      <th>1</th>\n",
       "      <td>1</td>\n",
       "      <td>HEIDELBERGCEMENT</td>\n",
       "      <td>https://fr.glassdoor.be/Avis/HeidelbergCement-...</td>\n",
       "    </tr>\n",
       "    <tr>\n",
       "      <th>2</th>\n",
       "      <td>2</td>\n",
       "      <td>RHEINMETALL</td>\n",
       "      <td>https://fr.glassdoor.be/Avis/Rheinmetall-Avis-...</td>\n",
       "    </tr>\n",
       "    <tr>\n",
       "      <th>3</th>\n",
       "      <td>3</td>\n",
       "      <td>NOKIA</td>\n",
       "      <td>https://fr.glassdoor.be/Avis/Nokia-Avis-E3494.htm</td>\n",
       "    </tr>\n",
       "    <tr>\n",
       "      <th>4</th>\n",
       "      <td>4</td>\n",
       "      <td>WORLDLINE</td>\n",
       "      <td>https://fr.glassdoor.be/Avis/Worldline-Avis-E2...</td>\n",
       "    </tr>\n",
       "  </tbody>\n",
       "</table>\n",
       "</div>"
      ],
      "text/plain": [
       "   Unnamed: 0             company  \\\n",
       "0           0  CARL ZEISS MEDITEC   \n",
       "1           1    HEIDELBERGCEMENT   \n",
       "2           2         RHEINMETALL   \n",
       "3           3               NOKIA   \n",
       "4           4           WORLDLINE   \n",
       "\n",
       "                                                link  \n",
       "0  https://fr.glassdoor.be/Avis/ZEISS-Group-Avis-...  \n",
       "1  https://fr.glassdoor.be/Avis/HeidelbergCement-...  \n",
       "2  https://fr.glassdoor.be/Avis/Rheinmetall-Avis-...  \n",
       "3  https://fr.glassdoor.be/Avis/Nokia-Avis-E3494.htm  \n",
       "4  https://fr.glassdoor.be/Avis/Worldline-Avis-E2...  "
      ]
     },
     "execution_count": 91,
     "metadata": {},
     "output_type": "execute_result"
    }
   ],
   "source": [
    "df.head()"
   ]
  },
  {
   "cell_type": "code",
   "execution_count": 92,
   "id": "ad47b8ea-09de-403e-87e7-673a39446f6b",
   "metadata": {},
   "outputs": [],
   "source": [
    "link = df[df['company'] == 'NOKIA']['link'].values[0]"
   ]
  },
  {
   "cell_type": "code",
   "execution_count": 93,
   "id": "8092edb6-e9bf-4e8a-ba74-9d8c10d9de4b",
   "metadata": {},
   "outputs": [
    {
     "data": {
      "text/plain": [
       "'https://fr.glassdoor.be/Avis/Nokia-Avis-E3494.htm'"
      ]
     },
     "execution_count": 93,
     "metadata": {},
     "output_type": "execute_result"
    }
   ],
   "source": [
    "link"
   ]
  },
  {
   "cell_type": "code",
   "execution_count": 95,
   "id": "9f476bb5-d232-49a2-a7c5-4981580d9c32",
   "metadata": {},
   "outputs": [],
   "source": [
    "# Set up\n",
    "driver = webdriver.Chrome('/Users/corentin/Documents/chromedriver')\n",
    "url = link\n",
    "driver.get(url)\n",
    "time.sleep(random.uniform(2, 4))\n",
    "# Setting window size to make sure the scrolls get to where they are supposed to\n",
    "driver.set_window_size(1920, 1080)"
   ]
  },
  {
   "cell_type": "code",
   "execution_count": 21,
   "id": "c740b56a-cf2d-4380-8524-05e95801ace5",
   "metadata": {},
   "outputs": [],
   "source": [
    "# Set site language to english \n",
    "time.sleep(random.uniform(2, 4))\n",
    "driver.execute_script('window.scrollTo(0, document.body.scrollHeight)')\n",
    "language_choice = driver.find_element_by_xpath('//*[@id=\"Footer\"]/nav/ul[2]/li[3]/div/div/div[1]')\n",
    "language_choice.click()\n",
    "time.sleep(random.uniform(2, 4))\n",
    "# Scrolls down to not get intercepted by \"accept cookies\" overlay, window has to be big enough for it to be able to see the choice and not be blocked by cookies thing\n",
    "united_kingdom = driver.find_element_by_xpath('//*[@id=\"option_21_dfbe571-c441-7ca0-202-28ef7302fa25\"]')\n",
    "united_kingdom.click()\n",
    "time.sleep(random.uniform(2, 4))"
   ]
  },
  {
   "cell_type": "code",
   "execution_count": 22,
   "id": "6265175d-4ce6-46a0-a836-c04f0a14a732",
   "metadata": {},
   "outputs": [],
   "source": [
    "# Get only english reviews\n",
    "filter_button = driver.find_element_by_xpath('//*[@id=\"MainContent\"]/div/div[1]/div[1]/div[1]/div/div[1]/div[2]/div[2]/button/span')\n",
    "filter_button.click()\n",
    "time.sleep(random.uniform(2, 4))\n",
    "language_button = driver.find_element_by_xpath('//*[@id=\"MainContent\"]/div/div[1]/div[1]/div[1]/div/div[1]/div[3]/div[2]/div[2]/div/div[1]')\n",
    "language_button.click()\n",
    "time.sleep(random.uniform(2, 4))\n",
    "english = driver.find_element_by_xpath('//*[@id=\"option_eng\"]')\n",
    "english.click()\n",
    "time.sleep(random.uniform(2, 4))"
   ]
  },
  {
   "cell_type": "code",
   "execution_count": 26,
   "id": "b661336b-a04e-4f41-8404-a2993e740ef3",
   "metadata": {},
   "outputs": [],
   "source": [
    "# Start with most recent reviews\n",
    "driver.execute_script('window.scrollTo(0, 450)')\n",
    "freshness_button = driver.find_element_by_xpath('//*[@id=\"MainContent\"]/div/div[1]/div[1]/div[2]/div/span/div/div/div[1]')\n",
    "freshness_button.click()\n",
    "time.sleep(random.uniform(2, 4))\n",
    "most_recent = driver.find_element_by_xpath('//*[@id=\"option_DATE\"]')\n",
    "most_recent.click()\n",
    "time.sleep(random.uniform(2, 4))"
   ]
  },
  {
   "cell_type": "code",
   "execution_count": 98,
   "id": "1c537146-a129-4987-b635-c7f888c1bb44",
   "metadata": {},
   "outputs": [],
   "source": [
    "soup = BeautifulSoup(driver.page_source, 'lxml')"
   ]
  },
  {
   "cell_type": "code",
   "execution_count": 99,
   "id": "7470af8d-07da-4eb7-9f78-009f880ec991",
   "metadata": {},
   "outputs": [],
   "source": [
    "# Get postings on a single page\n",
    "# First and other nince reviews have different classes\n",
    "first_posting = soup.find_all('li', class_ = 'empReview cf pb-0 mb-0')\n",
    "next_postings = soup.find_all('li', class_ = 'noBorder empReview cf pb-0 mb-0')\n",
    "# Extending first_posting with the nine other and renaming the variable adequatly\n",
    "first_posting.extend(next_postings)\n",
    "postings = first_posting"
   ]
  },
  {
   "cell_type": "code",
   "execution_count": 29,
   "id": "d219e71a-70c0-45b7-ae50-4db10572ad31",
   "metadata": {},
   "outputs": [],
   "source": [
    "# Get rating on a single post\n",
    "main_score = postings[0].find('span', class_ = 'ratingNumber mr-xsm').string"
   ]
  },
  {
   "cell_type": "code",
   "execution_count": 100,
   "id": "2dc806ad-8a01-42cb-8f96-6c097158d283",
   "metadata": {},
   "outputs": [
    {
     "name": "stdout",
     "output_type": "stream",
     "text": [
      "['***', '***', '***', '***', '***', '**']\n"
     ]
    }
   ],
   "source": [
    "# Get subratings on a single post (Not on every post, use a try)\n",
    "rating_categories = postings[3].find('div', class_ = 'content')\n",
    "sub_ratings = rating_categories.find_all('li') # Each rating has a different class, it's the only way to differentiate\n",
    "rating_classes = {'css-xd4dom': '*',\n",
    "               'css-18v8tui': '**',\n",
    "               'css-vl2edp': '***',\n",
    "               'css-1nuumx7': '****',\n",
    "               'css-s88v13': '*****'}\n",
    "subcategories = ['Work/Life Balance',\n",
    "                 'Culture & Values',\n",
    "                 'Diversity & Inclusion',\n",
    "                 'Career Opportunities',\n",
    "                 'Compensation and Benefits',\n",
    "                 'Senior Management']\n",
    "ratings = []\n",
    "for sub_rating in sub_ratings:\n",
    "    rating_class = sub_rating.find_all('div')[1]['class'][0]\n",
    "    rating = rating_classes[rating_class]\n",
    "    ratings.append(rating)\n",
    "print(ratings)"
   ]
  },
  {
   "cell_type": "code",
   "execution_count": null,
   "id": "071b0bcf-237c-4d49-837b-304ff9b1222a",
   "metadata": {},
   "outputs": [],
   "source": []
  },
  {
   "cell_type": "code",
   "execution_count": 101,
   "id": "b7071f4f-badf-4dc8-a2fb-841c9456fdf4",
   "metadata": {},
   "outputs": [],
   "source": [
    "categogos = []\n",
    "for sub_rating in sub_ratings:\n",
    "    category = sub_rating.find_all('div')[0].string\n",
    "    categogos.append(category)\n",
    "    #rating = sub_rating.find_all('div')[1]['class'][0]"
   ]
  },
  {
   "cell_type": "code",
   "execution_count": 102,
   "id": "6c900cfa-62fb-4bc6-ab5a-fd0d78f25781",
   "metadata": {},
   "outputs": [
    {
     "data": {
      "text/plain": [
       "['Work/Life Balance',\n",
       " 'Culture & Values',\n",
       " 'Diversity & Inclusion',\n",
       " 'Career Opportunities',\n",
       " 'Compensation and Benefits',\n",
       " 'Senior Management']"
      ]
     },
     "execution_count": 102,
     "metadata": {},
     "output_type": "execute_result"
    }
   ],
   "source": [
    "categogos"
   ]
  },
  {
   "cell_type": "code",
   "execution_count": 41,
   "id": "7f3adfda-1070-4a45-a4f2-3cde15114d27",
   "metadata": {},
   "outputs": [
    {
     "data": {
      "text/plain": [
       "'Current Employee, more than 8 years'"
      ]
     },
     "execution_count": 41,
     "metadata": {},
     "output_type": "execute_result"
    }
   ],
   "source": [
    "# Get status for a single post\n",
    "status = postings[0].find('span', class_ = 'pt-xsm pt-md-0 css-1qxtz39 eg4psks0').string"
   ]
  },
  {
   "cell_type": "code",
   "execution_count": 43,
   "id": "19b6760c-db79-4a7d-8ead-65b7c6baeeb4",
   "metadata": {},
   "outputs": [
    {
     "data": {
      "text/plain": [
       "'Good company to work'"
      ]
     },
     "execution_count": 43,
     "metadata": {},
     "output_type": "execute_result"
    }
   ],
   "source": [
    "# Get general opinion for a sigle post\n",
    "general_opinion = postings[0].find('h2', class_ = 'mb-xxsm mt-0 css-93svrw el6ke055').string"
   ]
  },
  {
   "cell_type": "code",
   "execution_count": 46,
   "id": "e0fbc5e3-99b7-4c37-82a4-f0958b69034f",
   "metadata": {},
   "outputs": [
    {
     "data": {
      "text/plain": [
       "'20 Apr 2022 - Performance Analyst'"
      ]
     },
     "execution_count": 46,
     "metadata": {},
     "output_type": "execute_result"
    }
   ],
   "source": [
    "date_and_job = postings[0].find('span', class_ = 'authorJobTitle middle common__EiReviewDetailsStyle__newGrey').string"
   ]
  },
  {
   "cell_type": "code",
   "execution_count": 65,
   "id": "2522b202-200d-4a7f-81cd-7fc5f482f1cc",
   "metadata": {},
   "outputs": [
    {
     "name": "stdout",
     "output_type": "stream",
     "text": [
      "O\n",
      "X\n",
      "-\n"
     ]
    }
   ],
   "source": [
    "# Get shapes for Recommend, CEO approval, Business outlook for a single post\n",
    "shape_styles = {'css-10xv9lv-svg': 'O',\n",
    "         'css-1kiw93k-svg': 'X',\n",
    "         'css-1h93d4v-svg': '-',\n",
    "         'css-hcqxoa-svg': 'V'}\n",
    "bar_shapes = postings[9].find('div', class_ = 'd-flex my-std reviewBodyCell recommends css-1y3jl3a e1868oi10')\n",
    "for element in  bar_shapes.find_all('svg'):\n",
    "    shape = shape_styles[element['class'][1]]\n",
    "    print(shape)"
   ]
  },
  {
   "cell_type": "code",
   "execution_count": 69,
   "id": "c8177095-1a4b-4fdc-9f64-bb5429be2e41",
   "metadata": {},
   "outputs": [
    {
     "name": "stdout",
     "output_type": "stream",
     "text": [
      "Good work environment\n",
      "Work life balance Line managers with bad culture, cocky behavior and with no technical background. They do not care for work life balance of engineers and their technical path. Much politics and salaries below the average. Managers seems to be the boss here.\n"
     ]
    }
   ],
   "source": [
    "# Get pros and cons for a single post\n",
    "pros = postings[0].find('span', {'data-test': 'pros'}).string\n",
    "cons = postings[9].find('span', {'data-test': 'cons'}).string\n",
    "print(pros, cons)"
   ]
  },
  {
   "cell_type": "code",
   "execution_count": null,
   "id": "bfd68e16-e6cf-499d-9dcc-ad50a5e55c9b",
   "metadata": {},
   "outputs": [],
   "source": []
  },
  {
   "cell_type": "code",
   "execution_count": null,
   "id": "6e853ed7-18b1-400c-a400-4f889871c7ec",
   "metadata": {},
   "outputs": [],
   "source": []
  },
  {
   "cell_type": "code",
   "execution_count": null,
   "id": "b9e8e92e-0ef8-4673-b0d8-0e642012e62e",
   "metadata": {},
   "outputs": [],
   "source": []
  },
  {
   "cell_type": "code",
   "execution_count": null,
   "id": "076b350e-b87c-415a-a9f3-154c3c07337d",
   "metadata": {},
   "outputs": [],
   "source": []
  },
  {
   "cell_type": "code",
   "execution_count": null,
   "id": "2f6d7493-b054-422f-a22d-e7fbe731e2f9",
   "metadata": {},
   "outputs": [],
   "source": []
  },
  {
   "cell_type": "code",
   "execution_count": 97,
   "id": "679d804b-02da-48f0-9cab-db3fe1379cb7",
   "metadata": {},
   "outputs": [],
   "source": [
    "driver.execute_script(\"\"\"\n",
    "javascript:(function(){\n",
    "  document.getElementsByClassName('hardsellOverlay')[0].remove();\n",
    "  document.getElementsByTagName(\"body\")[0].style.overflow = \"scroll\";\n",
    "  let style = document.createElement('style');\n",
    "  style.innerHTML = `\n",
    "    #LoginModal {\n",
    "      display: none!important;\n",
    "    }\n",
    "  `;\n",
    "  document.head.appendChild(style);\n",
    "  window.addEventListener(\"scroll\", function (event) {\n",
    "    event.stopPropagation();\n",
    "  }, true);\n",
    "})();\n",
    "\"\"\")"
   ]
  },
  {
   "cell_type": "code",
   "execution_count": null,
   "id": "582aab1d-0588-4893-9215-305fcf76ade5",
   "metadata": {},
   "outputs": [],
   "source": []
  }
 ],
 "metadata": {
  "kernelspec": {
   "display_name": "Python 3 (ipykernel)",
   "language": "python",
   "name": "python3"
  },
  "language_info": {
   "codemirror_mode": {
    "name": "ipython",
    "version": 3
   },
   "file_extension": ".py",
   "mimetype": "text/x-python",
   "name": "python",
   "nbconvert_exporter": "python",
   "pygments_lexer": "ipython3",
   "version": "3.9.7"
  }
 },
 "nbformat": 4,
 "nbformat_minor": 5
}
