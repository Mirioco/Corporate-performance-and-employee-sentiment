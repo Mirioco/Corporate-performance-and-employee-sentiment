{
 "cells": [
  {
   "cell_type": "code",
   "execution_count": 124,
   "id": "7bc52c42-b46f-4867-a2a4-2c5963d76543",
   "metadata": {},
   "outputs": [],
   "source": [
    "import dash\n",
    "import pandas as pd\n",
    "import numpy as np\n",
    "import random\n",
    "from datetime import datetime, date\n",
    "import matplotlib.pyplot as plt\n",
    "import itertools # For slicing dictionaries\n",
    "\n",
    "# For interactive components like graphs, dropdowns, or date ranges.\n",
    "from dash import dcc \n",
    "# For HTML tags\n",
    "from dash import html\n",
    "from dash.dependencies import Input, Output\n",
    "\n",
    "# Text analysis\n",
    "import nltk\n",
    "from nltk.corpus import stopwords\n",
    "from nltk.sentiment.vader import SentimentIntensityAnalyzer #For social media text sentiment\n",
    "from gensim.utils import simple_preprocess\n",
    "from collections import Counter\n",
    "\n",
    "# For graphics\n",
    "import plotly\n",
    "import plotly.express as px \n",
    "import plotly.graph_objs as go\n",
    "from plotly.offline import plot\n",
    "from plotly.subplots import make_subplots #For subplots\n",
    "\n",
    "external_stylesheets = ['https://codepen.io/chriddyp/pen/bWLwgP.css']"
   ]
  },
  {
   "cell_type": "code",
   "execution_count": 2,
   "id": "9b9585cf-954c-473e-9092-29cdebbac0d9",
   "metadata": {},
   "outputs": [],
   "source": [
    "#Get data\n",
    "df = pd.read_csv('data/combined_reviews.csv', index_col=0)"
   ]
  },
  {
   "cell_type": "code",
   "execution_count": 3,
   "id": "f0cf53b1-65e7-4117-a372-ee0d91b0fa27",
   "metadata": {},
   "outputs": [],
   "source": [
    "#Rename index\n",
    "df.index.name = 'date'"
   ]
  },
  {
   "cell_type": "code",
   "execution_count": 4,
   "id": "9d7f3528-01bd-4ace-a0eb-fe9e079b5323",
   "metadata": {},
   "outputs": [],
   "source": [
    "#Convert to datetime.index\n",
    "df.index = pd.to_datetime(df.index)"
   ]
  },
  {
   "cell_type": "markdown",
   "id": "41eb5fae-c6b5-4786-9b81-4e6d437b8515",
   "metadata": {},
   "source": [
    "### Exclude companies with too litle reviews"
   ]
  },
  {
   "cell_type": "code",
   "execution_count": 5,
   "id": "d2e88f5b-ea8b-4a75-801e-9f384b39aa59",
   "metadata": {},
   "outputs": [
    {
     "name": "stdout",
     "output_type": "stream",
     "text": [
      "company\n",
      "accenture           140\n",
      "alter_domus          44\n",
      "bain_and_company     68\n",
      "belfius              13\n",
      "bnp_paribas          24\n",
      "deloitte            491\n",
      "ey                  287\n",
      "kbc                  39\n",
      "kpmg                191\n",
      "mckinsey             38\n",
      "odoo                 36\n",
      "pwc                 371\n",
      "Name: main_rating, dtype: int64\n"
     ]
    }
   ],
   "source": [
    "# Exclude from analysis companies with too litle reviews\n",
    "print(df.groupby('company')['main_rating'].count())\n",
    "df = df[df['company'].isin(['accenture', 'deloitte', 'ey', 'kpmg', 'pwc', 'bain_and_company'])]"
   ]
  },
  {
   "cell_type": "code",
   "execution_count": 6,
   "id": "a7aee5ac-d9b3-4037-b1ed-c74fced98518",
   "metadata": {},
   "outputs": [],
   "source": [
    "df_original = df.copy() # For visu 2\n",
    "df_text = df.copy() # For visu 3 review level\n",
    "df_text2 = df.copy() # For visu 3 company level"
   ]
  },
  {
   "cell_type": "markdown",
   "id": "b2536734-bb87-42ea-bd9b-a900049e29f5",
   "metadata": {},
   "source": [
    "### Visualization 1: Star ratings over time data prep"
   ]
  },
  {
   "cell_type": "markdown",
   "id": "405dc4c0-b0ec-4e03-a127-a92e568bdd42",
   "metadata": {},
   "source": [
    "We want to plot monthly, so we add a column month_dates. \n",
    "(Groupby does not work bc we need to groupby company and month and then it is multi-index which is hell)"
   ]
  },
  {
   "cell_type": "code",
   "execution_count": 7,
   "id": "ef988bb6-bd42-4ed0-a7b6-0a65a8551d18",
   "metadata": {},
   "outputs": [],
   "source": [
    "def get_month(date):\n",
    "    \"\"\"\n",
    "    Takes a timestamp and returns in what year and month it is but all values in a given month happend the first\n",
    "    \"\"\"\n",
    "    return datetime(date.year, date.month, 1)\n",
    "df['month_dates'] = df.index.map(get_month)"
   ]
  },
  {
   "cell_type": "code",
   "execution_count": 8,
   "id": "f1228676-29a0-42cb-8221-a593c9bbad37",
   "metadata": {},
   "outputs": [],
   "source": [
    "#monthly_mean_ratings = df.groupby(['company',pd.PeriodIndex(df.index, freq=\"M\")])[star_columns].mean()"
   ]
  },
  {
   "cell_type": "markdown",
   "id": "6c54468a-7c5d-4eac-be9e-d6854ad7b59c",
   "metadata": {},
   "source": [
    "Now that we have the months we can groupby and take the monthly mean"
   ]
  },
  {
   "cell_type": "code",
   "execution_count": 9,
   "id": "e8cc0370-0621-4bbd-999d-12cd302d2893",
   "metadata": {},
   "outputs": [],
   "source": [
    "star_columns = ['main_rating', 'Work/Life Balance', 'Culture & Values', 'Diversity & Inclusion', 'Career Opportunities', 'Compensation and Benefits', 'Senior Management']"
   ]
  },
  {
   "cell_type": "code",
   "execution_count": 10,
   "id": "67ca0366-2b6f-4a14-99ba-2cc8936afc7b",
   "metadata": {},
   "outputs": [],
   "source": [
    "monthly_mean_ratings = df.groupby(['company', 'month_dates'])[star_columns].mean()"
   ]
  },
  {
   "cell_type": "code",
   "execution_count": 11,
   "id": "3612eb6a-c793-49a5-b490-16c6d573ca4f",
   "metadata": {},
   "outputs": [],
   "source": [
    "monthly_mean_ratings.reset_index(inplace=True)"
   ]
  },
  {
   "cell_type": "markdown",
   "id": "be7f110e-b20e-4b47-b7a9-c9d5889a9b5c",
   "metadata": {},
   "source": [
    "Here we want to take the rolling average over 3months. The best way I found was to split into different dataframes first"
   ]
  },
  {
   "cell_type": "code",
   "execution_count": 12,
   "id": "f42f7ad3-dfbb-4ff9-9308-33f93c687ca6",
   "metadata": {},
   "outputs": [],
   "source": [
    "companies = monthly_mean_ratings['company'].unique()"
   ]
  },
  {
   "cell_type": "code",
   "execution_count": 13,
   "id": "992f869d-1302-4ce0-a62a-d89ee4508e04",
   "metadata": {},
   "outputs": [],
   "source": [
    "# Splitting df into dfs by company\n",
    "dfs_companies = {}\n",
    "for company in companies:\n",
    "    dfs_companies[company] = monthly_mean_ratings[monthly_mean_ratings['company'] == company]"
   ]
  },
  {
   "cell_type": "code",
   "execution_count": 14,
   "id": "1ea6e146-f9c5-4a1d-b043-8acc3971e7ac",
   "metadata": {},
   "outputs": [],
   "source": [
    "# For each company df compute the rolling mean\n",
    "dfs_companies_rollingmeans = {}\n",
    "for company, df in dfs_companies.items(): \n",
    "    rolling_values = df.rolling(window=6, min_periods=3).mean()\n",
    "    dates = df['month_dates']\n",
    "    dfs_companies_rollingmeans[company] = pd.concat([rolling_values, dates], axis=1)"
   ]
  },
  {
   "cell_type": "code",
   "execution_count": 15,
   "id": "59ef23be-07a5-4ad5-8371-d4a072511747",
   "metadata": {},
   "outputs": [],
   "source": [
    "# Merge the dataframes back again\n",
    "df_rolling_means = pd.DataFrame()\n",
    "for company, df in dfs_companies_rollingmeans.items(): \n",
    "    df['company'] = company\n",
    "    df_rolling_means = df_rolling_means.append(df)"
   ]
  },
  {
   "cell_type": "markdown",
   "id": "cfe7f92c-5c19-41fa-9d55-a97dded40992",
   "metadata": {},
   "source": [
    "### Visualization 2: Recommendations comparison data prep"
   ]
  },
  {
   "cell_type": "code",
   "execution_count": 16,
   "id": "332c24c8-c957-472f-a0ec-6a2a9733ad3f",
   "metadata": {},
   "outputs": [],
   "source": [
    "df_recommendations = df_original[['Business Outlook', 'CEO Approval', 'Recommend', 'company']]"
   ]
  },
  {
   "cell_type": "markdown",
   "id": "6b2f83cb-7e41-42c7-91ac-4220158b8d5c",
   "metadata": {},
   "source": [
    "Replacing the symbols by actual values"
   ]
  },
  {
   "cell_type": "code",
   "execution_count": 17,
   "id": "1a9e7d4d-1803-46ce-b643-e07cb85ab6fb",
   "metadata": {},
   "outputs": [],
   "source": [
    "def replace_symbols_numbers(row):\n",
    "    \"\"\"\n",
    "    Function to be mapped on column composed of O, V, - and X\n",
    "    It will replace these values by np.nan, 1, 0 and -1 respectively.\n",
    "    \"\"\"\n",
    "    if row == 'O':\n",
    "        return np.nan\n",
    "    elif row == 'V':\n",
    "        return 1\n",
    "    elif row == '-':\n",
    "        return 0\n",
    "    elif row == 'X':\n",
    "        return -1\n",
    "    else: \n",
    "        return 'missing'"
   ]
  },
  {
   "cell_type": "code",
   "execution_count": 18,
   "id": "7824599d-bb0f-42c4-bd0d-1f3bcee19047",
   "metadata": {},
   "outputs": [],
   "source": [
    "df_recommendations_clean = pd.DataFrame()\n",
    "\n",
    "for name, column in df_recommendations.iloc[:, :-1].items():\n",
    "    df_recommendations_clean[name] = column.map(replace_symbols_numbers)\n",
    "\n",
    "df_recommendations_clean['company'] = df_recommendations['company']"
   ]
  },
  {
   "cell_type": "markdown",
   "id": "58215e41-5b3e-445d-9bd8-26cdc1221ebc",
   "metadata": {},
   "source": [
    "Creating a score based on the mean (a bit arbitrary but still works)"
   ]
  },
  {
   "cell_type": "code",
   "execution_count": 19,
   "id": "75d0f450-7bbb-488a-87e5-340b5eab2988",
   "metadata": {},
   "outputs": [],
   "source": [
    "recommendation_scores = df_recommendations_clean.groupby('company').mean()*100"
   ]
  },
  {
   "cell_type": "markdown",
   "id": "a34bf47e-33a2-422c-8012-022ac7481cf9",
   "metadata": {},
   "source": [
    "### Visualization 3: Text"
   ]
  },
  {
   "cell_type": "code",
   "execution_count": 20,
   "id": "d62eca02-c414-454b-b404-d27dad627f16",
   "metadata": {},
   "outputs": [
    {
     "data": {
      "text/html": [
       "<div>\n",
       "<style scoped>\n",
       "    .dataframe tbody tr th:only-of-type {\n",
       "        vertical-align: middle;\n",
       "    }\n",
       "\n",
       "    .dataframe tbody tr th {\n",
       "        vertical-align: top;\n",
       "    }\n",
       "\n",
       "    .dataframe thead th {\n",
       "        text-align: right;\n",
       "    }\n",
       "</style>\n",
       "<table border=\"1\" class=\"dataframe\">\n",
       "  <thead>\n",
       "    <tr style=\"text-align: right;\">\n",
       "      <th></th>\n",
       "      <th>job_location</th>\n",
       "      <th>main_rating</th>\n",
       "      <th>Work/Life Balance</th>\n",
       "      <th>Culture &amp; Values</th>\n",
       "      <th>Diversity &amp; Inclusion</th>\n",
       "      <th>Career Opportunities</th>\n",
       "      <th>Compensation and Benefits</th>\n",
       "      <th>Senior Management</th>\n",
       "      <th>Business Outlook</th>\n",
       "      <th>CEO Approval</th>\n",
       "      <th>...</th>\n",
       "      <th>pros</th>\n",
       "      <th>status</th>\n",
       "      <th>Work/Life Balance_rolling_10mean</th>\n",
       "      <th>Culture &amp; Values_rolling_10mean</th>\n",
       "      <th>Diversity &amp; Inclusion_rolling_10mean</th>\n",
       "      <th>Career Opportunities_rolling_10mean</th>\n",
       "      <th>Compensation and Benefits_rolling_10mean</th>\n",
       "      <th>Senior Management_rolling_10mean</th>\n",
       "      <th>country</th>\n",
       "      <th>company</th>\n",
       "    </tr>\n",
       "    <tr>\n",
       "      <th>date</th>\n",
       "      <th></th>\n",
       "      <th></th>\n",
       "      <th></th>\n",
       "      <th></th>\n",
       "      <th></th>\n",
       "      <th></th>\n",
       "      <th></th>\n",
       "      <th></th>\n",
       "      <th></th>\n",
       "      <th></th>\n",
       "      <th></th>\n",
       "      <th></th>\n",
       "      <th></th>\n",
       "      <th></th>\n",
       "      <th></th>\n",
       "      <th></th>\n",
       "      <th></th>\n",
       "      <th></th>\n",
       "      <th></th>\n",
       "      <th></th>\n",
       "      <th></th>\n",
       "    </tr>\n",
       "  </thead>\n",
       "  <tbody>\n",
       "    <tr>\n",
       "      <th>2020-12-11</th>\n",
       "      <td>Business Analyst in Luxembourg</td>\n",
       "      <td>3.0</td>\n",
       "      <td>1.0</td>\n",
       "      <td>2.0</td>\n",
       "      <td>4.0</td>\n",
       "      <td>2.0</td>\n",
       "      <td>2.0</td>\n",
       "      <td>1.0</td>\n",
       "      <td>-</td>\n",
       "      <td>V</td>\n",
       "      <td>...</td>\n",
       "      <td>Lots of trainings opportunities\\r\\nCompany car...</td>\n",
       "      <td>Current Employee, more than 3 years</td>\n",
       "      <td>2.555556</td>\n",
       "      <td>3.333333</td>\n",
       "      <td>4.000000</td>\n",
       "      <td>3.444444</td>\n",
       "      <td>2.875</td>\n",
       "      <td>2.666667</td>\n",
       "      <td>lux</td>\n",
       "      <td>accenture</td>\n",
       "    </tr>\n",
       "    <tr>\n",
       "      <th>2021-05-08</th>\n",
       "      <td>Associate Manager in Luxembourg</td>\n",
       "      <td>4.0</td>\n",
       "      <td>5.0</td>\n",
       "      <td>5.0</td>\n",
       "      <td>5.0</td>\n",
       "      <td>4.0</td>\n",
       "      <td>3.0</td>\n",
       "      <td>5.0</td>\n",
       "      <td>V</td>\n",
       "      <td>V</td>\n",
       "      <td>...</td>\n",
       "      <td>Work life balance, lot of opportunities.</td>\n",
       "      <td>Current Employee, more than 3 years</td>\n",
       "      <td>2.888889</td>\n",
       "      <td>3.333333</td>\n",
       "      <td>4.333333</td>\n",
       "      <td>3.444444</td>\n",
       "      <td>2.875</td>\n",
       "      <td>2.777778</td>\n",
       "      <td>lux</td>\n",
       "      <td>accenture</td>\n",
       "    </tr>\n",
       "    <tr>\n",
       "      <th>2021-07-05</th>\n",
       "      <td>Management Consultant in Luxembourg</td>\n",
       "      <td>3.0</td>\n",
       "      <td>4.0</td>\n",
       "      <td>3.0</td>\n",
       "      <td>5.0</td>\n",
       "      <td>3.0</td>\n",
       "      <td>3.0</td>\n",
       "      <td>2.0</td>\n",
       "      <td>O</td>\n",
       "      <td>O</td>\n",
       "      <td>...</td>\n",
       "      <td>Good Trainings and budget assigned</td>\n",
       "      <td>Former Employee</td>\n",
       "      <td>3.111111</td>\n",
       "      <td>3.111111</td>\n",
       "      <td>4.500000</td>\n",
       "      <td>3.222222</td>\n",
       "      <td>2.875</td>\n",
       "      <td>2.888889</td>\n",
       "      <td>lux</td>\n",
       "      <td>accenture</td>\n",
       "    </tr>\n",
       "    <tr>\n",
       "      <th>2021-10-24</th>\n",
       "      <td>Partner in Luxembourg</td>\n",
       "      <td>1.0</td>\n",
       "      <td>1.0</td>\n",
       "      <td>3.0</td>\n",
       "      <td>1.0</td>\n",
       "      <td>1.0</td>\n",
       "      <td>1.0</td>\n",
       "      <td>1.0</td>\n",
       "      <td>-</td>\n",
       "      <td>V</td>\n",
       "      <td>...</td>\n",
       "      <td>Excellent global network. Strong in delivery.</td>\n",
       "      <td>Current Employee</td>\n",
       "      <td>2.777778</td>\n",
       "      <td>3.000000</td>\n",
       "      <td>3.800000</td>\n",
       "      <td>2.888889</td>\n",
       "      <td>2.625</td>\n",
       "      <td>2.555556</td>\n",
       "      <td>lux</td>\n",
       "      <td>accenture</td>\n",
       "    </tr>\n",
       "    <tr>\n",
       "      <th>2021-11-15</th>\n",
       "      <td>Consultant in Luxembourg</td>\n",
       "      <td>5.0</td>\n",
       "      <td>4.0</td>\n",
       "      <td>4.0</td>\n",
       "      <td>4.0</td>\n",
       "      <td>4.0</td>\n",
       "      <td>4.0</td>\n",
       "      <td>4.0</td>\n",
       "      <td>V</td>\n",
       "      <td>V</td>\n",
       "      <td>...</td>\n",
       "      <td>Work life balance was fine</td>\n",
       "      <td>Former Employee, more than 3 years</td>\n",
       "      <td>3.000000</td>\n",
       "      <td>3.222222</td>\n",
       "      <td>3.833333</td>\n",
       "      <td>3.111111</td>\n",
       "      <td>2.875</td>\n",
       "      <td>2.888889</td>\n",
       "      <td>lux</td>\n",
       "      <td>accenture</td>\n",
       "    </tr>\n",
       "  </tbody>\n",
       "</table>\n",
       "<p>5 rows × 23 columns</p>\n",
       "</div>"
      ],
      "text/plain": [
       "                                   job_location  main_rating  \\\n",
       "date                                                           \n",
       "2020-12-11       Business Analyst in Luxembourg          3.0   \n",
       "2021-05-08      Associate Manager in Luxembourg          4.0   \n",
       "2021-07-05  Management Consultant in Luxembourg          3.0   \n",
       "2021-10-24                Partner in Luxembourg          1.0   \n",
       "2021-11-15             Consultant in Luxembourg          5.0   \n",
       "\n",
       "            Work/Life Balance  Culture & Values  Diversity & Inclusion  \\\n",
       "date                                                                     \n",
       "2020-12-11                1.0               2.0                    4.0   \n",
       "2021-05-08                5.0               5.0                    5.0   \n",
       "2021-07-05                4.0               3.0                    5.0   \n",
       "2021-10-24                1.0               3.0                    1.0   \n",
       "2021-11-15                4.0               4.0                    4.0   \n",
       "\n",
       "            Career Opportunities  Compensation and Benefits  \\\n",
       "date                                                          \n",
       "2020-12-11                   2.0                        2.0   \n",
       "2021-05-08                   4.0                        3.0   \n",
       "2021-07-05                   3.0                        3.0   \n",
       "2021-10-24                   1.0                        1.0   \n",
       "2021-11-15                   4.0                        4.0   \n",
       "\n",
       "            Senior Management Business Outlook CEO Approval  ...  \\\n",
       "date                                                         ...   \n",
       "2020-12-11                1.0                -            V  ...   \n",
       "2021-05-08                5.0                V            V  ...   \n",
       "2021-07-05                2.0                O            O  ...   \n",
       "2021-10-24                1.0                -            V  ...   \n",
       "2021-11-15                4.0                V            V  ...   \n",
       "\n",
       "                                                         pros  \\\n",
       "date                                                            \n",
       "2020-12-11  Lots of trainings opportunities\\r\\nCompany car...   \n",
       "2021-05-08           Work life balance, lot of opportunities.   \n",
       "2021-07-05                 Good Trainings and budget assigned   \n",
       "2021-10-24      Excellent global network. Strong in delivery.   \n",
       "2021-11-15                         Work life balance was fine   \n",
       "\n",
       "                                         status  \\\n",
       "date                                              \n",
       "2020-12-11  Current Employee, more than 3 years   \n",
       "2021-05-08  Current Employee, more than 3 years   \n",
       "2021-07-05                      Former Employee   \n",
       "2021-10-24                     Current Employee   \n",
       "2021-11-15   Former Employee, more than 3 years   \n",
       "\n",
       "           Work/Life Balance_rolling_10mean Culture & Values_rolling_10mean  \\\n",
       "date                                                                          \n",
       "2020-12-11                         2.555556                        3.333333   \n",
       "2021-05-08                         2.888889                        3.333333   \n",
       "2021-07-05                         3.111111                        3.111111   \n",
       "2021-10-24                         2.777778                        3.000000   \n",
       "2021-11-15                         3.000000                        3.222222   \n",
       "\n",
       "           Diversity & Inclusion_rolling_10mean  \\\n",
       "date                                              \n",
       "2020-12-11                             4.000000   \n",
       "2021-05-08                             4.333333   \n",
       "2021-07-05                             4.500000   \n",
       "2021-10-24                             3.800000   \n",
       "2021-11-15                             3.833333   \n",
       "\n",
       "            Career Opportunities_rolling_10mean  \\\n",
       "date                                              \n",
       "2020-12-11                             3.444444   \n",
       "2021-05-08                             3.444444   \n",
       "2021-07-05                             3.222222   \n",
       "2021-10-24                             2.888889   \n",
       "2021-11-15                             3.111111   \n",
       "\n",
       "            Compensation and Benefits_rolling_10mean  \\\n",
       "date                                                   \n",
       "2020-12-11                                     2.875   \n",
       "2021-05-08                                     2.875   \n",
       "2021-07-05                                     2.875   \n",
       "2021-10-24                                     2.625   \n",
       "2021-11-15                                     2.875   \n",
       "\n",
       "            Senior Management_rolling_10mean  country    company  \n",
       "date                                                              \n",
       "2020-12-11                          2.666667      lux  accenture  \n",
       "2021-05-08                          2.777778      lux  accenture  \n",
       "2021-07-05                          2.888889      lux  accenture  \n",
       "2021-10-24                          2.555556      lux  accenture  \n",
       "2021-11-15                          2.888889      lux  accenture  \n",
       "\n",
       "[5 rows x 23 columns]"
      ]
     },
     "execution_count": 20,
     "metadata": {},
     "output_type": "execute_result"
    }
   ],
   "source": [
    "df_text.tail()"
   ]
  },
  {
   "cell_type": "markdown",
   "id": "9c680caa-3cf5-47e4-b1c1-8dd039f3d349",
   "metadata": {},
   "source": [
    "#### Review level analysis"
   ]
  },
  {
   "cell_type": "markdown",
   "id": "89f91328-3464-4852-ab0a-ff3c0d553c1e",
   "metadata": {},
   "source": [
    "Get important words"
   ]
  },
  {
   "cell_type": "code",
   "execution_count": 21,
   "id": "aa1cf9ed-fffb-4110-92cd-ef59730aa927",
   "metadata": {},
   "outputs": [],
   "source": [
    "def get_main_words(text):\n",
    "    \"\"\"\n",
    "    Function to be mapped to pros and cons and returns a column containing the main words for each obs\n",
    "    \"\"\"\n",
    "    return simple_preprocess(text)"
   ]
  },
  {
   "cell_type": "code",
   "execution_count": 22,
   "id": "30f23dd4-5bf9-46b9-b7ce-39f6efb1fba0",
   "metadata": {},
   "outputs": [],
   "source": [
    "df_text['pros_main_words'] = df_text['pros'].map(get_main_words)\n",
    "df_text['cons_main_words'] = df_text['cons'].map(get_main_words)"
   ]
  },
  {
   "cell_type": "markdown",
   "id": "035a63ac-075e-4915-ace5-d1aeaf97a7ba",
   "metadata": {},
   "source": [
    "Count these words"
   ]
  },
  {
   "cell_type": "code",
   "execution_count": 23,
   "id": "22804f8a-d754-4b1c-bef4-be638ce8e047",
   "metadata": {},
   "outputs": [],
   "source": [
    "#Maybe at the scale of companies instead of review?"
   ]
  },
  {
   "cell_type": "code",
   "execution_count": 24,
   "id": "ec62f1ff-dd61-46b1-82ec-33cca59b809c",
   "metadata": {},
   "outputs": [],
   "source": [
    "def get_frequency(word_list):\n",
    "    \"\"\"\n",
    "    Function to be mapped to list of main words for pros and cons, returns the frequency of these words\n",
    "    \"\"\"\n",
    "    freqs = Counter()\n",
    "    for word in word_list:\n",
    "        freqs.update(word.lower().split())\n",
    "    return freqs"
   ]
  },
  {
   "cell_type": "code",
   "execution_count": 25,
   "id": "2fe7c681-1c5d-4a53-bcad-5261ea790e47",
   "metadata": {},
   "outputs": [],
   "source": [
    "df_text['pros_main_words_freq'] = df_text['pros_main_words'].map(get_frequency)\n",
    "df_text['cons_main_words_freq'] = df_text['cons_main_words'].map(get_frequency)"
   ]
  },
  {
   "cell_type": "markdown",
   "id": "16b49a45-6a85-4e2e-bab8-8adee96bab70",
   "metadata": {},
   "source": [
    "Remove stopwords"
   ]
  },
  {
   "cell_type": "code",
   "execution_count": 26,
   "id": "8a2b1aaf-5811-4ce3-a3d3-eb5517195e13",
   "metadata": {},
   "outputs": [],
   "source": [
    "# Remove these words for the wordcloud\n",
    "stopwords = set(stopwords.words('english'))"
   ]
  },
  {
   "cell_type": "code",
   "execution_count": 27,
   "id": "5d3a53a9-2343-43b9-b0b9-84ee7240964f",
   "metadata": {},
   "outputs": [],
   "source": [
    "def remove_stopwords(word_list):\n",
    "    \"\"\"\n",
    "    Function to be mapped, expects dictionnary of words, returns dictionarry without stopwords\n",
    "    \"\"\"\n",
    "    to_remove = []\n",
    "    for word in word_list.keys():\n",
    "        if word in stopwords:\n",
    "            to_remove.append(word)\n",
    "    for word in to_remove:\n",
    "        del(word_list[word])\n",
    "    return word_list"
   ]
  },
  {
   "cell_type": "code",
   "execution_count": 28,
   "id": "c274b7a1-a427-4778-8d92-2c990a38a937",
   "metadata": {},
   "outputs": [],
   "source": [
    "df_text['pros_main_words_freq'] = df_text['pros_main_words_freq'].map(remove_stopwords)\n",
    "df_text['cons_main_words_freq'] = df_text['cons_main_words_freq'].map(remove_stopwords)"
   ]
  },
  {
   "cell_type": "markdown",
   "id": "06972361-39fb-4816-bda1-75431a0d8ebe",
   "metadata": {},
   "source": [
    "Sentiment analysis"
   ]
  },
  {
   "cell_type": "code",
   "execution_count": 29,
   "id": "aeda997e-af85-4f95-9843-54594d32359a",
   "metadata": {},
   "outputs": [],
   "source": [
    "# Dictionary-Based Sentiment Analysis\n",
    "def sentiment_polscores(text):\n",
    "    \"\"\"\n",
    "    Function to be mapped, expects text, returns polarity scores\n",
    "    \"\"\"\n",
    "    sid = SentimentIntensityAnalyzer()\n",
    "    polarity = sid.polarity_scores(text)['compound']\n",
    "    return polarity"
   ]
  },
  {
   "cell_type": "code",
   "execution_count": 30,
   "id": "2865a1df-21df-4d08-9d5e-63d09cb6d4b8",
   "metadata": {},
   "outputs": [],
   "source": [
    "df_text['pros_sentiment_polscore'] = df_text['pros'].map(sentiment_polscores)\n",
    "df_text['cons_sentiment_polscore'] = df_text['cons'].map(sentiment_polscores)"
   ]
  },
  {
   "cell_type": "markdown",
   "id": "83f204e4-5f39-4a8d-8ffd-dd24db157285",
   "metadata": {},
   "source": [
    "Correlations"
   ]
  },
  {
   "cell_type": "code",
   "execution_count": 31,
   "id": "ab8e2114-589e-41ed-8bf9-aecf00c7c33c",
   "metadata": {},
   "outputs": [],
   "source": [
    "reg_df = df_text[['Work/Life Balance',\n",
    "                  'Culture & Values',\n",
    "                  'Career Opportunities',\n",
    "                  'Compensation and Benefits',\n",
    "                  'Senior Management',\n",
    "                  'pros_sentiment_polscore',\n",
    "                  'cons_sentiment_polscore']]\n",
    "reg_df = reg_df.dropna()"
   ]
  },
  {
   "cell_type": "code",
   "execution_count": 32,
   "id": "451d0d61-7926-41f2-8597-766e952a309c",
   "metadata": {},
   "outputs": [
    {
     "data": {
      "text/html": [
       "<div>\n",
       "<style scoped>\n",
       "    .dataframe tbody tr th:only-of-type {\n",
       "        vertical-align: middle;\n",
       "    }\n",
       "\n",
       "    .dataframe tbody tr th {\n",
       "        vertical-align: top;\n",
       "    }\n",
       "\n",
       "    .dataframe thead th {\n",
       "        text-align: right;\n",
       "    }\n",
       "</style>\n",
       "<table border=\"1\" class=\"dataframe\">\n",
       "  <thead>\n",
       "    <tr style=\"text-align: right;\">\n",
       "      <th></th>\n",
       "      <th>Work/Life Balance</th>\n",
       "      <th>Culture &amp; Values</th>\n",
       "      <th>Career Opportunities</th>\n",
       "      <th>Compensation and Benefits</th>\n",
       "      <th>Senior Management</th>\n",
       "      <th>pros_sentiment_polscore</th>\n",
       "      <th>cons_sentiment_polscore</th>\n",
       "    </tr>\n",
       "  </thead>\n",
       "  <tbody>\n",
       "    <tr>\n",
       "      <th>Work/Life Balance</th>\n",
       "      <td>1.000000</td>\n",
       "      <td>0.485319</td>\n",
       "      <td>0.268910</td>\n",
       "      <td>0.409043</td>\n",
       "      <td>0.485877</td>\n",
       "      <td>0.166941</td>\n",
       "      <td>0.167476</td>\n",
       "    </tr>\n",
       "    <tr>\n",
       "      <th>Culture &amp; Values</th>\n",
       "      <td>0.485319</td>\n",
       "      <td>1.000000</td>\n",
       "      <td>0.541488</td>\n",
       "      <td>0.475727</td>\n",
       "      <td>0.730948</td>\n",
       "      <td>0.259372</td>\n",
       "      <td>0.162567</td>\n",
       "    </tr>\n",
       "    <tr>\n",
       "      <th>Career Opportunities</th>\n",
       "      <td>0.268910</td>\n",
       "      <td>0.541488</td>\n",
       "      <td>1.000000</td>\n",
       "      <td>0.471054</td>\n",
       "      <td>0.560490</td>\n",
       "      <td>0.158000</td>\n",
       "      <td>0.100574</td>\n",
       "    </tr>\n",
       "    <tr>\n",
       "      <th>Compensation and Benefits</th>\n",
       "      <td>0.409043</td>\n",
       "      <td>0.475727</td>\n",
       "      <td>0.471054</td>\n",
       "      <td>1.000000</td>\n",
       "      <td>0.488485</td>\n",
       "      <td>0.205878</td>\n",
       "      <td>0.166758</td>\n",
       "    </tr>\n",
       "    <tr>\n",
       "      <th>Senior Management</th>\n",
       "      <td>0.485877</td>\n",
       "      <td>0.730948</td>\n",
       "      <td>0.560490</td>\n",
       "      <td>0.488485</td>\n",
       "      <td>1.000000</td>\n",
       "      <td>0.196057</td>\n",
       "      <td>0.165373</td>\n",
       "    </tr>\n",
       "    <tr>\n",
       "      <th>pros_sentiment_polscore</th>\n",
       "      <td>0.166941</td>\n",
       "      <td>0.259372</td>\n",
       "      <td>0.158000</td>\n",
       "      <td>0.205878</td>\n",
       "      <td>0.196057</td>\n",
       "      <td>1.000000</td>\n",
       "      <td>0.076034</td>\n",
       "    </tr>\n",
       "    <tr>\n",
       "      <th>cons_sentiment_polscore</th>\n",
       "      <td>0.167476</td>\n",
       "      <td>0.162567</td>\n",
       "      <td>0.100574</td>\n",
       "      <td>0.166758</td>\n",
       "      <td>0.165373</td>\n",
       "      <td>0.076034</td>\n",
       "      <td>1.000000</td>\n",
       "    </tr>\n",
       "  </tbody>\n",
       "</table>\n",
       "</div>"
      ],
      "text/plain": [
       "                           Work/Life Balance  Culture & Values  \\\n",
       "Work/Life Balance                   1.000000          0.485319   \n",
       "Culture & Values                    0.485319          1.000000   \n",
       "Career Opportunities                0.268910          0.541488   \n",
       "Compensation and Benefits           0.409043          0.475727   \n",
       "Senior Management                   0.485877          0.730948   \n",
       "pros_sentiment_polscore             0.166941          0.259372   \n",
       "cons_sentiment_polscore             0.167476          0.162567   \n",
       "\n",
       "                           Career Opportunities  Compensation and Benefits  \\\n",
       "Work/Life Balance                      0.268910                   0.409043   \n",
       "Culture & Values                       0.541488                   0.475727   \n",
       "Career Opportunities                   1.000000                   0.471054   \n",
       "Compensation and Benefits              0.471054                   1.000000   \n",
       "Senior Management                      0.560490                   0.488485   \n",
       "pros_sentiment_polscore                0.158000                   0.205878   \n",
       "cons_sentiment_polscore                0.100574                   0.166758   \n",
       "\n",
       "                           Senior Management  pros_sentiment_polscore  \\\n",
       "Work/Life Balance                   0.485877                 0.166941   \n",
       "Culture & Values                    0.730948                 0.259372   \n",
       "Career Opportunities                0.560490                 0.158000   \n",
       "Compensation and Benefits           0.488485                 0.205878   \n",
       "Senior Management                   1.000000                 0.196057   \n",
       "pros_sentiment_polscore             0.196057                 1.000000   \n",
       "cons_sentiment_polscore             0.165373                 0.076034   \n",
       "\n",
       "                           cons_sentiment_polscore  \n",
       "Work/Life Balance                         0.167476  \n",
       "Culture & Values                          0.162567  \n",
       "Career Opportunities                      0.100574  \n",
       "Compensation and Benefits                 0.166758  \n",
       "Senior Management                         0.165373  \n",
       "pros_sentiment_polscore                   0.076034  \n",
       "cons_sentiment_polscore                   1.000000  "
      ]
     },
     "execution_count": 32,
     "metadata": {},
     "output_type": "execute_result"
    }
   ],
   "source": [
    "reg_df.corr()"
   ]
  },
  {
   "cell_type": "markdown",
   "id": "db11bab3-2785-4a00-9717-4356405658f3",
   "metadata": {},
   "source": [
    "#### Company level wordcloud"
   ]
  },
  {
   "cell_type": "markdown",
   "id": "6d8d6143-3e5a-4a65-a38d-bca0865bcef3",
   "metadata": {},
   "source": [
    "preprocessing"
   ]
  },
  {
   "cell_type": "code",
   "execution_count": 108,
   "id": "e35ddb52-e188-4f41-8354-363833634e14",
   "metadata": {},
   "outputs": [],
   "source": [
    "#Merge words for pros and cons separately for each company\n",
    "blobs = {}\n",
    "for q in ['pros', 'cons']:\n",
    "    blobs[q] = {}\n",
    "    for company in df_text2['company'].unique():\n",
    "        blobs[q][company] = df_text2[df_text2['company'] == company][q].str.cat(sep=' ').replace('\\r\\n', ' ')"
   ]
  },
  {
   "cell_type": "code",
   "execution_count": 109,
   "id": "e43da1cb-b392-41c5-ab44-544144ed8def",
   "metadata": {},
   "outputs": [],
   "source": [
    "#Simple preprocesses\n",
    "for key in blobs.keys():\n",
    "    for company, value in blobs[key].items():\n",
    "        blobs[key][company] = simple_preprocess(value)"
   ]
  },
  {
   "cell_type": "code",
   "execution_count": 110,
   "id": "815d7515-e9e7-43ea-a569-9529ea5c5135",
   "metadata": {},
   "outputs": [],
   "source": [
    "#get frequencies of words\n",
    "for key in blobs.keys():\n",
    "    for company, value in blobs[key].items():\n",
    "        freqs = Counter()\n",
    "        for word in value:\n",
    "            freqs.update(word.lower().split())\n",
    "        blobs[key][company] = freqs"
   ]
  },
  {
   "cell_type": "code",
   "execution_count": 111,
   "id": "02ab8295-cb3b-4750-a1cb-e482c5aea2e7",
   "metadata": {},
   "outputs": [],
   "source": [
    "#remove stopwords\n",
    "for key in blobs.keys():\n",
    "    for company, words in blobs[key].items():\n",
    "        to_remove = []\n",
    "        for word in words:\n",
    "            if word in stopwords:\n",
    "                to_remove.append(word)\n",
    "        for word in to_remove:\n",
    "            del(words[word])"
   ]
  },
  {
   "cell_type": "code",
   "execution_count": 112,
   "id": "3fd1d156-3f0a-4eb7-8d2b-58c7b461b2f8",
   "metadata": {},
   "outputs": [],
   "source": [
    "blobs_ordered = {}\n",
    "for key in blobs.keys():\n",
    "    blobs_ordered[key] = {}\n",
    "    for company, words in blobs[key].items():\n",
    "        freq_all_words = sum(words.values())\n",
    "        relative_freq_sorted = {k: v/freq_all_words for k, v in sorted(blobs[key][company].items(), key=lambda item: item[1], reverse=True)}\n",
    "        blobs_ordered[key][company] = relative_freq_sorted"
   ]
  },
  {
   "cell_type": "code",
   "execution_count": 125,
   "id": "23fe2dcf-ca4f-4ecd-8af8-ef8e402f522a",
   "metadata": {},
   "outputs": [],
   "source": [
    "# Only 20 most frequent words\n",
    "for key in blobs_ordered.keys():\n",
    "    for company in blobs[key].keys():\n",
    "        blobs_ordered[key][company] = dict(itertools.islice(blobs_ordered[key][company].items(), 20))"
   ]
  },
  {
   "cell_type": "code",
   "execution_count": null,
   "id": "3cb6b641-f1b4-4365-8294-2b696b73493f",
   "metadata": {},
   "outputs": [],
   "source": []
  },
  {
   "cell_type": "code",
   "execution_count": null,
   "id": "38b14aa8-77db-41ca-b288-cbd32e3b31d7",
   "metadata": {},
   "outputs": [],
   "source": []
  },
  {
   "cell_type": "code",
   "execution_count": 122,
   "id": "d5f625d7-3631-49af-a948-2a5f27570b0a",
   "metadata": {},
   "outputs": [
    {
     "data": {
      "application/vnd.plotly.v1+json": {
       "config": {
        "plotlyServerURL": "https://plot.ly"
       },
       "data": [
        {
         "name": "pwc pro",
         "type": "bar",
         "x": [
          "great",
          "work",
          "good",
          "opportunities",
          "people",
          "company",
          "projects",
          "learning",
          "colleagues",
          "interesting",
          "lot",
          "learn",
          "training",
          "lots",
          "environment",
          "clients",
          "career",
          "accenture",
          "nice",
          "global"
         ],
         "xaxis": "x",
         "y": [
          0.038787023977433006,
          0.028208744710860368,
          0.027503526093088856,
          0.02609308885754584,
          0.0232722143864598,
          0.020451339915373765,
          0.01692524682651622,
          0.014809590973201692,
          0.014104372355430184,
          0.012693935119887164,
          0.012693935119887164,
          0.011988716502115656,
          0.011283497884344146,
          0.010578279266572637,
          0.009873060648801129,
          0.009167842031029619,
          0.009167842031029619,
          0.00846262341325811,
          0.007757404795486601,
          0.007052186177715092
         ],
         "yaxis": "y"
        },
        {
         "name": "pwc cons",
         "type": "bar",
         "x": [
          "work",
          "life",
          "balance",
          "promotion",
          "people",
          "management",
          "long",
          "projects",
          "hours",
          "lot",
          "career",
          "company",
          "sometimes",
          "client",
          "hard",
          "project",
          "market",
          "really",
          "even",
          "salary"
         ],
         "xaxis": "x2",
         "y": [
          0.03151674326986211,
          0.018384766907419567,
          0.016414970453053186,
          0.013131976362442548,
          0.01247537754432042,
          0.011818778726198293,
          0.010505581089954037,
          0.009192383453709783,
          0.009192383453709783,
          0.008535784635587657,
          0.008535784635587657,
          0.007879185817465528,
          0.007222586999343401,
          0.006565988181221274,
          0.006565988181221274,
          0.006565988181221274,
          0.005909389363099146,
          0.005909389363099146,
          0.005252790544977019,
          0.005252790544977019
         ],
         "yaxis": "y2"
        }
       ],
       "layout": {
        "height": 600,
        "template": {
         "data": {
          "bar": [
           {
            "error_x": {
             "color": "#2a3f5f"
            },
            "error_y": {
             "color": "#2a3f5f"
            },
            "marker": {
             "line": {
              "color": "#E5ECF6",
              "width": 0.5
             },
             "pattern": {
              "fillmode": "overlay",
              "size": 10,
              "solidity": 0.2
             }
            },
            "type": "bar"
           }
          ],
          "barpolar": [
           {
            "marker": {
             "line": {
              "color": "#E5ECF6",
              "width": 0.5
             },
             "pattern": {
              "fillmode": "overlay",
              "size": 10,
              "solidity": 0.2
             }
            },
            "type": "barpolar"
           }
          ],
          "carpet": [
           {
            "aaxis": {
             "endlinecolor": "#2a3f5f",
             "gridcolor": "white",
             "linecolor": "white",
             "minorgridcolor": "white",
             "startlinecolor": "#2a3f5f"
            },
            "baxis": {
             "endlinecolor": "#2a3f5f",
             "gridcolor": "white",
             "linecolor": "white",
             "minorgridcolor": "white",
             "startlinecolor": "#2a3f5f"
            },
            "type": "carpet"
           }
          ],
          "choropleth": [
           {
            "colorbar": {
             "outlinewidth": 0,
             "ticks": ""
            },
            "type": "choropleth"
           }
          ],
          "contour": [
           {
            "colorbar": {
             "outlinewidth": 0,
             "ticks": ""
            },
            "colorscale": [
             [
              0,
              "#0d0887"
             ],
             [
              0.1111111111111111,
              "#46039f"
             ],
             [
              0.2222222222222222,
              "#7201a8"
             ],
             [
              0.3333333333333333,
              "#9c179e"
             ],
             [
              0.4444444444444444,
              "#bd3786"
             ],
             [
              0.5555555555555556,
              "#d8576b"
             ],
             [
              0.6666666666666666,
              "#ed7953"
             ],
             [
              0.7777777777777778,
              "#fb9f3a"
             ],
             [
              0.8888888888888888,
              "#fdca26"
             ],
             [
              1,
              "#f0f921"
             ]
            ],
            "type": "contour"
           }
          ],
          "contourcarpet": [
           {
            "colorbar": {
             "outlinewidth": 0,
             "ticks": ""
            },
            "type": "contourcarpet"
           }
          ],
          "heatmap": [
           {
            "colorbar": {
             "outlinewidth": 0,
             "ticks": ""
            },
            "colorscale": [
             [
              0,
              "#0d0887"
             ],
             [
              0.1111111111111111,
              "#46039f"
             ],
             [
              0.2222222222222222,
              "#7201a8"
             ],
             [
              0.3333333333333333,
              "#9c179e"
             ],
             [
              0.4444444444444444,
              "#bd3786"
             ],
             [
              0.5555555555555556,
              "#d8576b"
             ],
             [
              0.6666666666666666,
              "#ed7953"
             ],
             [
              0.7777777777777778,
              "#fb9f3a"
             ],
             [
              0.8888888888888888,
              "#fdca26"
             ],
             [
              1,
              "#f0f921"
             ]
            ],
            "type": "heatmap"
           }
          ],
          "heatmapgl": [
           {
            "colorbar": {
             "outlinewidth": 0,
             "ticks": ""
            },
            "colorscale": [
             [
              0,
              "#0d0887"
             ],
             [
              0.1111111111111111,
              "#46039f"
             ],
             [
              0.2222222222222222,
              "#7201a8"
             ],
             [
              0.3333333333333333,
              "#9c179e"
             ],
             [
              0.4444444444444444,
              "#bd3786"
             ],
             [
              0.5555555555555556,
              "#d8576b"
             ],
             [
              0.6666666666666666,
              "#ed7953"
             ],
             [
              0.7777777777777778,
              "#fb9f3a"
             ],
             [
              0.8888888888888888,
              "#fdca26"
             ],
             [
              1,
              "#f0f921"
             ]
            ],
            "type": "heatmapgl"
           }
          ],
          "histogram": [
           {
            "marker": {
             "pattern": {
              "fillmode": "overlay",
              "size": 10,
              "solidity": 0.2
             }
            },
            "type": "histogram"
           }
          ],
          "histogram2d": [
           {
            "colorbar": {
             "outlinewidth": 0,
             "ticks": ""
            },
            "colorscale": [
             [
              0,
              "#0d0887"
             ],
             [
              0.1111111111111111,
              "#46039f"
             ],
             [
              0.2222222222222222,
              "#7201a8"
             ],
             [
              0.3333333333333333,
              "#9c179e"
             ],
             [
              0.4444444444444444,
              "#bd3786"
             ],
             [
              0.5555555555555556,
              "#d8576b"
             ],
             [
              0.6666666666666666,
              "#ed7953"
             ],
             [
              0.7777777777777778,
              "#fb9f3a"
             ],
             [
              0.8888888888888888,
              "#fdca26"
             ],
             [
              1,
              "#f0f921"
             ]
            ],
            "type": "histogram2d"
           }
          ],
          "histogram2dcontour": [
           {
            "colorbar": {
             "outlinewidth": 0,
             "ticks": ""
            },
            "colorscale": [
             [
              0,
              "#0d0887"
             ],
             [
              0.1111111111111111,
              "#46039f"
             ],
             [
              0.2222222222222222,
              "#7201a8"
             ],
             [
              0.3333333333333333,
              "#9c179e"
             ],
             [
              0.4444444444444444,
              "#bd3786"
             ],
             [
              0.5555555555555556,
              "#d8576b"
             ],
             [
              0.6666666666666666,
              "#ed7953"
             ],
             [
              0.7777777777777778,
              "#fb9f3a"
             ],
             [
              0.8888888888888888,
              "#fdca26"
             ],
             [
              1,
              "#f0f921"
             ]
            ],
            "type": "histogram2dcontour"
           }
          ],
          "mesh3d": [
           {
            "colorbar": {
             "outlinewidth": 0,
             "ticks": ""
            },
            "type": "mesh3d"
           }
          ],
          "parcoords": [
           {
            "line": {
             "colorbar": {
              "outlinewidth": 0,
              "ticks": ""
             }
            },
            "type": "parcoords"
           }
          ],
          "pie": [
           {
            "automargin": true,
            "type": "pie"
           }
          ],
          "scatter": [
           {
            "fillpattern": {
             "fillmode": "overlay",
             "size": 10,
             "solidity": 0.2
            },
            "type": "scatter"
           }
          ],
          "scatter3d": [
           {
            "line": {
             "colorbar": {
              "outlinewidth": 0,
              "ticks": ""
             }
            },
            "marker": {
             "colorbar": {
              "outlinewidth": 0,
              "ticks": ""
             }
            },
            "type": "scatter3d"
           }
          ],
          "scattercarpet": [
           {
            "marker": {
             "colorbar": {
              "outlinewidth": 0,
              "ticks": ""
             }
            },
            "type": "scattercarpet"
           }
          ],
          "scattergeo": [
           {
            "marker": {
             "colorbar": {
              "outlinewidth": 0,
              "ticks": ""
             }
            },
            "type": "scattergeo"
           }
          ],
          "scattergl": [
           {
            "marker": {
             "colorbar": {
              "outlinewidth": 0,
              "ticks": ""
             }
            },
            "type": "scattergl"
           }
          ],
          "scattermapbox": [
           {
            "marker": {
             "colorbar": {
              "outlinewidth": 0,
              "ticks": ""
             }
            },
            "type": "scattermapbox"
           }
          ],
          "scatterpolar": [
           {
            "marker": {
             "colorbar": {
              "outlinewidth": 0,
              "ticks": ""
             }
            },
            "type": "scatterpolar"
           }
          ],
          "scatterpolargl": [
           {
            "marker": {
             "colorbar": {
              "outlinewidth": 0,
              "ticks": ""
             }
            },
            "type": "scatterpolargl"
           }
          ],
          "scatterternary": [
           {
            "marker": {
             "colorbar": {
              "outlinewidth": 0,
              "ticks": ""
             }
            },
            "type": "scatterternary"
           }
          ],
          "surface": [
           {
            "colorbar": {
             "outlinewidth": 0,
             "ticks": ""
            },
            "colorscale": [
             [
              0,
              "#0d0887"
             ],
             [
              0.1111111111111111,
              "#46039f"
             ],
             [
              0.2222222222222222,
              "#7201a8"
             ],
             [
              0.3333333333333333,
              "#9c179e"
             ],
             [
              0.4444444444444444,
              "#bd3786"
             ],
             [
              0.5555555555555556,
              "#d8576b"
             ],
             [
              0.6666666666666666,
              "#ed7953"
             ],
             [
              0.7777777777777778,
              "#fb9f3a"
             ],
             [
              0.8888888888888888,
              "#fdca26"
             ],
             [
              1,
              "#f0f921"
             ]
            ],
            "type": "surface"
           }
          ],
          "table": [
           {
            "cells": {
             "fill": {
              "color": "#EBF0F8"
             },
             "line": {
              "color": "white"
             }
            },
            "header": {
             "fill": {
              "color": "#C8D4E3"
             },
             "line": {
              "color": "white"
             }
            },
            "type": "table"
           }
          ]
         },
         "layout": {
          "annotationdefaults": {
           "arrowcolor": "#2a3f5f",
           "arrowhead": 0,
           "arrowwidth": 1
          },
          "autotypenumbers": "strict",
          "coloraxis": {
           "colorbar": {
            "outlinewidth": 0,
            "ticks": ""
           }
          },
          "colorscale": {
           "diverging": [
            [
             0,
             "#8e0152"
            ],
            [
             0.1,
             "#c51b7d"
            ],
            [
             0.2,
             "#de77ae"
            ],
            [
             0.3,
             "#f1b6da"
            ],
            [
             0.4,
             "#fde0ef"
            ],
            [
             0.5,
             "#f7f7f7"
            ],
            [
             0.6,
             "#e6f5d0"
            ],
            [
             0.7,
             "#b8e186"
            ],
            [
             0.8,
             "#7fbc41"
            ],
            [
             0.9,
             "#4d9221"
            ],
            [
             1,
             "#276419"
            ]
           ],
           "sequential": [
            [
             0,
             "#0d0887"
            ],
            [
             0.1111111111111111,
             "#46039f"
            ],
            [
             0.2222222222222222,
             "#7201a8"
            ],
            [
             0.3333333333333333,
             "#9c179e"
            ],
            [
             0.4444444444444444,
             "#bd3786"
            ],
            [
             0.5555555555555556,
             "#d8576b"
            ],
            [
             0.6666666666666666,
             "#ed7953"
            ],
            [
             0.7777777777777778,
             "#fb9f3a"
            ],
            [
             0.8888888888888888,
             "#fdca26"
            ],
            [
             1,
             "#f0f921"
            ]
           ],
           "sequentialminus": [
            [
             0,
             "#0d0887"
            ],
            [
             0.1111111111111111,
             "#46039f"
            ],
            [
             0.2222222222222222,
             "#7201a8"
            ],
            [
             0.3333333333333333,
             "#9c179e"
            ],
            [
             0.4444444444444444,
             "#bd3786"
            ],
            [
             0.5555555555555556,
             "#d8576b"
            ],
            [
             0.6666666666666666,
             "#ed7953"
            ],
            [
             0.7777777777777778,
             "#fb9f3a"
            ],
            [
             0.8888888888888888,
             "#fdca26"
            ],
            [
             1,
             "#f0f921"
            ]
           ]
          },
          "colorway": [
           "#636efa",
           "#EF553B",
           "#00cc96",
           "#ab63fa",
           "#FFA15A",
           "#19d3f3",
           "#FF6692",
           "#B6E880",
           "#FF97FF",
           "#FECB52"
          ],
          "font": {
           "color": "#2a3f5f"
          },
          "geo": {
           "bgcolor": "white",
           "lakecolor": "white",
           "landcolor": "#E5ECF6",
           "showlakes": true,
           "showland": true,
           "subunitcolor": "white"
          },
          "hoverlabel": {
           "align": "left"
          },
          "hovermode": "closest",
          "mapbox": {
           "style": "light"
          },
          "paper_bgcolor": "white",
          "plot_bgcolor": "#E5ECF6",
          "polar": {
           "angularaxis": {
            "gridcolor": "white",
            "linecolor": "white",
            "ticks": ""
           },
           "bgcolor": "#E5ECF6",
           "radialaxis": {
            "gridcolor": "white",
            "linecolor": "white",
            "ticks": ""
           }
          },
          "scene": {
           "xaxis": {
            "backgroundcolor": "#E5ECF6",
            "gridcolor": "white",
            "gridwidth": 2,
            "linecolor": "white",
            "showbackground": true,
            "ticks": "",
            "zerolinecolor": "white"
           },
           "yaxis": {
            "backgroundcolor": "#E5ECF6",
            "gridcolor": "white",
            "gridwidth": 2,
            "linecolor": "white",
            "showbackground": true,
            "ticks": "",
            "zerolinecolor": "white"
           },
           "zaxis": {
            "backgroundcolor": "#E5ECF6",
            "gridcolor": "white",
            "gridwidth": 2,
            "linecolor": "white",
            "showbackground": true,
            "ticks": "",
            "zerolinecolor": "white"
           }
          },
          "shapedefaults": {
           "line": {
            "color": "#2a3f5f"
           }
          },
          "ternary": {
           "aaxis": {
            "gridcolor": "white",
            "linecolor": "white",
            "ticks": ""
           },
           "baxis": {
            "gridcolor": "white",
            "linecolor": "white",
            "ticks": ""
           },
           "bgcolor": "#E5ECF6",
           "caxis": {
            "gridcolor": "white",
            "linecolor": "white",
            "ticks": ""
           }
          },
          "title": {
           "x": 0.05
          },
          "xaxis": {
           "automargin": true,
           "gridcolor": "white",
           "linecolor": "white",
           "ticks": "",
           "title": {
            "standoff": 15
           },
           "zerolinecolor": "white",
           "zerolinewidth": 2
          },
          "yaxis": {
           "automargin": true,
           "gridcolor": "white",
           "linecolor": "white",
           "ticks": "",
           "title": {
            "standoff": 15
           },
           "zerolinecolor": "white",
           "zerolinewidth": 2
          }
         }
        },
        "title": {
         "text": "Side By Side Subplots"
        },
        "width": 800,
        "xaxis": {
         "anchor": "y",
         "autorange": true,
         "domain": [
          0,
          0.45
         ],
         "range": [
          -0.5,
          19.5
         ],
         "type": "category"
        },
        "xaxis2": {
         "anchor": "y2",
         "autorange": true,
         "domain": [
          0.55,
          1
         ],
         "range": [
          -0.5,
          19.5
         ],
         "type": "category"
        },
        "yaxis": {
         "anchor": "x",
         "autorange": true,
         "domain": [
          0,
          1
         ],
         "range": [
          0,
          0.04082844629203474
         ],
         "type": "linear"
        },
        "yaxis2": {
         "anchor": "x2",
         "autorange": true,
         "domain": [
          0,
          1
         ],
         "range": [
          0,
          0.0331755192314338
         ],
         "type": "linear"
        }
       }
      },
      "image/png": "[encoded data removed]",
      "text/html": [
       "<div>                            <div id=\"818b2ac8-e7b9-4e7d-aceb-aa02787df1a9\" class=\"plotly-graph-div\" style=\"height:600px; width:800px;\"></div>            <script type=\"text/javascript\">                require([\"plotly\"], function(Plotly) {                    window.PLOTLYENV=window.PLOTLYENV || {};                                    if (document.getElementById(\"818b2ac8-e7b9-4e7d-aceb-aa02787df1a9\")) {                    Plotly.newPlot(                        \"818b2ac8-e7b9-4e7d-aceb-aa02787df1a9\",                        [{\"name\":\"pwc pro\",\"x\":[\"great\",\"work\",\"good\",\"opportunities\",\"people\",\"company\",\"projects\",\"learning\",\"colleagues\",\"interesting\",\"lot\",\"learn\",\"training\",\"lots\",\"environment\",\"clients\",\"career\",\"accenture\",\"nice\",\"global\"],\"y\":[0.038787023977433006,0.028208744710860368,0.027503526093088856,0.02609308885754584,0.0232722143864598,0.020451339915373765,0.01692524682651622,0.014809590973201692,0.014104372355430184,0.012693935119887164,0.012693935119887164,0.011988716502115656,0.011283497884344146,0.010578279266572637,0.009873060648801129,0.009167842031029619,0.009167842031029619,0.00846262341325811,0.007757404795486601,0.007052186177715092],\"type\":\"bar\",\"xaxis\":\"x\",\"yaxis\":\"y\"},{\"name\":\"pwc cons\",\"x\":[\"work\",\"life\",\"balance\",\"promotion\",\"people\",\"management\",\"long\",\"projects\",\"hours\",\"lot\",\"career\",\"company\",\"sometimes\",\"client\",\"hard\",\"project\",\"market\",\"really\",\"even\",\"salary\"],\"y\":[0.03151674326986211,0.018384766907419567,0.016414970453053186,0.013131976362442548,0.01247537754432042,0.011818778726198293,0.010505581089954037,0.009192383453709783,0.009192383453709783,0.008535784635587657,0.008535784635587657,0.007879185817465528,0.007222586999343401,0.006565988181221274,0.006565988181221274,0.006565988181221274,0.005909389363099146,0.005909389363099146,0.005252790544977019,0.005252790544977019],\"type\":\"bar\",\"xaxis\":\"x2\",\"yaxis\":\"y2\"}],                        {\"template\":{\"data\":{\"histogram2dcontour\":[{\"type\":\"histogram2dcontour\",\"colorbar\":{\"outlinewidth\":0,\"ticks\":\"\"},\"colorscale\":[[0.0,\"#0d0887\"],[0.1111111111111111,\"#46039f\"],[0.2222222222222222,\"#7201a8\"],[0.3333333333333333,\"#9c179e\"],[0.4444444444444444,\"#bd3786\"],[0.5555555555555556,\"#d8576b\"],[0.6666666666666666,\"#ed7953\"],[0.7777777777777778,\"#fb9f3a\"],[0.8888888888888888,\"#fdca26\"],[1.0,\"#f0f921\"]]}],\"choropleth\":[{\"type\":\"choropleth\",\"colorbar\":{\"outlinewidth\":0,\"ticks\":\"\"}}],\"histogram2d\":[{\"type\":\"histogram2d\",\"colorbar\":{\"outlinewidth\":0,\"ticks\":\"\"},\"colorscale\":[[0.0,\"#0d0887\"],[0.1111111111111111,\"#46039f\"],[0.2222222222222222,\"#7201a8\"],[0.3333333333333333,\"#9c179e\"],[0.4444444444444444,\"#bd3786\"],[0.5555555555555556,\"#d8576b\"],[0.6666666666666666,\"#ed7953\"],[0.7777777777777778,\"#fb9f3a\"],[0.8888888888888888,\"#fdca26\"],[1.0,\"#f0f921\"]]}],\"heatmap\":[{\"type\":\"heatmap\",\"colorbar\":{\"outlinewidth\":0,\"ticks\":\"\"},\"colorscale\":[[0.0,\"#0d0887\"],[0.1111111111111111,\"#46039f\"],[0.2222222222222222,\"#7201a8\"],[0.3333333333333333,\"#9c179e\"],[0.4444444444444444,\"#bd3786\"],[0.5555555555555556,\"#d8576b\"],[0.6666666666666666,\"#ed7953\"],[0.7777777777777778,\"#fb9f3a\"],[0.8888888888888888,\"#fdca26\"],[1.0,\"#f0f921\"]]}],\"heatmapgl\":[{\"type\":\"heatmapgl\",\"colorbar\":{\"outlinewidth\":0,\"ticks\":\"\"},\"colorscale\":[[0.0,\"#0d0887\"],[0.1111111111111111,\"#46039f\"],[0.2222222222222222,\"#7201a8\"],[0.3333333333333333,\"#9c179e\"],[0.4444444444444444,\"#bd3786\"],[0.5555555555555556,\"#d8576b\"],[0.6666666666666666,\"#ed7953\"],[0.7777777777777778,\"#fb9f3a\"],[0.8888888888888888,\"#fdca26\"],[1.0,\"#f0f921\"]]}],\"contourcarpet\":[{\"type\":\"contourcarpet\",\"colorbar\":{\"outlinewidth\":0,\"ticks\":\"\"}}],\"contour\":[{\"type\":\"contour\",\"colorbar\":{\"outlinewidth\":0,\"ticks\":\"\"},\"colorscale\":[[0.0,\"#0d0887\"],[0.1111111111111111,\"#46039f\"],[0.2222222222222222,\"#7201a8\"],[0.3333333333333333,\"#9c179e\"],[0.4444444444444444,\"#bd3786\"],[0.5555555555555556,\"#d8576b\"],[0.6666666666666666,\"#ed7953\"],[0.7777777777777778,\"#fb9f3a\"],[0.8888888888888888,\"#fdca26\"],[1.0,\"#f0f921\"]]}],\"surface\":[{\"type\":\"surface\",\"colorbar\":{\"outlinewidth\":0,\"ticks\":\"\"},\"colorscale\":[[0.0,\"#0d0887\"],[0.1111111111111111,\"#46039f\"],[0.2222222222222222,\"#7201a8\"],[0.3333333333333333,\"#9c179e\"],[0.4444444444444444,\"#bd3786\"],[0.5555555555555556,\"#d8576b\"],[0.6666666666666666,\"#ed7953\"],[0.7777777777777778,\"#fb9f3a\"],[0.8888888888888888,\"#fdca26\"],[1.0,\"#f0f921\"]]}],\"mesh3d\":[{\"type\":\"mesh3d\",\"colorbar\":{\"outlinewidth\":0,\"ticks\":\"\"}}],\"scatter\":[{\"fillpattern\":{\"fillmode\":\"overlay\",\"size\":10,\"solidity\":0.2},\"type\":\"scatter\"}],\"parcoords\":[{\"type\":\"parcoords\",\"line\":{\"colorbar\":{\"outlinewidth\":0,\"ticks\":\"\"}}}],\"scatterpolargl\":[{\"type\":\"scatterpolargl\",\"marker\":{\"colorbar\":{\"outlinewidth\":0,\"ticks\":\"\"}}}],\"bar\":[{\"error_x\":{\"color\":\"#2a3f5f\"},\"error_y\":{\"color\":\"#2a3f5f\"},\"marker\":{\"line\":{\"color\":\"#E5ECF6\",\"width\":0.5},\"pattern\":{\"fillmode\":\"overlay\",\"size\":10,\"solidity\":0.2}},\"type\":\"bar\"}],\"scattergeo\":[{\"type\":\"scattergeo\",\"marker\":{\"colorbar\":{\"outlinewidth\":0,\"ticks\":\"\"}}}],\"scatterpolar\":[{\"type\":\"scatterpolar\",\"marker\":{\"colorbar\":{\"outlinewidth\":0,\"ticks\":\"\"}}}],\"histogram\":[{\"marker\":{\"pattern\":{\"fillmode\":\"overlay\",\"size\":10,\"solidity\":0.2}},\"type\":\"histogram\"}],\"scattergl\":[{\"type\":\"scattergl\",\"marker\":{\"colorbar\":{\"outlinewidth\":0,\"ticks\":\"\"}}}],\"scatter3d\":[{\"type\":\"scatter3d\",\"line\":{\"colorbar\":{\"outlinewidth\":0,\"ticks\":\"\"}},\"marker\":{\"colorbar\":{\"outlinewidth\":0,\"ticks\":\"\"}}}],\"scattermapbox\":[{\"type\":\"scattermapbox\",\"marker\":{\"colorbar\":{\"outlinewidth\":0,\"ticks\":\"\"}}}],\"scatterternary\":[{\"type\":\"scatterternary\",\"marker\":{\"colorbar\":{\"outlinewidth\":0,\"ticks\":\"\"}}}],\"scattercarpet\":[{\"type\":\"scattercarpet\",\"marker\":{\"colorbar\":{\"outlinewidth\":0,\"ticks\":\"\"}}}],\"carpet\":[{\"aaxis\":{\"endlinecolor\":\"#2a3f5f\",\"gridcolor\":\"white\",\"linecolor\":\"white\",\"minorgridcolor\":\"white\",\"startlinecolor\":\"#2a3f5f\"},\"baxis\":{\"endlinecolor\":\"#2a3f5f\",\"gridcolor\":\"white\",\"linecolor\":\"white\",\"minorgridcolor\":\"white\",\"startlinecolor\":\"#2a3f5f\"},\"type\":\"carpet\"}],\"table\":[{\"cells\":{\"fill\":{\"color\":\"#EBF0F8\"},\"line\":{\"color\":\"white\"}},\"header\":{\"fill\":{\"color\":\"#C8D4E3\"},\"line\":{\"color\":\"white\"}},\"type\":\"table\"}],\"barpolar\":[{\"marker\":{\"line\":{\"color\":\"#E5ECF6\",\"width\":0.5},\"pattern\":{\"fillmode\":\"overlay\",\"size\":10,\"solidity\":0.2}},\"type\":\"barpolar\"}],\"pie\":[{\"automargin\":true,\"type\":\"pie\"}]},\"layout\":{\"autotypenumbers\":\"strict\",\"colorway\":[\"#636efa\",\"#EF553B\",\"#00cc96\",\"#ab63fa\",\"#FFA15A\",\"#19d3f3\",\"#FF6692\",\"#B6E880\",\"#FF97FF\",\"#FECB52\"],\"font\":{\"color\":\"#2a3f5f\"},\"hovermode\":\"closest\",\"hoverlabel\":{\"align\":\"left\"},\"paper_bgcolor\":\"white\",\"plot_bgcolor\":\"#E5ECF6\",\"polar\":{\"bgcolor\":\"#E5ECF6\",\"angularaxis\":{\"gridcolor\":\"white\",\"linecolor\":\"white\",\"ticks\":\"\"},\"radialaxis\":{\"gridcolor\":\"white\",\"linecolor\":\"white\",\"ticks\":\"\"}},\"ternary\":{\"bgcolor\":\"#E5ECF6\",\"aaxis\":{\"gridcolor\":\"white\",\"linecolor\":\"white\",\"ticks\":\"\"},\"baxis\":{\"gridcolor\":\"white\",\"linecolor\":\"white\",\"ticks\":\"\"},\"caxis\":{\"gridcolor\":\"white\",\"linecolor\":\"white\",\"ticks\":\"\"}},\"coloraxis\":{\"colorbar\":{\"outlinewidth\":0,\"ticks\":\"\"}},\"colorscale\":{\"sequential\":[[0.0,\"#0d0887\"],[0.1111111111111111,\"#46039f\"],[0.2222222222222222,\"#7201a8\"],[0.3333333333333333,\"#9c179e\"],[0.4444444444444444,\"#bd3786\"],[0.5555555555555556,\"#d8576b\"],[0.6666666666666666,\"#ed7953\"],[0.7777777777777778,\"#fb9f3a\"],[0.8888888888888888,\"#fdca26\"],[1.0,\"#f0f921\"]],\"sequentialminus\":[[0.0,\"#0d0887\"],[0.1111111111111111,\"#46039f\"],[0.2222222222222222,\"#7201a8\"],[0.3333333333333333,\"#9c179e\"],[0.4444444444444444,\"#bd3786\"],[0.5555555555555556,\"#d8576b\"],[0.6666666666666666,\"#ed7953\"],[0.7777777777777778,\"#fb9f3a\"],[0.8888888888888888,\"#fdca26\"],[1.0,\"#f0f921\"]],\"diverging\":[[0,\"#8e0152\"],[0.1,\"#c51b7d\"],[0.2,\"#de77ae\"],[0.3,\"#f1b6da\"],[0.4,\"#fde0ef\"],[0.5,\"#f7f7f7\"],[0.6,\"#e6f5d0\"],[0.7,\"#b8e186\"],[0.8,\"#7fbc41\"],[0.9,\"#4d9221\"],[1,\"#276419\"]]},\"xaxis\":{\"gridcolor\":\"white\",\"linecolor\":\"white\",\"ticks\":\"\",\"title\":{\"standoff\":15},\"zerolinecolor\":\"white\",\"automargin\":true,\"zerolinewidth\":2},\"yaxis\":{\"gridcolor\":\"white\",\"linecolor\":\"white\",\"ticks\":\"\",\"title\":{\"standoff\":15},\"zerolinecolor\":\"white\",\"automargin\":true,\"zerolinewidth\":2},\"scene\":{\"xaxis\":{\"backgroundcolor\":\"#E5ECF6\",\"gridcolor\":\"white\",\"linecolor\":\"white\",\"showbackground\":true,\"ticks\":\"\",\"zerolinecolor\":\"white\",\"gridwidth\":2},\"yaxis\":{\"backgroundcolor\":\"#E5ECF6\",\"gridcolor\":\"white\",\"linecolor\":\"white\",\"showbackground\":true,\"ticks\":\"\",\"zerolinecolor\":\"white\",\"gridwidth\":2},\"zaxis\":{\"backgroundcolor\":\"#E5ECF6\",\"gridcolor\":\"white\",\"linecolor\":\"white\",\"showbackground\":true,\"ticks\":\"\",\"zerolinecolor\":\"white\",\"gridwidth\":2}},\"shapedefaults\":{\"line\":{\"color\":\"#2a3f5f\"}},\"annotationdefaults\":{\"arrowcolor\":\"#2a3f5f\",\"arrowhead\":0,\"arrowwidth\":1},\"geo\":{\"bgcolor\":\"white\",\"landcolor\":\"#E5ECF6\",\"subunitcolor\":\"white\",\"showland\":true,\"showlakes\":true,\"lakecolor\":\"white\"},\"title\":{\"x\":0.05},\"mapbox\":{\"style\":\"light\"}}},\"xaxis\":{\"anchor\":\"y\",\"domain\":[0.0,0.45]},\"yaxis\":{\"anchor\":\"x\",\"domain\":[0.0,1.0]},\"xaxis2\":{\"anchor\":\"y2\",\"domain\":[0.55,1.0]},\"yaxis2\":{\"anchor\":\"x2\",\"domain\":[0.0,1.0]},\"title\":{\"text\":\"Side By Side Subplots\"},\"height\":600,\"width\":800},                        {\"responsive\": true}                    ).then(function(){\n",
       "                            \n",
       "var gd = document.getElementById('818b2ac8-e7b9-4e7d-aceb-aa02787df1a9');\n",
       "var x = new MutationObserver(function (mutations, observer) {{\n",
       "        var display = window.getComputedStyle(gd).display;\n",
       "        if (!display || display === 'none') {{\n",
       "            console.log([gd, 'removed!']);\n",
       "            Plotly.purge(gd);\n",
       "            observer.disconnect();\n",
       "        }}\n",
       "}});\n",
       "\n",
       "// Listen for the removal of the full notebook cells\n",
       "var notebookContainer = gd.closest('#notebook-container');\n",
       "if (notebookContainer) {{\n",
       "    x.observe(notebookContainer, {childList: true});\n",
       "}}\n",
       "\n",
       "// Listen for the clearing of the current output cell\n",
       "var outputEl = gd.closest('.output');\n",
       "if (outputEl) {{\n",
       "    x.observe(outputEl, {childList: true});\n",
       "}}\n",
       "\n",
       "                        })                };                });            </script>        </div>"
      ]
     },
     "metadata": {},
     "output_type": "display_data"
    }
   ],
   "source": [
    "fig.add_trace(go.Bar(name='pwc pro', x=list(data_pro.keys()), y=list(data_pro.values())),\n",
    "             row=1, col=1)\n",
    "fig.add_trace(go.Bar(name='pwc cons', x=list(data_cons.keys()), y=list(data_cons.values())),\n",
    "             row=1, col=2)\n",
    "fig.update_layout(height=600, width=800, title_text=\"Side By Side Subplots\")\n",
    "\n",
    "fig.show()"
   ]
  },
  {
   "cell_type": "code",
   "execution_count": 118,
   "id": "0e57907c-bea5-4dd7-ad67-33724a1be934",
   "metadata": {},
   "outputs": [
    {
     "data": {
      "application/vnd.plotly.v1+json": {
       "config": {
        "plotlyServerURL": "https://plot.ly"
       },
       "data": [
        {
         "name": "pwc pro",
         "type": "bar",
         "x": [
          "good",
          "great",
          "work",
          "environment",
          "people",
          "lot",
          "learning",
          "nice",
          "opportunities",
          "international",
          "young",
          "working",
          "salary",
          "company",
          "interesting",
          "learn",
          "experience",
          "car",
          "team",
          "projects"
         ],
         "xaxis": "x",
         "y": [
          0.04682686383240912,
          0.027418361059765865,
          0.025261860751694395,
          0.020948860135551448,
          0.01756007393715342,
          0.0166358595194085,
          0.015711645101663587,
          0.015095502156500308,
          0.014787430683918669,
          0.013247073321010475,
          0.012014787430683918,
          0.01139864448552064,
          0.011090573012939002,
          0.011090573012939002,
          0.010474430067775724,
          0.010474430067775724,
          0.010474430067775724,
          0.010166358595194085,
          0.010166358595194085,
          0.009550215650030808
         ],
         "yaxis": "y"
        },
        {
         "name": "pwc cons",
         "type": "bar",
         "x": [
          "work",
          "life",
          "hours",
          "balance",
          "salary",
          "working",
          "long",
          "people",
          "low",
          "high",
          "company",
          "lot",
          "time",
          "sometimes",
          "pressure",
          "management",
          "much",
          "workload",
          "busy",
          "really"
         ],
         "xaxis": "x2",
         "y": [
          0.037164093767867355,
          0.02029731275014294,
          0.018867924528301886,
          0.018296169239565466,
          0.014579759862778732,
          0.0137221269296741,
          0.013150371640937679,
          0.012292738707833047,
          0.009148084619782733,
          0.008862206975414523,
          0.008576329331046312,
          0.008290451686678102,
          0.008004574042309892,
          0.008004574042309892,
          0.007432818753573471,
          0.007432818753573471,
          0.0065751858204688395,
          0.006289308176100629,
          0.005145797598627788,
          0.005145797598627788
         ],
         "yaxis": "y2"
        }
       ],
       "layout": {
        "height": 600,
        "template": {
         "data": {
          "bar": [
           {
            "error_x": {
             "color": "#2a3f5f"
            },
            "error_y": {
             "color": "#2a3f5f"
            },
            "marker": {
             "line": {
              "color": "#E5ECF6",
              "width": 0.5
             },
             "pattern": {
              "fillmode": "overlay",
              "size": 10,
              "solidity": 0.2
             }
            },
            "type": "bar"
           }
          ],
          "barpolar": [
           {
            "marker": {
             "line": {
              "color": "#E5ECF6",
              "width": 0.5
             },
             "pattern": {
              "fillmode": "overlay",
              "size": 10,
              "solidity": 0.2
             }
            },
            "type": "barpolar"
           }
          ],
          "carpet": [
           {
            "aaxis": {
             "endlinecolor": "#2a3f5f",
             "gridcolor": "white",
             "linecolor": "white",
             "minorgridcolor": "white",
             "startlinecolor": "#2a3f5f"
            },
            "baxis": {
             "endlinecolor": "#2a3f5f",
             "gridcolor": "white",
             "linecolor": "white",
             "minorgridcolor": "white",
             "startlinecolor": "#2a3f5f"
            },
            "type": "carpet"
           }
          ],
          "choropleth": [
           {
            "colorbar": {
             "outlinewidth": 0,
             "ticks": ""
            },
            "type": "choropleth"
           }
          ],
          "contour": [
           {
            "colorbar": {
             "outlinewidth": 0,
             "ticks": ""
            },
            "colorscale": [
             [
              0,
              "#0d0887"
             ],
             [
              0.1111111111111111,
              "#46039f"
             ],
             [
              0.2222222222222222,
              "#7201a8"
             ],
             [
              0.3333333333333333,
              "#9c179e"
             ],
             [
              0.4444444444444444,
              "#bd3786"
             ],
             [
              0.5555555555555556,
              "#d8576b"
             ],
             [
              0.6666666666666666,
              "#ed7953"
             ],
             [
              0.7777777777777778,
              "#fb9f3a"
             ],
             [
              0.8888888888888888,
              "#fdca26"
             ],
             [
              1,
              "#f0f921"
             ]
            ],
            "type": "contour"
           }
          ],
          "contourcarpet": [
           {
            "colorbar": {
             "outlinewidth": 0,
             "ticks": ""
            },
            "type": "contourcarpet"
           }
          ],
          "heatmap": [
           {
            "colorbar": {
             "outlinewidth": 0,
             "ticks": ""
            },
            "colorscale": [
             [
              0,
              "#0d0887"
             ],
             [
              0.1111111111111111,
              "#46039f"
             ],
             [
              0.2222222222222222,
              "#7201a8"
             ],
             [
              0.3333333333333333,
              "#9c179e"
             ],
             [
              0.4444444444444444,
              "#bd3786"
             ],
             [
              0.5555555555555556,
              "#d8576b"
             ],
             [
              0.6666666666666666,
              "#ed7953"
             ],
             [
              0.7777777777777778,
              "#fb9f3a"
             ],
             [
              0.8888888888888888,
              "#fdca26"
             ],
             [
              1,
              "#f0f921"
             ]
            ],
            "type": "heatmap"
           }
          ],
          "heatmapgl": [
           {
            "colorbar": {
             "outlinewidth": 0,
             "ticks": ""
            },
            "colorscale": [
             [
              0,
              "#0d0887"
             ],
             [
              0.1111111111111111,
              "#46039f"
             ],
             [
              0.2222222222222222,
              "#7201a8"
             ],
             [
              0.3333333333333333,
              "#9c179e"
             ],
             [
              0.4444444444444444,
              "#bd3786"
             ],
             [
              0.5555555555555556,
              "#d8576b"
             ],
             [
              0.6666666666666666,
              "#ed7953"
             ],
             [
              0.7777777777777778,
              "#fb9f3a"
             ],
             [
              0.8888888888888888,
              "#fdca26"
             ],
             [
              1,
              "#f0f921"
             ]
            ],
            "type": "heatmapgl"
           }
          ],
          "histogram": [
           {
            "marker": {
             "pattern": {
              "fillmode": "overlay",
              "size": 10,
              "solidity": 0.2
             }
            },
            "type": "histogram"
           }
          ],
          "histogram2d": [
           {
            "colorbar": {
             "outlinewidth": 0,
             "ticks": ""
            },
            "colorscale": [
             [
              0,
              "#0d0887"
             ],
             [
              0.1111111111111111,
              "#46039f"
             ],
             [
              0.2222222222222222,
              "#7201a8"
             ],
             [
              0.3333333333333333,
              "#9c179e"
             ],
             [
              0.4444444444444444,
              "#bd3786"
             ],
             [
              0.5555555555555556,
              "#d8576b"
             ],
             [
              0.6666666666666666,
              "#ed7953"
             ],
             [
              0.7777777777777778,
              "#fb9f3a"
             ],
             [
              0.8888888888888888,
              "#fdca26"
             ],
             [
              1,
              "#f0f921"
             ]
            ],
            "type": "histogram2d"
           }
          ],
          "histogram2dcontour": [
           {
            "colorbar": {
             "outlinewidth": 0,
             "ticks": ""
            },
            "colorscale": [
             [
              0,
              "#0d0887"
             ],
             [
              0.1111111111111111,
              "#46039f"
             ],
             [
              0.2222222222222222,
              "#7201a8"
             ],
             [
              0.3333333333333333,
              "#9c179e"
             ],
             [
              0.4444444444444444,
              "#bd3786"
             ],
             [
              0.5555555555555556,
              "#d8576b"
             ],
             [
              0.6666666666666666,
              "#ed7953"
             ],
             [
              0.7777777777777778,
              "#fb9f3a"
             ],
             [
              0.8888888888888888,
              "#fdca26"
             ],
             [
              1,
              "#f0f921"
             ]
            ],
            "type": "histogram2dcontour"
           }
          ],
          "mesh3d": [
           {
            "colorbar": {
             "outlinewidth": 0,
             "ticks": ""
            },
            "type": "mesh3d"
           }
          ],
          "parcoords": [
           {
            "line": {
             "colorbar": {
              "outlinewidth": 0,
              "ticks": ""
             }
            },
            "type": "parcoords"
           }
          ],
          "pie": [
           {
            "automargin": true,
            "type": "pie"
           }
          ],
          "scatter": [
           {
            "fillpattern": {
             "fillmode": "overlay",
             "size": 10,
             "solidity": 0.2
            },
            "type": "scatter"
           }
          ],
          "scatter3d": [
           {
            "line": {
             "colorbar": {
              "outlinewidth": 0,
              "ticks": ""
             }
            },
            "marker": {
             "colorbar": {
              "outlinewidth": 0,
              "ticks": ""
             }
            },
            "type": "scatter3d"
           }
          ],
          "scattercarpet": [
           {
            "marker": {
             "colorbar": {
              "outlinewidth": 0,
              "ticks": ""
             }
            },
            "type": "scattercarpet"
           }
          ],
          "scattergeo": [
           {
            "marker": {
             "colorbar": {
              "outlinewidth": 0,
              "ticks": ""
             }
            },
            "type": "scattergeo"
           }
          ],
          "scattergl": [
           {
            "marker": {
             "colorbar": {
              "outlinewidth": 0,
              "ticks": ""
             }
            },
            "type": "scattergl"
           }
          ],
          "scattermapbox": [
           {
            "marker": {
             "colorbar": {
              "outlinewidth": 0,
              "ticks": ""
             }
            },
            "type": "scattermapbox"
           }
          ],
          "scatterpolar": [
           {
            "marker": {
             "colorbar": {
              "outlinewidth": 0,
              "ticks": ""
             }
            },
            "type": "scatterpolar"
           }
          ],
          "scatterpolargl": [
           {
            "marker": {
             "colorbar": {
              "outlinewidth": 0,
              "ticks": ""
             }
            },
            "type": "scatterpolargl"
           }
          ],
          "scatterternary": [
           {
            "marker": {
             "colorbar": {
              "outlinewidth": 0,
              "ticks": ""
             }
            },
            "type": "scatterternary"
           }
          ],
          "surface": [
           {
            "colorbar": {
             "outlinewidth": 0,
             "ticks": ""
            },
            "colorscale": [
             [
              0,
              "#0d0887"
             ],
             [
              0.1111111111111111,
              "#46039f"
             ],
             [
              0.2222222222222222,
              "#7201a8"
             ],
             [
              0.3333333333333333,
              "#9c179e"
             ],
             [
              0.4444444444444444,
              "#bd3786"
             ],
             [
              0.5555555555555556,
              "#d8576b"
             ],
             [
              0.6666666666666666,
              "#ed7953"
             ],
             [
              0.7777777777777778,
              "#fb9f3a"
             ],
             [
              0.8888888888888888,
              "#fdca26"
             ],
             [
              1,
              "#f0f921"
             ]
            ],
            "type": "surface"
           }
          ],
          "table": [
           {
            "cells": {
             "fill": {
              "color": "#EBF0F8"
             },
             "line": {
              "color": "white"
             }
            },
            "header": {
             "fill": {
              "color": "#C8D4E3"
             },
             "line": {
              "color": "white"
             }
            },
            "type": "table"
           }
          ]
         },
         "layout": {
          "annotationdefaults": {
           "arrowcolor": "#2a3f5f",
           "arrowhead": 0,
           "arrowwidth": 1
          },
          "autotypenumbers": "strict",
          "coloraxis": {
           "colorbar": {
            "outlinewidth": 0,
            "ticks": ""
           }
          },
          "colorscale": {
           "diverging": [
            [
             0,
             "#8e0152"
            ],
            [
             0.1,
             "#c51b7d"
            ],
            [
             0.2,
             "#de77ae"
            ],
            [
             0.3,
             "#f1b6da"
            ],
            [
             0.4,
             "#fde0ef"
            ],
            [
             0.5,
             "#f7f7f7"
            ],
            [
             0.6,
             "#e6f5d0"
            ],
            [
             0.7,
             "#b8e186"
            ],
            [
             0.8,
             "#7fbc41"
            ],
            [
             0.9,
             "#4d9221"
            ],
            [
             1,
             "#276419"
            ]
           ],
           "sequential": [
            [
             0,
             "#0d0887"
            ],
            [
             0.1111111111111111,
             "#46039f"
            ],
            [
             0.2222222222222222,
             "#7201a8"
            ],
            [
             0.3333333333333333,
             "#9c179e"
            ],
            [
             0.4444444444444444,
             "#bd3786"
            ],
            [
             0.5555555555555556,
             "#d8576b"
            ],
            [
             0.6666666666666666,
             "#ed7953"
            ],
            [
             0.7777777777777778,
             "#fb9f3a"
            ],
            [
             0.8888888888888888,
             "#fdca26"
            ],
            [
             1,
             "#f0f921"
            ]
           ],
           "sequentialminus": [
            [
             0,
             "#0d0887"
            ],
            [
             0.1111111111111111,
             "#46039f"
            ],
            [
             0.2222222222222222,
             "#7201a8"
            ],
            [
             0.3333333333333333,
             "#9c179e"
            ],
            [
             0.4444444444444444,
             "#bd3786"
            ],
            [
             0.5555555555555556,
             "#d8576b"
            ],
            [
             0.6666666666666666,
             "#ed7953"
            ],
            [
             0.7777777777777778,
             "#fb9f3a"
            ],
            [
             0.8888888888888888,
             "#fdca26"
            ],
            [
             1,
             "#f0f921"
            ]
           ]
          },
          "colorway": [
           "#636efa",
           "#EF553B",
           "#00cc96",
           "#ab63fa",
           "#FFA15A",
           "#19d3f3",
           "#FF6692",
           "#B6E880",
           "#FF97FF",
           "#FECB52"
          ],
          "font": {
           "color": "#2a3f5f"
          },
          "geo": {
           "bgcolor": "white",
           "lakecolor": "white",
           "landcolor": "#E5ECF6",
           "showlakes": true,
           "showland": true,
           "subunitcolor": "white"
          },
          "hoverlabel": {
           "align": "left"
          },
          "hovermode": "closest",
          "mapbox": {
           "style": "light"
          },
          "paper_bgcolor": "white",
          "plot_bgcolor": "#E5ECF6",
          "polar": {
           "angularaxis": {
            "gridcolor": "white",
            "linecolor": "white",
            "ticks": ""
           },
           "bgcolor": "#E5ECF6",
           "radialaxis": {
            "gridcolor": "white",
            "linecolor": "white",
            "ticks": ""
           }
          },
          "scene": {
           "xaxis": {
            "backgroundcolor": "#E5ECF6",
            "gridcolor": "white",
            "gridwidth": 2,
            "linecolor": "white",
            "showbackground": true,
            "ticks": "",
            "zerolinecolor": "white"
           },
           "yaxis": {
            "backgroundcolor": "#E5ECF6",
            "gridcolor": "white",
            "gridwidth": 2,
            "linecolor": "white",
            "showbackground": true,
            "ticks": "",
            "zerolinecolor": "white"
           },
           "zaxis": {
            "backgroundcolor": "#E5ECF6",
            "gridcolor": "white",
            "gridwidth": 2,
            "linecolor": "white",
            "showbackground": true,
            "ticks": "",
            "zerolinecolor": "white"
           }
          },
          "shapedefaults": {
           "line": {
            "color": "#2a3f5f"
           }
          },
          "ternary": {
           "aaxis": {
            "gridcolor": "white",
            "linecolor": "white",
            "ticks": ""
           },
           "baxis": {
            "gridcolor": "white",
            "linecolor": "white",
            "ticks": ""
           },
           "bgcolor": "#E5ECF6",
           "caxis": {
            "gridcolor": "white",
            "linecolor": "white",
            "ticks": ""
           }
          },
          "title": {
           "x": 0.05
          },
          "xaxis": {
           "automargin": true,
           "gridcolor": "white",
           "linecolor": "white",
           "ticks": "",
           "title": {
            "standoff": 15
           },
           "zerolinecolor": "white",
           "zerolinewidth": 2
          },
          "yaxis": {
           "automargin": true,
           "gridcolor": "white",
           "linecolor": "white",
           "ticks": "",
           "title": {
            "standoff": 15
           },
           "zerolinecolor": "white",
           "zerolinewidth": 2
          }
         }
        },
        "title": {
         "text": "Side By Side Subplots"
        },
        "width": 800,
        "xaxis": {
         "anchor": "y",
         "autorange": true,
         "domain": [
          0,
          0.45
         ],
         "range": [
          -0.5,
          19.5
         ],
         "type": "category"
        },
        "xaxis2": {
         "anchor": "y2",
         "autorange": true,
         "domain": [
          0.55,
          1
         ],
         "range": [
          -0.5,
          19.5
         ],
         "type": "category"
        },
        "yaxis": {
         "anchor": "x",
         "autorange": true,
         "domain": [
          0,
          1
         ],
         "range": [
          0,
          0.04929143561306223
         ],
         "type": "linear"
        },
        "yaxis2": {
         "anchor": "x2",
         "autorange": true,
         "domain": [
          0,
          1
         ],
         "range": [
          0,
          0.03912009870301827
         ],
         "type": "linear"
        }
       }
      },
      "image/png": "[encoded data removed]",
      "text/html": [
       "<div>                            <div id=\"edcb2204-f295-461f-af1e-cc6e93366da5\" class=\"plotly-graph-div\" style=\"height:600px; width:800px;\"></div>            <script type=\"text/javascript\">                require([\"plotly\"], function(Plotly) {                    window.PLOTLYENV=window.PLOTLYENV || {};                                    if (document.getElementById(\"edcb2204-f295-461f-af1e-cc6e93366da5\")) {                    Plotly.newPlot(                        \"edcb2204-f295-461f-af1e-cc6e93366da5\",                        [{\"name\":\"pwc pro\",\"x\":[\"good\",\"great\",\"work\",\"environment\",\"people\",\"lot\",\"learning\",\"nice\",\"opportunities\",\"international\",\"young\",\"working\",\"salary\",\"company\",\"interesting\",\"learn\",\"experience\",\"car\",\"team\",\"projects\"],\"y\":[0.04682686383240912,0.027418361059765865,0.025261860751694395,0.020948860135551448,0.01756007393715342,0.0166358595194085,0.015711645101663587,0.015095502156500308,0.014787430683918669,0.013247073321010475,0.012014787430683918,0.01139864448552064,0.011090573012939002,0.011090573012939002,0.010474430067775724,0.010474430067775724,0.010474430067775724,0.010166358595194085,0.010166358595194085,0.009550215650030808],\"type\":\"bar\",\"xaxis\":\"x\",\"yaxis\":\"y\"},{\"name\":\"pwc cons\",\"x\":[\"work\",\"life\",\"hours\",\"balance\",\"salary\",\"working\",\"long\",\"people\",\"low\",\"high\",\"company\",\"lot\",\"time\",\"sometimes\",\"pressure\",\"management\",\"much\",\"workload\",\"busy\",\"really\"],\"y\":[0.037164093767867355,0.02029731275014294,0.018867924528301886,0.018296169239565466,0.014579759862778732,0.0137221269296741,0.013150371640937679,0.012292738707833047,0.009148084619782733,0.008862206975414523,0.008576329331046312,0.008290451686678102,0.008004574042309892,0.008004574042309892,0.007432818753573471,0.007432818753573471,0.0065751858204688395,0.006289308176100629,0.005145797598627788,0.005145797598627788],\"type\":\"bar\",\"xaxis\":\"x2\",\"yaxis\":\"y2\"}],                        {\"template\":{\"data\":{\"histogram2dcontour\":[{\"type\":\"histogram2dcontour\",\"colorbar\":{\"outlinewidth\":0,\"ticks\":\"\"},\"colorscale\":[[0.0,\"#0d0887\"],[0.1111111111111111,\"#46039f\"],[0.2222222222222222,\"#7201a8\"],[0.3333333333333333,\"#9c179e\"],[0.4444444444444444,\"#bd3786\"],[0.5555555555555556,\"#d8576b\"],[0.6666666666666666,\"#ed7953\"],[0.7777777777777778,\"#fb9f3a\"],[0.8888888888888888,\"#fdca26\"],[1.0,\"#f0f921\"]]}],\"choropleth\":[{\"type\":\"choropleth\",\"colorbar\":{\"outlinewidth\":0,\"ticks\":\"\"}}],\"histogram2d\":[{\"type\":\"histogram2d\",\"colorbar\":{\"outlinewidth\":0,\"ticks\":\"\"},\"colorscale\":[[0.0,\"#0d0887\"],[0.1111111111111111,\"#46039f\"],[0.2222222222222222,\"#7201a8\"],[0.3333333333333333,\"#9c179e\"],[0.4444444444444444,\"#bd3786\"],[0.5555555555555556,\"#d8576b\"],[0.6666666666666666,\"#ed7953\"],[0.7777777777777778,\"#fb9f3a\"],[0.8888888888888888,\"#fdca26\"],[1.0,\"#f0f921\"]]}],\"heatmap\":[{\"type\":\"heatmap\",\"colorbar\":{\"outlinewidth\":0,\"ticks\":\"\"},\"colorscale\":[[0.0,\"#0d0887\"],[0.1111111111111111,\"#46039f\"],[0.2222222222222222,\"#7201a8\"],[0.3333333333333333,\"#9c179e\"],[0.4444444444444444,\"#bd3786\"],[0.5555555555555556,\"#d8576b\"],[0.6666666666666666,\"#ed7953\"],[0.7777777777777778,\"#fb9f3a\"],[0.8888888888888888,\"#fdca26\"],[1.0,\"#f0f921\"]]}],\"heatmapgl\":[{\"type\":\"heatmapgl\",\"colorbar\":{\"outlinewidth\":0,\"ticks\":\"\"},\"colorscale\":[[0.0,\"#0d0887\"],[0.1111111111111111,\"#46039f\"],[0.2222222222222222,\"#7201a8\"],[0.3333333333333333,\"#9c179e\"],[0.4444444444444444,\"#bd3786\"],[0.5555555555555556,\"#d8576b\"],[0.6666666666666666,\"#ed7953\"],[0.7777777777777778,\"#fb9f3a\"],[0.8888888888888888,\"#fdca26\"],[1.0,\"#f0f921\"]]}],\"contourcarpet\":[{\"type\":\"contourcarpet\",\"colorbar\":{\"outlinewidth\":0,\"ticks\":\"\"}}],\"contour\":[{\"type\":\"contour\",\"colorbar\":{\"outlinewidth\":0,\"ticks\":\"\"},\"colorscale\":[[0.0,\"#0d0887\"],[0.1111111111111111,\"#46039f\"],[0.2222222222222222,\"#7201a8\"],[0.3333333333333333,\"#9c179e\"],[0.4444444444444444,\"#bd3786\"],[0.5555555555555556,\"#d8576b\"],[0.6666666666666666,\"#ed7953\"],[0.7777777777777778,\"#fb9f3a\"],[0.8888888888888888,\"#fdca26\"],[1.0,\"#f0f921\"]]}],\"surface\":[{\"type\":\"surface\",\"colorbar\":{\"outlinewidth\":0,\"ticks\":\"\"},\"colorscale\":[[0.0,\"#0d0887\"],[0.1111111111111111,\"#46039f\"],[0.2222222222222222,\"#7201a8\"],[0.3333333333333333,\"#9c179e\"],[0.4444444444444444,\"#bd3786\"],[0.5555555555555556,\"#d8576b\"],[0.6666666666666666,\"#ed7953\"],[0.7777777777777778,\"#fb9f3a\"],[0.8888888888888888,\"#fdca26\"],[1.0,\"#f0f921\"]]}],\"mesh3d\":[{\"type\":\"mesh3d\",\"colorbar\":{\"outlinewidth\":0,\"ticks\":\"\"}}],\"scatter\":[{\"fillpattern\":{\"fillmode\":\"overlay\",\"size\":10,\"solidity\":0.2},\"type\":\"scatter\"}],\"parcoords\":[{\"type\":\"parcoords\",\"line\":{\"colorbar\":{\"outlinewidth\":0,\"ticks\":\"\"}}}],\"scatterpolargl\":[{\"type\":\"scatterpolargl\",\"marker\":{\"colorbar\":{\"outlinewidth\":0,\"ticks\":\"\"}}}],\"bar\":[{\"error_x\":{\"color\":\"#2a3f5f\"},\"error_y\":{\"color\":\"#2a3f5f\"},\"marker\":{\"line\":{\"color\":\"#E5ECF6\",\"width\":0.5},\"pattern\":{\"fillmode\":\"overlay\",\"size\":10,\"solidity\":0.2}},\"type\":\"bar\"}],\"scattergeo\":[{\"type\":\"scattergeo\",\"marker\":{\"colorbar\":{\"outlinewidth\":0,\"ticks\":\"\"}}}],\"scatterpolar\":[{\"type\":\"scatterpolar\",\"marker\":{\"colorbar\":{\"outlinewidth\":0,\"ticks\":\"\"}}}],\"histogram\":[{\"marker\":{\"pattern\":{\"fillmode\":\"overlay\",\"size\":10,\"solidity\":0.2}},\"type\":\"histogram\"}],\"scattergl\":[{\"type\":\"scattergl\",\"marker\":{\"colorbar\":{\"outlinewidth\":0,\"ticks\":\"\"}}}],\"scatter3d\":[{\"type\":\"scatter3d\",\"line\":{\"colorbar\":{\"outlinewidth\":0,\"ticks\":\"\"}},\"marker\":{\"colorbar\":{\"outlinewidth\":0,\"ticks\":\"\"}}}],\"scattermapbox\":[{\"type\":\"scattermapbox\",\"marker\":{\"colorbar\":{\"outlinewidth\":0,\"ticks\":\"\"}}}],\"scatterternary\":[{\"type\":\"scatterternary\",\"marker\":{\"colorbar\":{\"outlinewidth\":0,\"ticks\":\"\"}}}],\"scattercarpet\":[{\"type\":\"scattercarpet\",\"marker\":{\"colorbar\":{\"outlinewidth\":0,\"ticks\":\"\"}}}],\"carpet\":[{\"aaxis\":{\"endlinecolor\":\"#2a3f5f\",\"gridcolor\":\"white\",\"linecolor\":\"white\",\"minorgridcolor\":\"white\",\"startlinecolor\":\"#2a3f5f\"},\"baxis\":{\"endlinecolor\":\"#2a3f5f\",\"gridcolor\":\"white\",\"linecolor\":\"white\",\"minorgridcolor\":\"white\",\"startlinecolor\":\"#2a3f5f\"},\"type\":\"carpet\"}],\"table\":[{\"cells\":{\"fill\":{\"color\":\"#EBF0F8\"},\"line\":{\"color\":\"white\"}},\"header\":{\"fill\":{\"color\":\"#C8D4E3\"},\"line\":{\"color\":\"white\"}},\"type\":\"table\"}],\"barpolar\":[{\"marker\":{\"line\":{\"color\":\"#E5ECF6\",\"width\":0.5},\"pattern\":{\"fillmode\":\"overlay\",\"size\":10,\"solidity\":0.2}},\"type\":\"barpolar\"}],\"pie\":[{\"automargin\":true,\"type\":\"pie\"}]},\"layout\":{\"autotypenumbers\":\"strict\",\"colorway\":[\"#636efa\",\"#EF553B\",\"#00cc96\",\"#ab63fa\",\"#FFA15A\",\"#19d3f3\",\"#FF6692\",\"#B6E880\",\"#FF97FF\",\"#FECB52\"],\"font\":{\"color\":\"#2a3f5f\"},\"hovermode\":\"closest\",\"hoverlabel\":{\"align\":\"left\"},\"paper_bgcolor\":\"white\",\"plot_bgcolor\":\"#E5ECF6\",\"polar\":{\"bgcolor\":\"#E5ECF6\",\"angularaxis\":{\"gridcolor\":\"white\",\"linecolor\":\"white\",\"ticks\":\"\"},\"radialaxis\":{\"gridcolor\":\"white\",\"linecolor\":\"white\",\"ticks\":\"\"}},\"ternary\":{\"bgcolor\":\"#E5ECF6\",\"aaxis\":{\"gridcolor\":\"white\",\"linecolor\":\"white\",\"ticks\":\"\"},\"baxis\":{\"gridcolor\":\"white\",\"linecolor\":\"white\",\"ticks\":\"\"},\"caxis\":{\"gridcolor\":\"white\",\"linecolor\":\"white\",\"ticks\":\"\"}},\"coloraxis\":{\"colorbar\":{\"outlinewidth\":0,\"ticks\":\"\"}},\"colorscale\":{\"sequential\":[[0.0,\"#0d0887\"],[0.1111111111111111,\"#46039f\"],[0.2222222222222222,\"#7201a8\"],[0.3333333333333333,\"#9c179e\"],[0.4444444444444444,\"#bd3786\"],[0.5555555555555556,\"#d8576b\"],[0.6666666666666666,\"#ed7953\"],[0.7777777777777778,\"#fb9f3a\"],[0.8888888888888888,\"#fdca26\"],[1.0,\"#f0f921\"]],\"sequentialminus\":[[0.0,\"#0d0887\"],[0.1111111111111111,\"#46039f\"],[0.2222222222222222,\"#7201a8\"],[0.3333333333333333,\"#9c179e\"],[0.4444444444444444,\"#bd3786\"],[0.5555555555555556,\"#d8576b\"],[0.6666666666666666,\"#ed7953\"],[0.7777777777777778,\"#fb9f3a\"],[0.8888888888888888,\"#fdca26\"],[1.0,\"#f0f921\"]],\"diverging\":[[0,\"#8e0152\"],[0.1,\"#c51b7d\"],[0.2,\"#de77ae\"],[0.3,\"#f1b6da\"],[0.4,\"#fde0ef\"],[0.5,\"#f7f7f7\"],[0.6,\"#e6f5d0\"],[0.7,\"#b8e186\"],[0.8,\"#7fbc41\"],[0.9,\"#4d9221\"],[1,\"#276419\"]]},\"xaxis\":{\"gridcolor\":\"white\",\"linecolor\":\"white\",\"ticks\":\"\",\"title\":{\"standoff\":15},\"zerolinecolor\":\"white\",\"automargin\":true,\"zerolinewidth\":2},\"yaxis\":{\"gridcolor\":\"white\",\"linecolor\":\"white\",\"ticks\":\"\",\"title\":{\"standoff\":15},\"zerolinecolor\":\"white\",\"automargin\":true,\"zerolinewidth\":2},\"scene\":{\"xaxis\":{\"backgroundcolor\":\"#E5ECF6\",\"gridcolor\":\"white\",\"linecolor\":\"white\",\"showbackground\":true,\"ticks\":\"\",\"zerolinecolor\":\"white\",\"gridwidth\":2},\"yaxis\":{\"backgroundcolor\":\"#E5ECF6\",\"gridcolor\":\"white\",\"linecolor\":\"white\",\"showbackground\":true,\"ticks\":\"\",\"zerolinecolor\":\"white\",\"gridwidth\":2},\"zaxis\":{\"backgroundcolor\":\"#E5ECF6\",\"gridcolor\":\"white\",\"linecolor\":\"white\",\"showbackground\":true,\"ticks\":\"\",\"zerolinecolor\":\"white\",\"gridwidth\":2}},\"shapedefaults\":{\"line\":{\"color\":\"#2a3f5f\"}},\"annotationdefaults\":{\"arrowcolor\":\"#2a3f5f\",\"arrowhead\":0,\"arrowwidth\":1},\"geo\":{\"bgcolor\":\"white\",\"landcolor\":\"#E5ECF6\",\"subunitcolor\":\"white\",\"showland\":true,\"showlakes\":true,\"lakecolor\":\"white\"},\"title\":{\"x\":0.05},\"mapbox\":{\"style\":\"light\"}}},\"xaxis\":{\"anchor\":\"y\",\"domain\":[0.0,0.45]},\"yaxis\":{\"anchor\":\"x\",\"domain\":[0.0,1.0]},\"xaxis2\":{\"anchor\":\"y2\",\"domain\":[0.55,1.0]},\"yaxis2\":{\"anchor\":\"x2\",\"domain\":[0.0,1.0]},\"title\":{\"text\":\"Side By Side Subplots\"},\"height\":600,\"width\":800},                        {\"responsive\": true}                    ).then(function(){\n",
       "                            \n",
       "var gd = document.getElementById('edcb2204-f295-461f-af1e-cc6e93366da5');\n",
       "var x = new MutationObserver(function (mutations, observer) {{\n",
       "        var display = window.getComputedStyle(gd).display;\n",
       "        if (!display || display === 'none') {{\n",
       "            console.log([gd, 'removed!']);\n",
       "            Plotly.purge(gd);\n",
       "            observer.disconnect();\n",
       "        }}\n",
       "}});\n",
       "\n",
       "// Listen for the removal of the full notebook cells\n",
       "var notebookContainer = gd.closest('#notebook-container');\n",
       "if (notebookContainer) {{\n",
       "    x.observe(notebookContainer, {childList: true});\n",
       "}}\n",
       "\n",
       "// Listen for the clearing of the current output cell\n",
       "var outputEl = gd.closest('.output');\n",
       "if (outputEl) {{\n",
       "    x.observe(outputEl, {childList: true});\n",
       "}}\n",
       "\n",
       "                        })                };                });            </script>        </div>"
      ]
     },
     "metadata": {},
     "output_type": "display_data"
    }
   ],
   "source": [
    "fig.add_trace(go.Bar(name='pwc pro', x=list(data_pro.keys()), y=list(data_pro.values())),\n",
    "             row=1, col=1)\n",
    "fig.add_trace(go.Bar(name='pwc cons', x=list(data_cons.keys()), y=list(data_cons.values())),\n",
    "             row=1, col=2)\n",
    "fig.update_layout(height=600, width=800, title_text=\"Side By Side Subplots\")\n",
    "\n",
    "fig.show()"
   ]
  },
  {
   "cell_type": "code",
   "execution_count": 64,
   "id": "28262077-a6b1-425e-a54c-f9a4abaf3ed9",
   "metadata": {},
   "outputs": [
    {
     "ename": "TypeError",
     "evalue": "unhashable type: 'slice'",
     "output_type": "error",
     "traceback": [
      "\u001b[0;31m---------------------------------------------------------------------------\u001b[0m",
      "\u001b[0;31mTypeError\u001b[0m                                 Traceback (most recent call last)",
      "\u001b[0;32m/var/folders/75/_lpdck312plbd86wrgx53dbc0000gn/T/ipykernel_2745/3240364864.py\u001b[0m in \u001b[0;36m<module>\u001b[0;34m\u001b[0m\n\u001b[0;32m----> 1\u001b[0;31m \u001b[0mblobs_ordered\u001b[0m\u001b[0;34m[\u001b[0m\u001b[0;34m'pros'\u001b[0m\u001b[0;34m]\u001b[0m\u001b[0;34m[\u001b[0m\u001b[0;34m'pwc'\u001b[0m\u001b[0;34m]\u001b[0m\u001b[0;34m[\u001b[0m\u001b[0;34m:\u001b[0m\u001b[0;36m20\u001b[0m\u001b[0;34m]\u001b[0m\u001b[0;34m\u001b[0m\u001b[0;34m\u001b[0m\u001b[0m\n\u001b[0m",
      "\u001b[0;31mTypeError\u001b[0m: unhashable type: 'slice'"
     ]
    }
   ],
   "source": [
    "blobs_ordered['pros']['pwc'][:20]"
   ]
  },
  {
   "cell_type": "code",
   "execution_count": null,
   "id": "8ff3940d-035e-473c-af56-4d099f7a1d08",
   "metadata": {},
   "outputs": [],
   "source": []
  },
  {
   "cell_type": "code",
   "execution_count": null,
   "id": "9356b0a2-047b-470f-98d8-9d0b2de250fb",
   "metadata": {},
   "outputs": [],
   "source": []
  },
  {
   "cell_type": "code",
   "execution_count": null,
   "id": "272c0cfb-049b-44af-86e2-57ca61ad7ab4",
   "metadata": {},
   "outputs": [],
   "source": []
  },
  {
   "cell_type": "code",
   "execution_count": null,
   "id": "ee5e5607-5fc1-46fa-80b5-626f5a06df77",
   "metadata": {},
   "outputs": [],
   "source": []
  },
  {
   "cell_type": "code",
   "execution_count": null,
   "id": "3458eac6-845b-40ea-a87f-191f804e288b",
   "metadata": {},
   "outputs": [],
   "source": []
  },
  {
   "cell_type": "code",
   "execution_count": null,
   "id": "ce5b5600-8b7e-4cba-bfcc-05f687fee25c",
   "metadata": {},
   "outputs": [],
   "source": []
  },
  {
   "cell_type": "markdown",
   "id": "3d975d93-c070-4260-8b66-907dd3a26a23",
   "metadata": {},
   "source": [
    "### Dashboard"
   ]
  },
  {
   "cell_type": "code",
   "execution_count": 57,
   "id": "bd16aac1-681f-4334-b45a-de4e6fd5c18e",
   "metadata": {},
   "outputs": [],
   "source": [
    "rating_names = ['Main rating', 'Work/Life Balance', 'Culture & Values', 'Diversity & Inclusion', 'Career Opportunities', 'Compensation and Benefits', 'Senior Management']\n",
    "company_names = ['Accenture', 'Bain & Company', 'Deloitte', 'EY', 'KPMG', 'PwC']\n",
    "# Add explanation"
   ]
  },
  {
   "cell_type": "code",
   "execution_count": 142,
   "id": "9813d40d-3131-4cf6-a5a0-dbd8cbd4c6ea",
   "metadata": {},
   "outputs": [
    {
     "name": "stdout",
     "output_type": "stream",
     "text": [
      "Dash is running on http://127.0.0.1:8050/\n",
      "\n",
      "Dash is running on http://127.0.0.1:8050/\n",
      "\n",
      "Dash is running on http://127.0.0.1:8050/\n",
      "\n",
      "Dash is running on http://127.0.0.1:8050/\n",
      "\n",
      "Dash is running on http://127.0.0.1:8050/\n",
      "\n",
      "Dash is running on http://127.0.0.1:8050/\n",
      "\n",
      "Dash is running on http://127.0.0.1:8050/\n",
      "\n",
      "Dash is running on http://127.0.0.1:8050/\n",
      "\n",
      "Dash is running on http://127.0.0.1:8050/\n",
      "\n",
      "Dash is running on http://127.0.0.1:8050/\n",
      "\n",
      "Dash is running on http://127.0.0.1:8050/\n",
      "\n",
      "Dash is running on http://127.0.0.1:8050/\n",
      "\n",
      " * Serving Flask app \"__main__\" (lazy loading)\n",
      " * Environment: production\n",
      "\u001b[31m   WARNING: This is a development server. Do not use it in a production deployment.\u001b[0m\n",
      "\u001b[2m   Use a production WSGI server instead.\u001b[0m\n",
      " * Debug mode: off\n"
     ]
    },
    {
     "name": "stderr",
     "output_type": "stream",
     "text": [
      " * Running on http://127.0.0.1:8050/ (Press CTRL+C to quit)\n"
     ]
    }
   ],
   "source": [
    "# Initializing the dash object\n",
    "app = dash.Dash(external_stylesheets=external_stylesheets) # Always include\n",
    "\n",
    "# Application layout: \n",
    "app.layout = html.Div(\n",
    "    children=[\n",
    "        html.H1(children='Employee satisfaction dashboard consultancy firms'),\n",
    "        \n",
    "        html.Div([\n",
    "            html.Label('Rating'),\n",
    "            dcc.Dropdown(\n",
    "                id='rating',\n",
    "                options=[{'label': rating_names[i], 'value': star_columns[i]} for i in range(len(star_columns))],\n",
    "                value='',\n",
    "                placeholder='Rating',\n",
    "                multi=True\n",
    "                )\n",
    "            ],\n",
    "            style={'width': '15%', 'display': 'inline-block', 'margin-bottom': '20px'}),\n",
    "        \n",
    "        dcc.DatePickerRange(\n",
    "            id='dates',\n",
    "            min_date_allowed=date(2012, 1, 1),\n",
    "            max_date_allowed=date(2022, 5, 1),\n",
    "            initial_visible_month=date(2015, 1, 1),\n",
    "            end_date=date(2022, 5, 1)\n",
    "        ),\n",
    "        \n",
    "        dcc.Checklist(\n",
    "            id='companies',\n",
    "            options=[{'label': company_names[i], 'value': companies[i]} for i in range(len(companies))],\n",
    "            inline=True\n",
    "        ),\n",
    "        \n",
    "        dcc.Graph(\n",
    "            id='ratings_plot',\n",
    "            style={'width': '60%', 'display': 'inline-block', 'margin-bottom': '20px'}   \n",
    "        ),\n",
    "        \n",
    "        dcc.Checklist(\n",
    "            id='companies2',\n",
    "            options=[{'label': company_names[i], 'value': companies[i]} for i in range(len(companies))],\n",
    "            inline=True\n",
    "        ),\n",
    "        \n",
    "        dcc.Graph(\n",
    "            id='recommendations_plot',\n",
    "            style={'width': '60%', 'display': 'inline-block', 'margin-bottom': '20px'}   \n",
    "        ),\n",
    "        \n",
    "        html.Div([\n",
    "            html.Label('Company3'),\n",
    "            dcc.Dropdown(\n",
    "                id='company3',\n",
    "                options=[{'label': company_names[i], 'value': companies[i]} for i in range(len(companies))],\n",
    "                value='pwc',\n",
    "                placeholder='pwc',\n",
    "                multi=True\n",
    "                )\n",
    "            ],\n",
    "            style={'width': '15%', 'display': 'inline-block', 'margin-bottom': '20px'}),\n",
    "        \n",
    "        html.Div([\n",
    "            html.Label('Company4'),\n",
    "            dcc.Dropdown(\n",
    "                id='company4',\n",
    "                options=[{'label': company_names[i], 'value': companies[i]} for i in range(len(companies))],\n",
    "                value='accenture',\n",
    "                placeholder='accenture',\n",
    "                multi=True\n",
    "                )\n",
    "            ],\n",
    "            style={'width': '15%', 'display': 'inline-block', 'margin-bottom': '20px'}),\n",
    "        \n",
    "        dcc.Graph(\n",
    "            id='words_plot1',\n",
    "            style={'width': '60%', 'display': 'inline-block', 'margin-bottom': '20px'}   \n",
    "        ),\n",
    "        \n",
    "        dcc.Graph(\n",
    "            id='words_plot2',\n",
    "            style={'width': '60%', 'display': 'inline-block', 'margin-bottom': '20px'}   \n",
    "        ),\n",
    "        \n",
    "        html.Div(id='test_tex')\n",
    "    ]\n",
    ")   \n",
    "\n",
    "# --- NEW --- \n",
    "# callback decorator + a function that manipulates the data and returns a dictionary\n",
    "\n",
    "@app.callback(\n",
    "    dash.dependencies.Output('ratings_plot', 'figure'),\n",
    "    dash.dependencies.Input('rating', 'value'),\n",
    "    dash.dependencies.Input('companies', 'value'),\n",
    "    dash.dependencies.Input('dates', 'start_date'),\n",
    "    dash.dependencies.Input('dates', 'end_date'))\n",
    "\n",
    "# def update_graph(input 1,input 2)\n",
    "\n",
    "def update_graph(ratings, companies, start, end):\n",
    "    if None in [companies, ratings, start, end]:\n",
    "        return px.line()\n",
    "    else: \n",
    "        df_companies = df_rolling_means[df_rolling_means['company'].isin(companies)]\n",
    "        df_filtered_end = df_companies[df_companies['month_dates'] <= datetime.strptime(end, '%Y-%m-%d')]\n",
    "        df = df_filtered_end[df_filtered_end['month_dates'] >=datetime.strptime(start, '%Y-%m-%d')]\n",
    "\n",
    "        fig = px.line(df, \n",
    "                      x='month_dates', \n",
    "                      y=ratings, \n",
    "                      color=\"company\", \n",
    "                      hover_name=\"company\",\n",
    "                      line_shape=\"spline\", \n",
    "                      render_mode=\"svg\")\n",
    "\n",
    "        return fig\n",
    "        \n",
    "@app.callback(\n",
    "    dash.dependencies.Output('recommendations_plot', 'figure'),\n",
    "    dash.dependencies.Input('companies2', 'value'))\n",
    "\n",
    "# def update_graph(input 1,input 2)\n",
    "\n",
    "def update_barchart(companies2):\n",
    "    if None in [companies2]:\n",
    "        return go.Figure()\n",
    "    else:\n",
    "        # Prepare subplots for pros and cons\n",
    "        fig = make_subplots(rows=1, cols=2)\n",
    "        \n",
    "        # Filter the data\n",
    "        df_companies2 = recommendation_scores[recommendation_scores.index.isin(companies2)]\n",
    "        \n",
    "        #Create figure\n",
    "        data = []\n",
    "        for company in companies2:\n",
    "            data.append(go.Bar(name=company, x=df_companies2.columns, y=df_companies2.loc[company]))\n",
    "        \n",
    "        fig = go.Figure(data=data)\n",
    "        fig.update_layout(barmode='group')\n",
    "        \n",
    "        return fig\n",
    "    \n",
    "@app.callback(\n",
    "    dash.dependencies.Output('words_plot1', 'figure'),\n",
    "    dash.dependencies.Input('company3', 'value'))\n",
    "\n",
    "# def update_graph(input 1,input 2)\n",
    "\n",
    "def update_wordbars1(company3):\n",
    "    if company3 is None:\n",
    "        return go.Figure()\n",
    "    else:\n",
    "        fig = make_subplots(rows=1, cols=2)\n",
    "        \n",
    "        fig.add_trace(go.Bar(name='Pros', x=list(blobs_ordered['pros'][company3].keys()), y=list(blobs_ordered['pros'][company3].values())),\n",
    "             row=1, col=1)\n",
    "        fig.add_trace(go.Bar(name='Cons', x=list(blobs_ordered['cons'][company3].keys()), y=list(blobs_ordered['cons'][company3].values())),\n",
    "                     row=1, col=2)\n",
    "        fig.update_layout(title_text=\"Side By Side Subplots\")\n",
    "        \n",
    "        return fig\n",
    "    \n",
    "@app.callback(\n",
    "    dash.dependencies.Output('words_plot2', 'figure'),\n",
    "    dash.dependencies.Input('company4', 'value'))\n",
    "\n",
    "# def update_graph(input 1,input 2)\n",
    "\n",
    "def update_wordbars2(company4):\n",
    "    if company4 is None:\n",
    "        return go.Figure()\n",
    "    else:\n",
    "        fig = make_subplots(rows=1, cols=2)\n",
    "        \n",
    "        fig.add_trace(go.Bar(name='Pros', x=list(blobs_ordered['pros'][company4].keys()), y=list(blobs_ordered['pros'][company4].values())),\n",
    "             row=1, col=1)\n",
    "        fig.add_trace(go.Bar(name='Cons', x=list(blobs_ordered['cons'][company4].keys()), y=list(blobs_ordered['cons'][company4].values())),\n",
    "                     row=1, col=2)\n",
    "        fig.update_layout(title_text=\"Side By Side Subplots\")\n",
    "        \n",
    "        return fig\n",
    "    \n",
    "app.run_server() # simple function to run the app on a local server"
   ]
  },
  {
   "cell_type": "code",
   "execution_count": 139,
   "id": "caae70b2-437f-47a5-85c1-a90deab34597",
   "metadata": {},
   "outputs": [
    {
     "name": "stdout",
     "output_type": "stream",
     "text": [
      "Dash is running on http://127.0.0.1:8050/\n",
      "\n",
      "Dash is running on http://127.0.0.1:8050/\n",
      "\n",
      "Dash is running on http://127.0.0.1:8050/\n",
      "\n",
      "Dash is running on http://127.0.0.1:8050/\n",
      "\n",
      "Dash is running on http://127.0.0.1:8050/\n",
      "\n",
      "Dash is running on http://127.0.0.1:8050/\n",
      "\n",
      "Dash is running on http://127.0.0.1:8050/\n",
      "\n",
      "Dash is running on http://127.0.0.1:8050/\n",
      "\n",
      "Dash is running on http://127.0.0.1:8050/\n",
      "\n",
      "Dash is running on http://127.0.0.1:8050/\n",
      "\n",
      "Dash is running on http://127.0.0.1:8050/\n",
      "\n",
      " * Serving Flask app \"__main__\" (lazy loading)\n",
      " * Environment: production\n",
      "\u001b[31m   WARNING: This is a development server. Do not use it in a production deployment.\u001b[0m\n",
      "\u001b[2m   Use a production WSGI server instead.\u001b[0m\n",
      " * Debug mode: off\n"
     ]
    },
    {
     "name": "stderr",
     "output_type": "stream",
     "text": [
      " * Running on http://127.0.0.1:8050/ (Press CTRL+C to quit)\n",
      "127.0.0.1 - - [26/May/2022 14:50:09] \"GET / HTTP/1.1\" 200 -\n",
      "127.0.0.1 - - [26/May/2022 14:50:10] \"GET /_dash-layout HTTP/1.1\" 200 -\n",
      "127.0.0.1 - - [26/May/2022 14:50:10] \"GET /_dash-dependencies HTTP/1.1\" 200 -\n",
      "127.0.0.1 - - [26/May/2022 14:50:10] \"GET /_dash-component-suites/dash/dcc/async-dropdown.js HTTP/1.1\" 200 -\n",
      "127.0.0.1 - - [26/May/2022 14:50:10] \"GET /_dash-component-suites/dash/dcc/async-graph.js HTTP/1.1\" 200 -\n",
      "127.0.0.1 - - [26/May/2022 14:50:10] \"GET /_dash-component-suites/dash/dcc/async-plotlyjs.js HTTP/1.1\" 200 -\n",
      "127.0.0.1 - - [26/May/2022 14:50:10] \"GET /_dash-component-suites/dash/dcc/async-datepicker.js HTTP/1.1\" 200 -\n",
      "127.0.0.1 - - [26/May/2022 14:50:10] \"POST /_dash-update-component HTTP/1.1\" 200 -\n",
      "127.0.0.1 - - [26/May/2022 14:50:10] \"POST /_dash-update-component HTTP/1.1\" 200 -\n",
      "127.0.0.1 - - [26/May/2022 14:50:10] \"POST /_dash-update-component HTTP/1.1\" 200 -\n",
      "127.0.0.1 - - [26/May/2022 14:50:11] \"POST /_dash-update-component HTTP/1.1\" 200 -\n",
      "127.0.0.1 - - [26/May/2022 14:50:11] \"POST /_dash-update-component HTTP/1.1\" 200 -\n"
     ]
    }
   ],
   "source": [
    "# Initializing the dash object\n",
    "app = dash.Dash(external_stylesheets=external_stylesheets) # Always include\n",
    "\n",
    "# Application layout: \n",
    "app.layout = html.Div(\n",
    "    children=[\n",
    "        html.H1(children='Employee satisfaction dashboard consultancy firms'),\n",
    "        \n",
    "        html.Div([\n",
    "            html.Label('Rating'),\n",
    "            dcc.Dropdown(\n",
    "                id='rating',\n",
    "                options=[{'label': rating_names[i], 'value': star_columns[i]} for i in range(len(star_columns))],\n",
    "                value='',\n",
    "                placeholder='Rating',\n",
    "                multi=True\n",
    "                )\n",
    "            ],\n",
    "            style={'width': '15%', 'display': 'inline-block', 'margin-bottom': '20px'}),\n",
    "        \n",
    "        dcc.Checklist(\n",
    "            id='companies',\n",
    "            options=[{'label': company_names[i], 'value': companies[i]} for i in range(len(companies))],\n",
    "            inline=True\n",
    "        ),\n",
    "        \n",
    "        dcc.Graph(\n",
    "            id='ratings_plot',\n",
    "            style={'width': '60%', 'display': 'inline-block', 'margin-bottom': '20px'}   \n",
    "        ),\n",
    "        \n",
    "        dcc.DatePickerRange(\n",
    "            id='dates',\n",
    "            min_date_allowed=date(2012, 1, 1),\n",
    "            max_date_allowed=date(2022, 5, 1),\n",
    "            initial_visible_month=date(2015, 1, 1),\n",
    "            end_date=date(2022, 5, 1)\n",
    "        ),\n",
    "        \n",
    "        dcc.Checklist(\n",
    "            id='companies2',\n",
    "            options=[{'label': company_names[i], 'value': companies[i]} for i in range(len(companies))],\n",
    "            inline=True\n",
    "        ),\n",
    "        \n",
    "        dcc.Graph(\n",
    "            id='recommendations_plot',\n",
    "            style={'width': '60%', 'display': 'inline-block', 'margin-bottom': '20px'}   \n",
    "        ),\n",
    "        \n",
    "        html.Div([\n",
    "            html.Label('Company3'),\n",
    "            dcc.Dropdown(\n",
    "                id='company3',\n",
    "                options=[{'label': company_names[i], 'value': companies[i]} for i in range(len(companies))],\n",
    "                value='pwc',\n",
    "                placeholder='pwc',\n",
    "                multi=True\n",
    "                )\n",
    "            ],\n",
    "            style={'width': '15%', 'display': 'inline-block', 'margin-bottom': '20px'}),\n",
    "        \n",
    "        html.Div([\n",
    "            html.Label('Company4'),\n",
    "            dcc.Dropdown(\n",
    "                id='company4',\n",
    "                options=[{'label': company_names[i], 'value': companies[i]} for i in range(len(companies))],\n",
    "                value='accenture',\n",
    "                placeholder='accenture',\n",
    "                multi=True\n",
    "                )\n",
    "            ],\n",
    "            style={'width': '15%', 'display': 'inline-block', 'margin-bottom': '20px'}),\n",
    "        \n",
    "        dcc.Graph(\n",
    "            id='words_plot1',\n",
    "            style={'width': '60%', 'display': 'inline-block', 'margin-bottom': '20px'}   \n",
    "        ),\n",
    "        \n",
    "        dcc.Graph(\n",
    "            id='words_plot2',\n",
    "            style={'width': '60%', 'display': 'inline-block', 'margin-bottom': '20px'}   \n",
    "        ),\n",
    "        \n",
    "        html.Div(id='test_tex')\n",
    "    ]\n",
    ")   \n",
    "\n",
    "# --- NEW --- \n",
    "# callback decorator + a function that manipulates the data and returns a dictionary\n",
    "\n",
    "@app.callback(\n",
    "    dash.dependencies.Output('ratings_plot', 'figure'),\n",
    "    dash.dependencies.Input('rating', 'value'),\n",
    "    dash.dependencies.Input('companies', 'value'),\n",
    "    dash.dependencies.Input('dates', 'start_date'),\n",
    "    dash.dependencies.Input('dates', 'end_date'))\n",
    "\n",
    "# def update_graph(input 1,input 2)\n",
    "\n",
    "def update_graph(ratings, companies, start, end):\n",
    "    if None in [companies, ratings, start, end]:\n",
    "        return px.line()\n",
    "    else: \n",
    "        df_companies = df_rolling_means[df_rolling_means['company'].isin(companies)]\n",
    "        df_filtered_end = df_companies[df_companies['month_dates'] <= datetime.strptime(end, '%Y-%m-%d')]\n",
    "        df = df_filtered_end[df_filtered_end['month_dates'] >=datetime.strptime(start, '%Y-%m-%d')]\n",
    "\n",
    "        fig = px.line(df, \n",
    "                      x='month_dates', \n",
    "                      y=ratings, \n",
    "                      color=\"company\", \n",
    "                      hover_name=\"company\",\n",
    "                      line_shape=\"spline\", \n",
    "                      render_mode=\"svg\")\n",
    "\n",
    "        return fig\n",
    "        \n",
    "@app.callback(\n",
    "    dash.dependencies.Output('recommendations_plot', 'figure'),\n",
    "    dash.dependencies.Input('companies2', 'value'))\n",
    "\n",
    "# def update_graph(input 1,input 2)\n",
    "\n",
    "def update_barchart(companies2):\n",
    "    if None in [companies2]:\n",
    "        return go.Figure()\n",
    "    else:\n",
    "        # Prepare subplots for pros and cons\n",
    "        fig = make_subplots(rows=1, cols=2)\n",
    "        \n",
    "        # Filter the data\n",
    "        df_companies2 = recommendation_scores[recommendation_scores.index.isin(companies2)]\n",
    "        \n",
    "        #Create figure\n",
    "        data = []\n",
    "        for company in companies2:\n",
    "            data.append(go.Bar(name=company, x=df_companies2.columns, y=df_companies2.loc[company]))\n",
    "        \n",
    "        fig = go.Figure(data=data)\n",
    "        fig.update_layout(barmode='group')\n",
    "        \n",
    "        return fig\n",
    "    \n",
    "@app.callback(\n",
    "    dash.dependencies.Output('words_plot1', 'figure'),\n",
    "    dash.dependencies.Input('company3', 'value'))\n",
    "\n",
    "# def update_graph(input 1,input 2)\n",
    "\n",
    "def update_wordbars1(company3):\n",
    "    if company3 is None:\n",
    "        return go.Figure()\n",
    "    else:\n",
    "        fig = make_subplots(rows=1, cols=2)\n",
    "        \n",
    "        fig.add_trace(go.Bar(name='Pros', x=list(blobs_ordered['pros'][company3].keys()), y=list(blobs_ordered['pros'][company3].values())),\n",
    "             row=1, col=1)\n",
    "        fig.add_trace(go.Bar(name='Cons', x=list(blobs_ordered['cons'][company3].keys()), y=list(blobs_ordered['cons'][company3].values())),\n",
    "                     row=1, col=2)\n",
    "        fig.update_layout(title_text=\"Side By Side Subplots\")\n",
    "        \n",
    "        return fig\n",
    "    \n",
    "@app.callback(\n",
    "    dash.dependencies.Output('words_plot2', 'figure'),\n",
    "    dash.dependencies.Input('company4', 'value'))\n",
    "\n",
    "# def update_graph(input 1,input 2)\n",
    "\n",
    "def update_wordbars2(company4):\n",
    "    if company4 is None:\n",
    "        return go.Figure()\n",
    "    else:\n",
    "        fig = make_subplots(rows=1, cols=2)\n",
    "        \n",
    "        fig.add_trace(go.Bar(name='Pros', x=list(blobs_ordered['pros'][company4].keys()), y=list(blobs_ordered['pros'][company4].values())),\n",
    "             row=1, col=1)\n",
    "        fig.add_trace(go.Bar(name='Cons', x=list(blobs_ordered['cons'][company4].keys()), y=list(blobs_ordered['cons'][company4].values())),\n",
    "                     row=1, col=2)\n",
    "        fig.update_layout(title_text=\"Side By Side Subplots\")\n",
    "        \n",
    "        return fig\n",
    "    \n",
    "app.run_server() # simple function to run the app on a local server"
   ]
  },
  {
   "cell_type": "code",
   "execution_count": 58,
   "id": "165c0636-21b0-4393-8495-74043d251454",
   "metadata": {},
   "outputs": [
    {
     "name": "stdout",
     "output_type": "stream",
     "text": [
      "Dash is running on http://127.0.0.1:8050/\n",
      "\n",
      "Dash is running on http://127.0.0.1:8050/\n",
      "\n",
      " * Serving Flask app \"__main__\" (lazy loading)\n",
      " * Environment: production\n",
      "\u001b[31m   WARNING: This is a development server. Do not use it in a production deployment.\u001b[0m\n",
      "\u001b[2m   Use a production WSGI server instead.\u001b[0m\n",
      " * Debug mode: off\n"
     ]
    },
    {
     "name": "stderr",
     "output_type": "stream",
     "text": [
      " * Running on http://127.0.0.1:8050/ (Press CTRL+C to quit)\n",
      "127.0.0.1 - - [26/May/2022 13:40:26] \"GET / HTTP/1.1\" 200 -\n",
      "127.0.0.1 - - [26/May/2022 13:40:26] \"GET /_dash-component-suites/dash/deps/polyfill@7.v2_4_1m1653315497.12.1.min.js HTTP/1.1\" 200 -\n",
      "127.0.0.1 - - [26/May/2022 13:40:26] \"GET /_dash-component-suites/dash/deps/react-dom@16.v2_4_1m1653315497.14.0.min.js HTTP/1.1\" 200 -\n",
      "127.0.0.1 - - [26/May/2022 13:40:27] \"GET /_dash-component-suites/dash/dash-renderer/build/dash_renderer.v2_4_1m1653315497.min.js HTTP/1.1\" 200 -\n",
      "127.0.0.1 - - [26/May/2022 13:40:27] \"GET /_dash-component-suites/dash/dcc/dash_core_components.v2_4_0m1653315497.js HTTP/1.1\" 200 -\n",
      "127.0.0.1 - - [26/May/2022 13:40:27] \"GET /_dash-component-suites/dash/html/dash_html_components.v2_0_3m1653315497.min.js HTTP/1.1\" 200 -\n",
      "127.0.0.1 - - [26/May/2022 13:40:27] \"GET /_dash-component-suites/dash/dash_table/bundle.v5_1_2m1653315497.js HTTP/1.1\" 200 -\n",
      "127.0.0.1 - - [26/May/2022 13:40:27] \"GET /_dash-layout HTTP/1.1\" 200 -\n",
      "127.0.0.1 - - [26/May/2022 13:40:27] \"GET /_dash-dependencies HTTP/1.1\" 200 -\n",
      "127.0.0.1 - - [26/May/2022 13:40:27] \"GET /_dash-component-suites/dash/dcc/async-dropdown.js HTTP/1.1\" 200 -\n",
      "127.0.0.1 - - [26/May/2022 13:40:27] \"GET /_dash-component-suites/dash/dcc/async-graph.js HTTP/1.1\" 200 -\n",
      "127.0.0.1 - - [26/May/2022 13:40:27] \"GET /_dash-component-suites/dash/dcc/async-plotlyjs.js HTTP/1.1\" 200 -\n",
      "127.0.0.1 - - [26/May/2022 13:40:27] \"GET /_dash-component-suites/dash/dcc/async-datepicker.js HTTP/1.1\" 200 -\n",
      "127.0.0.1 - - [26/May/2022 13:40:28] \"POST /_dash-update-component HTTP/1.1\" 200 -\n",
      "127.0.0.1 - - [26/May/2022 13:40:28] \"POST /_dash-update-component HTTP/1.1\" 200 -\n",
      "127.0.0.1 - - [26/May/2022 13:40:28] \"POST /_dash-update-component HTTP/1.1\" 200 -\n"
     ]
    }
   ],
   "source": [
    "# Initializing the dash object\n",
    "app = dash.Dash(external_stylesheets=external_stylesheets) # Always include\n",
    "\n",
    "# Application layout: \n",
    "app.layout = html.Div(\n",
    "    children=[\n",
    "        html.H1(children='Employee satisfaction dashboard consultancy firms'),\n",
    "        \n",
    "        html.Div([\n",
    "            html.Label('Rating'),\n",
    "            dcc.Dropdown(\n",
    "                id='rating',\n",
    "                options=[{'label': rating_names[i], 'value': star_columns[i]} for i in range(len(star_columns))],\n",
    "                value='',\n",
    "                placeholder='Rating',\n",
    "                multi=True\n",
    "                )\n",
    "            ],\n",
    "            style={'width': '15%', 'display': 'inline-block', 'margin-bottom': '20px'}),\n",
    "        \n",
    "        dcc.Checklist(\n",
    "            id='companies',\n",
    "            options=[{'label': company_names[i], 'value': companies[i]} for i in range(len(companies))],\n",
    "            inline=True\n",
    "        ),\n",
    "        \n",
    "        dcc.Graph(\n",
    "            id='ratings_plot',\n",
    "            style={'width': '60%', 'display': 'inline-block', 'margin-bottom': '20px'}   \n",
    "        ),\n",
    "        \n",
    "        dcc.DatePickerRange(\n",
    "            id='dates',\n",
    "            min_date_allowed=date(2012, 1, 1),\n",
    "            max_date_allowed=date(2022, 5, 1),\n",
    "            initial_visible_month=date(2015, 1, 1),\n",
    "            end_date=date(2022, 5, 1)\n",
    "        ),\n",
    "        \n",
    "        dcc.Checklist(\n",
    "            id='companies2',\n",
    "            options=[{'label': company_names[i], 'value': companies[i]} for i in range(len(companies))],\n",
    "            inline=True\n",
    "        ),\n",
    "        \n",
    "        dcc.Graph(\n",
    "            id='recommendations_plot',\n",
    "            style={'width': '60%', 'display': 'inline-block', 'margin-bottom': '20px'}   \n",
    "        ),\n",
    "        \n",
    "        html.Div(id='test_tex')\n",
    "    ]\n",
    ")   \n",
    "\n",
    "# --- NEW --- \n",
    "# callback decorator + a function that manipulates the data and returns a dictionary\n",
    "\n",
    "@app.callback(\n",
    "    dash.dependencies.Output('ratings_plot', 'figure'),\n",
    "    dash.dependencies.Input('rating', 'value'),\n",
    "    dash.dependencies.Input('companies', 'value'),\n",
    "    dash.dependencies.Input('dates', 'start_date'),\n",
    "    dash.dependencies.Input('dates', 'end_date'))\n",
    "\n",
    "# def update_graph(input 1,input 2)\n",
    "\n",
    "def update_graph(ratings, companies, start, end):\n",
    "    if None in [companies, ratings, start, end]:\n",
    "        return px.line()\n",
    "    else: \n",
    "        df_companies = df_rolling_means[df_rolling_means['company'].isin(companies)]\n",
    "        df_filtered_end = df_companies[df_companies['month_dates'] <= datetime.strptime(end, '%Y-%m-%d')]\n",
    "        df = df_filtered_end[df_filtered_end['month_dates'] >=datetime.strptime(start, '%Y-%m-%d')]\n",
    "\n",
    "        fig = px.line(df, \n",
    "                      x='month_dates', \n",
    "                      y=ratings, \n",
    "                      color=\"company\", \n",
    "                      hover_name=\"company\",\n",
    "                      line_shape=\"spline\", \n",
    "                      render_mode=\"svg\")\n",
    "\n",
    "        return fig\n",
    "        \n",
    "@app.callback(\n",
    "    dash.dependencies.Output('recommendations_plot', 'figure'),\n",
    "    dash.dependencies.Input('companies2', 'value'))\n",
    "\n",
    "# def update_graph(input 1,input 2)\n",
    "\n",
    "def update_barchart(companies2):\n",
    "    if None in [companies2]:\n",
    "        return go.Figure()\n",
    "    else:\n",
    "        # Filter the data\n",
    "        df_companies2 = recommendation_scores[recommendation_scores.index.isin(companies2)]\n",
    "        \n",
    "        #Create figure\n",
    "        data = []\n",
    "        for company in companies2:\n",
    "            data.append(go.Bar(name=company, x=df_companies2.columns, y=df_companies2.loc[company]))\n",
    "        \n",
    "        fig = go.Figure(data=data)\n",
    "        fig.update_layout(barmode='group')\n",
    "        \n",
    "        return fig\n",
    "\n",
    "app.run_server() # simple function to run the app on a local server"
   ]
  },
  {
   "cell_type": "code",
   "execution_count": null,
   "id": "4443acb6-79a5-4e84-bfbd-a8a5e0ecc6a0",
   "metadata": {},
   "outputs": [],
   "source": []
  }
 ],
 "metadata": {
  "kernelspec": {
   "display_name": "Python 3 (ipykernel)",
   "language": "python",
   "name": "python3"
  },
  "language_info": {
   "codemirror_mode": {
    "name": "ipython",
    "version": 3
   },
   "file_extension": ".py",
   "mimetype": "text/x-python",
   "name": "python",
   "nbconvert_exporter": "python",
   "pygments_lexer": "ipython3",
   "version": "3.9.7"
  }
 },
 "nbformat": 4,
 "nbformat_minor": 5
}
