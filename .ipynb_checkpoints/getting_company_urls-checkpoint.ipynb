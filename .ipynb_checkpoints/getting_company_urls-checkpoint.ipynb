{
 "cells": [
  {
   "cell_type": "code",
   "execution_count": 68,
   "id": "a703fb4a-6048-4430-a529-ab20bd037405",
   "metadata": {},
   "outputs": [],
   "source": [
    "from selenium import webdriver\n",
    "from bs4 import BeautifulSoup\n",
    "from selenium.webdriver.common.keys import Keys\n",
    "import random\n",
    "import time\n",
    "import pandas as pd\n",
    "import requests"
   ]
  },
  {
   "cell_type": "code",
   "execution_count": 69,
   "id": "63002bba-74bf-4f8c-9b5b-965f52d5099e",
   "metadata": {},
   "outputs": [],
   "source": [
    "def getting_company_reviews_urls_bs(companies):\n",
    "    \"\"\"\n",
    "    Takes a list of company names as input and returns the url of the review section of each company in a dataframe\n",
    "    \"\"\"\n",
    "    driver = webdriver.Chrome('/Users/corentin/Documents/chromedriver')\n",
    "    time.sleep(5)\n",
    "    url = 'https://www.glassdoor.com/Reviews/index.htm'\n",
    "    search_bar_xpath = '//*[@id=\"KeywordSearch\"]'\n",
    "    df = pd.DataFrame({'company': [], 'link': []})\n",
    "    domain = 'https://fr.glassdoor.be'\n",
    "\n",
    "    \n",
    "    for company in companies:\n",
    "        #Searching for the company\n",
    "        driver.get(url)\n",
    "        time.sleep(random.uniform(2, 4))\n",
    "        company_search = driver.find_element_by_xpath(search_bar_xpath)\n",
    "        company_search.send_keys(company)\n",
    "        time.sleep(random.uniform(0, 1))\n",
    "        company_search.send_keys(Keys.ENTER)\n",
    "        print('Search for the company succesful')\n",
    "\n",
    "        #Going on the first company's page\n",
    "        time.sleep(random.uniform(2, 4))\n",
    "        soup = BeautifulSoup(driver.page_source, 'lxml')\n",
    "        first_company_box = domain + soup.find('a', class_ = 'sqLogoLink').get('href')\n",
    "        print('First company found')\n",
    "\n",
    "        #Going in the reviews section of the page and getting the url\n",
    "        time.sleep(random.uniform(2, 4))\n",
    "        sauce = requests.get(first_company_box)\n",
    "        soup = BeautifulSoup(sauce.text, 'lxml')\n",
    "        reviews_url = company_reviews_url = domain + soup.find('a', class_ = 'eiCell cell reviews ').get('href')\n",
    "        print('Search for the company succesful')\n",
    "\n",
    "        \n",
    "        #Populating the dataframe\n",
    "        df = df.append({'company': company, 'link': reviews_url}, ignore_index=True)\n",
    "    \n",
    "    return df\n",
    "    "
   ]
  },
  {
   "cell_type": "code",
   "execution_count": 73,
   "id": "3380dd2c-b484-48d4-8125-4cf795fde047",
   "metadata": {},
   "outputs": [],
   "source": [
    "driver = webdriver.Chrome('/Users/corentin/Documents/chromedriver')\n",
    "url = 'https://www.glassdoor.com/Reviews/index.htm'\n",
    "driver.get(url)\n",
    "time.sleep(4)\n",
    "domain = 'https://fr.glassdoor.be'\n"
   ]
  },
  {
   "cell_type": "code",
   "execution_count": 78,
   "id": "59e2adb4-619f-46ba-ad3e-93ff9b1a84b0",
   "metadata": {},
   "outputs": [
    {
     "name": "stdout",
     "output_type": "stream",
     "text": [
      "None\n"
     ]
    }
   ],
   "source": [
    "soup = BeautifulSoup(driver.page_source, 'lxml')\n",
    "#reviews_url = company_reviews_url = domain + soup.find('a', class_ = 'eiCell cell reviews ').get('href')\n",
    "#reviews_url\n",
    "print(soup.find('a', class_ = 'eiCell cell reviews '))"
   ]
  },
  {
   "cell_type": "code",
   "execution_count": 41,
   "id": "506d065a-c672-4ccf-bc7a-793eb74f3861",
   "metadata": {},
   "outputs": [],
   "source": [
    "def getting_company_reviews_urls(companies):\n",
    "    \"\"\"\n",
    "    Takes a list of company names as input and returns the url of the review section of each company in a dataframe\n",
    "    \"\"\"\n",
    "    driver = webdriver.Chrome('/Users/corentin/Documents/chromedriver')\n",
    "    time.sleep(5)\n",
    "    url = 'https://www.glassdoor.com/Reviews/index.htm'\n",
    "    search_bar_xpath = '//*[@id=\"KeywordSearch\"]'\n",
    "    df = pd.DataFrame({'company': [], 'link': []})\n",
    "\n",
    "    \n",
    "    for company in companies:\n",
    "        #Searching for the company\n",
    "        driver.get(url)\n",
    "        time.sleep(random.uniform(2, 4))\n",
    "        company_search = driver.find_element_by_xpath(search_bar_xpath)\n",
    "        company_search.send_keys(company)\n",
    "        time.sleep(random.uniform(0, 1))\n",
    "        company_search.send_keys(Keys.ENTER)\n",
    "\n",
    "        #Going on the first company's page\n",
    "        time.sleep(random.uniform(2, 4))\n",
    "        first_box = driver.find_element_by_xpath('//*[@id=\"MainCol\"]/div/div[1]/div/div[1]/div/div[2]/h2/a')\n",
    "        first_box.click()\n",
    "\n",
    "        #Going in the reviews section of the page and getting the url\n",
    "        time.sleep(random.uniform(2, 4))\n",
    "        reviews = driver.find_element_by_xpath('//*[@id=\"EIProductHeaders\"]/div/a[1]')\n",
    "        reviews.click()\n",
    "        time.sleep(random.uniform(3, 5))\n",
    "        url = driver.current_url\n",
    "\n",
    "        \n",
    "        #Populating the dataframe\n",
    "        df = df.append({'company': company, 'link': url}, ignore_index=True)\n",
    "    \n",
    "    return df\n",
    "    "
   ]
  },
  {
   "cell_type": "code",
   "execution_count": 70,
   "id": "3b699279-856e-4f39-81b8-54d53d82fc64",
   "metadata": {},
   "outputs": [
    {
     "name": "stdout",
     "output_type": "stream",
     "text": [
      "Search for the company succesful\n",
      "First company found\n"
     ]
    },
    {
     "ename": "AttributeError",
     "evalue": "'NoneType' object has no attribute 'get'",
     "output_type": "error",
     "traceback": [
      "\u001b[0;31m---------------------------------------------------------------------------\u001b[0m",
      "\u001b[0;31mAttributeError\u001b[0m                            Traceback (most recent call last)",
      "\u001b[0;32m/var/folders/75/_lpdck312plbd86wrgx53dbc0000gn/T/ipykernel_3213/1712727559.py\u001b[0m in \u001b[0;36m<module>\u001b[0;34m\u001b[0m\n\u001b[0;32m----> 1\u001b[0;31m \u001b[0mdf\u001b[0m \u001b[0;34m=\u001b[0m \u001b[0mgetting_company_reviews_urls_bs\u001b[0m\u001b[0;34m(\u001b[0m\u001b[0;34m[\u001b[0m\u001b[0;34m'apple'\u001b[0m\u001b[0;34m,\u001b[0m \u001b[0;34m'delhaize'\u001b[0m\u001b[0;34m,\u001b[0m \u001b[0;34m'deloitte'\u001b[0m\u001b[0;34m]\u001b[0m\u001b[0;34m)\u001b[0m\u001b[0;34m\u001b[0m\u001b[0;34m\u001b[0m\u001b[0m\n\u001b[0m\u001b[1;32m      2\u001b[0m \u001b[0mdf\u001b[0m\u001b[0;34m.\u001b[0m\u001b[0mhead\u001b[0m\u001b[0;34m(\u001b[0m\u001b[0;34m)\u001b[0m\u001b[0;34m\u001b[0m\u001b[0;34m\u001b[0m\u001b[0m\n",
      "\u001b[0;32m/var/folders/75/_lpdck312plbd86wrgx53dbc0000gn/T/ipykernel_3213/4127526379.py\u001b[0m in \u001b[0;36mgetting_company_reviews_urls_bs\u001b[0;34m(companies)\u001b[0m\n\u001b[1;32m     31\u001b[0m         \u001b[0msauce\u001b[0m \u001b[0;34m=\u001b[0m \u001b[0mrequests\u001b[0m\u001b[0;34m.\u001b[0m\u001b[0mget\u001b[0m\u001b[0;34m(\u001b[0m\u001b[0mfirst_company_box\u001b[0m\u001b[0;34m)\u001b[0m\u001b[0;34m\u001b[0m\u001b[0;34m\u001b[0m\u001b[0m\n\u001b[1;32m     32\u001b[0m         \u001b[0msoup\u001b[0m \u001b[0;34m=\u001b[0m \u001b[0mBeautifulSoup\u001b[0m\u001b[0;34m(\u001b[0m\u001b[0msauce\u001b[0m\u001b[0;34m.\u001b[0m\u001b[0mtext\u001b[0m\u001b[0;34m,\u001b[0m \u001b[0;34m'lxml'\u001b[0m\u001b[0;34m)\u001b[0m\u001b[0;34m\u001b[0m\u001b[0;34m\u001b[0m\u001b[0m\n\u001b[0;32m---> 33\u001b[0;31m         \u001b[0mreviews_url\u001b[0m \u001b[0;34m=\u001b[0m \u001b[0mcompany_reviews_url\u001b[0m \u001b[0;34m=\u001b[0m \u001b[0mdomain\u001b[0m \u001b[0;34m+\u001b[0m \u001b[0msoup\u001b[0m\u001b[0;34m.\u001b[0m\u001b[0mfind\u001b[0m\u001b[0;34m(\u001b[0m\u001b[0;34m'a'\u001b[0m\u001b[0;34m,\u001b[0m \u001b[0mclass_\u001b[0m \u001b[0;34m=\u001b[0m \u001b[0;34m'eiCell cell reviews '\u001b[0m\u001b[0;34m)\u001b[0m\u001b[0;34m.\u001b[0m\u001b[0mget\u001b[0m\u001b[0;34m(\u001b[0m\u001b[0;34m'href'\u001b[0m\u001b[0;34m)\u001b[0m\u001b[0;34m\u001b[0m\u001b[0;34m\u001b[0m\u001b[0m\n\u001b[0m\u001b[1;32m     34\u001b[0m         \u001b[0mprint\u001b[0m\u001b[0;34m(\u001b[0m\u001b[0;34m'Search for the company succesful'\u001b[0m\u001b[0;34m)\u001b[0m\u001b[0;34m\u001b[0m\u001b[0;34m\u001b[0m\u001b[0m\n\u001b[1;32m     35\u001b[0m \u001b[0;34m\u001b[0m\u001b[0m\n",
      "\u001b[0;31mAttributeError\u001b[0m: 'NoneType' object has no attribute 'get'"
     ]
    }
   ],
   "source": [
    "df = getting_company_reviews_urls_bs(['apple', 'delhaize', 'deloitte'])\n",
    "df.head()"
   ]
  },
  {
   "cell_type": "code",
   "execution_count": 52,
   "id": "1a33eb6d-261c-45bb-b826-dbb878346d75",
   "metadata": {},
   "outputs": [],
   "source": [
    "driver = webdriver.Chrome('/Users/corentin/Documents/chromedriver')"
   ]
  },
  {
   "cell_type": "code",
   "execution_count": 53,
   "id": "e2f91434-a324-490d-8395-28766485b5b2",
   "metadata": {},
   "outputs": [],
   "source": [
    "url = 'https://www.glassdoor.com/Reviews/index.htm'\n",
    "driver.get(url)"
   ]
  },
  {
   "cell_type": "code",
   "execution_count": 79,
   "id": "c31af1bf-a6fd-4d1c-b4f0-feece66d59a3",
   "metadata": {},
   "outputs": [],
   "source": [
    "driver.execute_script(\"\"\"\n",
    "javascript:(function(){\n",
    "  document.getElementsByClassName('hardsellOverlay')[0].remove();\n",
    "  document.getElementsByTagName(\"body\")[0].style.overflow = \"scroll\";\n",
    "  let style = document.createElement('style');\n",
    "  style.innerHTML = `\n",
    "    #LoginModal {\n",
    "      display: none!important;\n",
    "    }\n",
    "  `;\n",
    "  document.head.appendChild(style);\n",
    "  window.addEventListener(\"scroll\", function (event) {\n",
    "    event.stopPropagation();\n",
    "  }, true);\n",
    "})();\n",
    "\"\"\")"
   ]
  },
  {
   "cell_type": "code",
   "execution_count": null,
   "id": "85e266fe-0b70-470f-a051-fd50f4091f78",
   "metadata": {},
   "outputs": [],
   "source": []
  }
 ],
 "metadata": {
  "kernelspec": {
   "display_name": "Python 3 (ipykernel)",
   "language": "python",
   "name": "python3"
  },
  "language_info": {
   "codemirror_mode": {
    "name": "ipython",
    "version": 3
   },
   "file_extension": ".py",
   "mimetype": "text/x-python",
   "name": "python",
   "nbconvert_exporter": "python",
   "pygments_lexer": "ipython3",
   "version": "3.9.7"
  }
 },
 "nbformat": 4,
 "nbformat_minor": 5
}
