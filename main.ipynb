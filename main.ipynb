{
 "cells": [
  {
   "cell_type": "markdown",
   "id": "0df6a159-0764-468f-baaa-cac1ba6e0161",
   "metadata": {
    "tags": []
   },
   "source": [
    "### This scraper functions as follows:\n",
    "1) With setup_driver, it launches the driver and sets it up\n",
    "<span style=\"color:red\">Would be interesting to already have the links ready for scraping\n",
    "considering you just have to add sth like \"\"\"?sort.sortType=RD&sort.ascending=false&filter.iso3Language=eng\"\"\"\n",
    "at the end.\n",
    "</span>\n",
    "2) With setup_url_site, it uses some filters for language and to have chronological order\n",
    "3) With single_page scraper, it scrapes all the required info on a single page\n",
    "4) With scrape_all_pages, it takes the link of the first page after filters (they affect the link)\n",
    "<span style=\"color:red\"> The link can be simply altered to go to the next page</span>\n",
    "\n"
   ]
  },
  {
   "cell_type": "markdown",
   "id": "c0567281-a783-4fec-abec-ee0532a753e2",
   "metadata": {
    "tags": []
   },
   "source": [
    "### Question\n",
    "- QUANTITY of pages (already 2900pages for pwc) ==> 1/5\n",
    "- Should I use link alteration or click? Behaviour human?\n",
    "- What is an acceptable rate of scraping (request/sec) so that I don't get banned?\n",
    "- Should I do most hiring HEC companies?\n",
    "- For how many years should I scrape?\n",
    "- Should I only scrape belgian salaries then? Bc I cannot do that for reviews. For different jobs maybe do dimensionality reduction. OR check latent semantic analysis.\n",
    "- I took only english is that okay?\n",
    "- Should I pull one df per company? And retrain each time? \n",
    "- Sentiment of pros and cons? what can I get out of that?"
   ]
  },
  {
   "cell_type": "markdown",
   "id": "7edc70b8-8860-4e7c-acc5-14a56b0d9e3c",
   "metadata": {
    "tags": []
   },
   "source": [
    "### IDEA: \n",
    "- Try scraping salaries and see outcome for most hiring companies of HEC\n",
    "- What about trying to cluster people by ratings etc, maybe I could reject the eternally unhappy (rageux) and the eternally happy (n'ont jamais vu autre chose) to just keep the relevant ones\n",
    "- Check relationship between sentence length or vocabulary diversity and score?\n",
    "- Check words that correlate the most with rating and do word clouds for every year."
   ]
  },
  {
   "cell_type": "code",
   "execution_count": 2,
   "id": "3e2a13a9-4a1c-47b4-95f2-54e908f56e23",
   "metadata": {},
   "outputs": [],
   "source": [
    "# Imports\n",
    "from selenium import webdriver\n",
    "from bs4 import BeautifulSoup\n",
    "from selenium.webdriver.common.keys import Keys\n",
    "from selenium.webdriver.common.action_chains import ActionChains\n",
    "from selenium.common.exceptions import ElementClickInterceptedException, ElementNotInteractableException, WebDriverException\n",
    "from getting_link import getting_company_reviews_urls_bs\n",
    "\n",
    "import random\n",
    "import time\n",
    "import pandas as pd\n",
    "import numpy as np"
   ]
  },
  {
   "cell_type": "markdown",
   "id": "0f028f75-61be-4053-976f-013298516d14",
   "metadata": {},
   "source": [
    "### Getting the companies links"
   ]
  },
  {
   "cell_type": "code",
   "execution_count": 4,
   "id": "d52788f0-1a1f-4d1d-9d5e-8b6f837830e2",
   "metadata": {},
   "outputs": [],
   "source": [
    "companies = ['pwc', 'belfius', 'ey', 'bnp paribas', 'john cockerill', \n",
    "             'uliege','odoo', 'alter domus', 'nrb', 'cbc', 'kpmg',\n",
    "             'total energies', 'kbc', 'bdo', 'deloitte', 'ethias']"
   ]
  },
  {
   "cell_type": "code",
   "execution_count": 44,
   "id": "9ac7e694-6554-45f7-96b0-0880ac2b5566",
   "metadata": {},
   "outputs": [],
   "source": [
    "# Etendre au lux et faire peut-être plus d'entreprises...."
   ]
  },
  {
   "cell_type": "code",
   "execution_count": 12,
   "id": "e6233e4b-e6d5-4924-b84c-a386fe558b39",
   "metadata": {},
   "outputs": [],
   "source": [
    "#companies_links = getting_company_reviews_urls_bs(companies)"
   ]
  },
  {
   "cell_type": "code",
   "execution_count": 16,
   "id": "630a90c8-0f55-499f-9b41-e41726a35f39",
   "metadata": {},
   "outputs": [
    {
     "data": {
      "text/html": [
       "<div>\n",
       "<style scoped>\n",
       "    .dataframe tbody tr th:only-of-type {\n",
       "        vertical-align: middle;\n",
       "    }\n",
       "\n",
       "    .dataframe tbody tr th {\n",
       "        vertical-align: top;\n",
       "    }\n",
       "\n",
       "    .dataframe thead th {\n",
       "        text-align: right;\n",
       "    }\n",
       "</style>\n",
       "<table border=\"1\" class=\"dataframe\">\n",
       "  <thead>\n",
       "    <tr style=\"text-align: right;\">\n",
       "      <th></th>\n",
       "      <th>Unnamed: 0</th>\n",
       "      <th>company</th>\n",
       "      <th>link</th>\n",
       "    </tr>\n",
       "  </thead>\n",
       "  <tbody>\n",
       "    <tr>\n",
       "      <th>0</th>\n",
       "      <td>0</td>\n",
       "      <td>pwc</td>\n",
       "      <td>https://fr.glassdoor.be/Avis/PwC-Avis-E8450.htm</td>\n",
       "    </tr>\n",
       "    <tr>\n",
       "      <th>1</th>\n",
       "      <td>1</td>\n",
       "      <td>belfius</td>\n",
       "      <td>https://fr.glassdoor.be/Avis/Belfius-Bank-Avis...</td>\n",
       "    </tr>\n",
       "    <tr>\n",
       "      <th>2</th>\n",
       "      <td>2</td>\n",
       "      <td>ey</td>\n",
       "      <td>https://fr.glassdoor.be/Avis/EY-Avis-E2784.htm</td>\n",
       "    </tr>\n",
       "    <tr>\n",
       "      <th>3</th>\n",
       "      <td>3</td>\n",
       "      <td>bnp paribas</td>\n",
       "      <td>https://fr.glassdoor.be/Avis/BNP-Paribas-Avis-...</td>\n",
       "    </tr>\n",
       "    <tr>\n",
       "      <th>4</th>\n",
       "      <td>4</td>\n",
       "      <td>uliege</td>\n",
       "      <td>https://fr.glassdoor.be/Avis/Universidade-de-L...</td>\n",
       "    </tr>\n",
       "  </tbody>\n",
       "</table>\n",
       "</div>"
      ],
      "text/plain": [
       "   Unnamed: 0      company                                               link\n",
       "0           0          pwc    https://fr.glassdoor.be/Avis/PwC-Avis-E8450.htm\n",
       "1           1      belfius  https://fr.glassdoor.be/Avis/Belfius-Bank-Avis...\n",
       "2           2           ey     https://fr.glassdoor.be/Avis/EY-Avis-E2784.htm\n",
       "3           3  bnp paribas  https://fr.glassdoor.be/Avis/BNP-Paribas-Avis-...\n",
       "4           4       uliege  https://fr.glassdoor.be/Avis/Universidade-de-L..."
      ]
     },
     "execution_count": 16,
     "metadata": {},
     "output_type": "execute_result"
    }
   ],
   "source": [
    "df_links = pd.read_csv('data/company_links.csv')\n",
    "df_links.head()"
   ]
  },
  {
   "cell_type": "code",
   "execution_count": 43,
   "id": "926240e4-b306-4589-b11e-a831024a48ee",
   "metadata": {},
   "outputs": [
    {
     "data": {
      "text/html": [
       "<div>\n",
       "<style scoped>\n",
       "    .dataframe tbody tr th:only-of-type {\n",
       "        vertical-align: middle;\n",
       "    }\n",
       "\n",
       "    .dataframe tbody tr th {\n",
       "        vertical-align: top;\n",
       "    }\n",
       "\n",
       "    .dataframe thead th {\n",
       "        text-align: right;\n",
       "    }\n",
       "</style>\n",
       "<table border=\"1\" class=\"dataframe\">\n",
       "  <thead>\n",
       "    <tr style=\"text-align: right;\">\n",
       "      <th></th>\n",
       "      <th>Unnamed: 0</th>\n",
       "      <th>company</th>\n",
       "      <th>link</th>\n",
       "    </tr>\n",
       "  </thead>\n",
       "  <tbody>\n",
       "    <tr>\n",
       "      <th>6</th>\n",
       "      <td>6</td>\n",
       "      <td>kpmg</td>\n",
       "      <td>https://fr.glassdoor.be/Avis/KPMG-Avis-E2867.htm</td>\n",
       "    </tr>\n",
       "    <tr>\n",
       "      <th>7</th>\n",
       "      <td>7</td>\n",
       "      <td>total energies</td>\n",
       "      <td>https://fr.glassdoor.be/Avis/TotalEnergies-Avi...</td>\n",
       "    </tr>\n",
       "    <tr>\n",
       "      <th>8</th>\n",
       "      <td>8</td>\n",
       "      <td>kbc</td>\n",
       "      <td>https://fr.glassdoor.be/Avis/KBC-Avis-E10308.htm</td>\n",
       "    </tr>\n",
       "    <tr>\n",
       "      <th>9</th>\n",
       "      <td>9</td>\n",
       "      <td>bdo</td>\n",
       "      <td>https://fr.glassdoor.be/Avis/BDO-Avis-E7508.htm</td>\n",
       "    </tr>\n",
       "    <tr>\n",
       "      <th>10</th>\n",
       "      <td>10</td>\n",
       "      <td>deloitte</td>\n",
       "      <td>https://fr.glassdoor.be/Avis/Deloitte-Avis-E27...</td>\n",
       "    </tr>\n",
       "  </tbody>\n",
       "</table>\n",
       "</div>"
      ],
      "text/plain": [
       "    Unnamed: 0         company  \\\n",
       "6            6            kpmg   \n",
       "7            7  total energies   \n",
       "8            8             kbc   \n",
       "9            9             bdo   \n",
       "10          10        deloitte   \n",
       "\n",
       "                                                 link  \n",
       "6    https://fr.glassdoor.be/Avis/KPMG-Avis-E2867.htm  \n",
       "7   https://fr.glassdoor.be/Avis/TotalEnergies-Avi...  \n",
       "8    https://fr.glassdoor.be/Avis/KBC-Avis-E10308.htm  \n",
       "9     https://fr.glassdoor.be/Avis/BDO-Avis-E7508.htm  \n",
       "10  https://fr.glassdoor.be/Avis/Deloitte-Avis-E27...  "
      ]
     },
     "execution_count": 43,
     "metadata": {},
     "output_type": "execute_result"
    }
   ],
   "source": [
    "df_links.tail()"
   ]
  },
  {
   "cell_type": "code",
   "execution_count": null,
   "id": "7b6359f7-f12c-44bf-ae38-a8ee70c59836",
   "metadata": {},
   "outputs": [],
   "source": [
    "'PwC-Belgium-Reviews-EI_IE8450.0,3_IL.4,11_IN25'"
   ]
  },
  {
   "cell_type": "code",
   "execution_count": null,
   "id": "f957d801-2994-433b-81c3-7502cba1f46d",
   "metadata": {},
   "outputs": [],
   "source": [
    "'Deloitte-Belgium-Reviews-EI_IE2763.0,8_IL.9,16_IN25'"
   ]
  },
  {
   "cell_type": "code",
   "execution_count": null,
   "id": "7b35e22b-4e2a-43a0-b9c2-cf658d2a3926",
   "metadata": {},
   "outputs": [],
   "source": []
  },
  {
   "cell_type": "code",
   "execution_count": null,
   "id": "621c0e16-90c8-4497-98b8-1abd7d0e673e",
   "metadata": {},
   "outputs": [],
   "source": []
  },
  {
   "cell_type": "code",
   "execution_count": null,
   "id": "a72ce621-585b-48a0-8880-0b0d9ab85843",
   "metadata": {},
   "outputs": [],
   "source": []
  },
  {
   "cell_type": "code",
   "execution_count": 37,
   "id": "ca489ada-869d-4709-8504-998c884b76f1",
   "metadata": {},
   "outputs": [],
   "source": [
    "# Set up\n",
    "def setup_driver():\n",
    "    \"\"\"\n",
    "    Launches driver, maximizes window size\n",
    "    \"\"\"\n",
    "    driver = webdriver.Chrome('/Users/corentin/Documents/chromedriver')\n",
    "    time.sleep(random.uniform(2, 4))\n",
    "    # Setting window size to make sure the scrolls get to where they are supposed to\n",
    "    driver.set_window_size(1920, 1080)\n",
    "    driver.implicitly_wait(20)\n",
    "    return driver"
   ]
  },
  {
   "cell_type": "code",
   "execution_count": 38,
   "id": "c00e7c40-473a-4235-9f2b-51857712d1f3",
   "metadata": {},
   "outputs": [],
   "source": [
    "filter_url = '.htm?sort.sortType=RD&sort.ascending=false&filter.iso3Language=eng&filter.employmentStatus=PART_TIME&filter.employmentStatus=REGULAR&filter.employmentStatus=INTERN'\n",
    "def get_company_nofilter(url):\n",
    "    htm_index = url.index('.htm')\n",
    "    url_nofilter = url[:htm_index]\n",
    "    return url_nofilter"
   ]
  },
  {
   "cell_type": "code",
   "execution_count": 39,
   "id": "c4c7fa32-38e4-48e3-9118-3c624ca126f8",
   "metadata": {},
   "outputs": [],
   "source": [
    "def get_rid_overlay(driver):\n",
    "    \"\"\"\n",
    "    Sometimes the site shows an overlay that cannot be removed by clicking, which blocks interaction with the site,\n",
    "    this is some code to remove it.\n",
    "    \"\"\"\n",
    "    driver.execute_script(\"\"\"\n",
    "        javascript:(function(){\n",
    "          document.getElementsByClassName('hardsellOverlay')[0].remove();\n",
    "          document.getElementsByTagName(\"body\")[0].style.overflow = \"scroll\";\n",
    "          let style = document.createElement('style');\n",
    "          style.innerHTML = `\n",
    "            #LoginModal {\n",
    "              display: none!important;\n",
    "            }\n",
    "          `;\n",
    "          document.head.appendChild(style);\n",
    "          window.addEventListener(\"scroll\", function (event) {\n",
    "            event.stopPropagation();\n",
    "          }, true);\n",
    "        })();\n",
    "        \"\"\")"
   ]
  },
  {
   "cell_type": "code",
   "execution_count": 40,
   "id": "add53648-fa6c-4ae3-9033-234242364cf8",
   "metadata": {},
   "outputs": [],
   "source": [
    "def get_link_page(url, page):\n",
    "    url_nofilter = get_company_nofilter(url)\n",
    "    return url_nofilter + '_P' + str(page) + filter_url"
   ]
  },
  {
   "cell_type": "code",
   "execution_count": null,
   "id": "80d8e8d1-72e6-430b-86be-bce5e00f2a08",
   "metadata": {},
   "outputs": [],
   "source": [
    "def get_link(url):\n",
    "    driver = setup_driver()\n",
    "    driver.get(url)\n",
    "    time.sleep(random.uniform(3, 5))\n",
    "    set_site_language()\n",
    "    time.sleep(random.uniform(3, 5))\n",
    "\n",
    "    \n",
    "    get_belgian_reviews()\n",
    "    \n"
   ]
  },
  {
   "cell_type": "markdown",
   "id": "a0c09da8-8616-4505-a70b-97da75858ea7",
   "metadata": {},
   "source": [
    "### Initializing variables and scraping functions"
   ]
  },
  {
   "cell_type": "code",
   "execution_count": 119,
   "id": "b80c4086-0d2a-4abd-a815-8d575706fa52",
   "metadata": {},
   "outputs": [],
   "source": [
    "# Initializating variables\n",
    "subrating_classes = {'css-xd4dom': '*',\n",
    "               'css-18v8tui': '**',\n",
    "               'css-vl2edp': '***',\n",
    "               'css-1nuumx7': '****',\n",
    "               'css-s88v13': '*****'}\n",
    "shape_styles = {'css-10xv9lv-svg': 'O',\n",
    "         'css-1kiw93k-svg': 'X',\n",
    "         'css-1h93d4v-svg': '-',\n",
    "         'css-hcqxoa-svg': 'V'}"
   ]
  },
  {
   "cell_type": "code",
   "execution_count": 86,
   "id": "28fbbc06-4518-41f7-b205-b56b9b9a3535",
   "metadata": {},
   "outputs": [],
   "source": [
    "def get_rid_overlay(driver):\n",
    "    \"\"\"\n",
    "    Sometimes the site shows an overlay that cannot be removed by clicking, which blocks interaction with the site,\n",
    "    this is some code to remove it.\n",
    "    \"\"\"\n",
    "    driver.execute_script(\"\"\"\n",
    "        javascript:(function(){\n",
    "          document.getElementsByClassName('hardsellOverlay')[0].remove();\n",
    "          document.getElementsByTagName(\"body\")[0].style.overflow = \"scroll\";\n",
    "          let style = document.createElement('style');\n",
    "          style.innerHTML = `\n",
    "            #LoginModal {\n",
    "              display: none!important;\n",
    "            }\n",
    "          `;\n",
    "          document.head.appendChild(style);\n",
    "          window.addEventListener(\"scroll\", function (event) {\n",
    "            event.stopPropagation();\n",
    "          }, true);\n",
    "        })();\n",
    "        \"\"\")"
   ]
  },
  {
   "cell_type": "code",
   "execution_count": 129,
   "id": "2d39ac77-2b78-44a2-a325-ef7e355d9e81",
   "metadata": {},
   "outputs": [],
   "source": [
    "# Set up\n",
    "def setup_driver():\n",
    "    \"\"\"\n",
    "    Launches driver, maximizes window size\n",
    "    \"\"\"\n",
    "    driver = webdriver.Chrome('/Users/corentin/Documents/chromedriver')\n",
    "    time.sleep(random.uniform(2, 4))\n",
    "    # Setting window size to make sure the scrolls get to where they are supposed to\n",
    "    driver.set_window_size(1920, 1080)\n",
    "    driver.implicitly_wait(20)\n",
    "    return driver"
   ]
  },
  {
   "cell_type": "code",
   "execution_count": 88,
   "id": "27b39194-c81d-4e17-b465-96e0b2b8d10d",
   "metadata": {},
   "outputs": [],
   "source": [
    "# Set site language to us\n",
    "def set_site_language():\n",
    "    time.sleep(random.uniform(2, 4))\n",
    "    driver.execute_script('window.scrollTo(0, document.body.scrollHeight)')\n",
    "    time.sleep(random.uniform(2, 4))\n",
    "    language_choice = driver.find_element_by_xpath('//*[@id=\"Footer\"]/nav/ul[2]/li[3]/div/div/div[1]')\n",
    "    language_choice.click()\n",
    "    soup = BeautifulSoup(driver.page_source, 'lxml')\n",
    "    language_click_box = soup.find('div', class_='dropdownOptions dropdownExpanded animated above')\n",
    "    for li in language_click_box.find_all('li'):\n",
    "        country = li.find_all('span')[1].string\n",
    "        if country == 'United States':\n",
    "            us_id = li.get('id')\n",
    "            break\n",
    "    time.sleep(random.uniform(2, 4))\n",
    "    us = driver.find_element_by_id(us_id)\n",
    "    us.click()"
   ]
  },
  {
   "cell_type": "code",
   "execution_count": 89,
   "id": "9b71d964-804a-4cea-bf61-10d0abea3fec",
   "metadata": {},
   "outputs": [],
   "source": [
    "# Get only english reviews\n",
    "def get_english_reviews():\n",
    "    time.sleep(random.uniform(2, 4))\n",
    "    filter_button = driver.find_element_by_xpath('//*[@id=\"MainContent\"]/div/div[1]/div[1]/div[1]/div/div[1]/div[2]/div[2]/button/span')\n",
    "    filter_button.click()\n",
    "    time.sleep(random.uniform(2, 4))\n",
    "    language_button = driver.find_element_by_xpath('//*[@id=\"MainContent\"]/div/div[1]/div[1]/div[1]/div/div[1]/div[3]/div[2]/div[2]/div/div[1]')\n",
    "    language_button.click()\n",
    "    time.sleep(random.uniform(2, 4))\n",
    "    english = driver.find_element_by_xpath('//*[@id=\"option_eng\"]')\n",
    "    english.click()"
   ]
  },
  {
   "cell_type": "code",
   "execution_count": 90,
   "id": "9aa59af3-5da3-4e84-8b92-e2e4a1aa654f",
   "metadata": {},
   "outputs": [],
   "source": [
    "# Start with most recent reviews\n",
    "def orderby_recent():\n",
    "    time.sleep(random.uniform(2, 4))\n",
    "    driver.execute_script('window.scrollTo(0, 450)')\n",
    "    time.sleep(random.uniform(2, 4))\n",
    "    freshness_button = driver.find_element_by_xpath('//*[@id=\"MainContent\"]/div/div[1]/div[1]/div[2]/div/span/div/div/div[1]')\n",
    "    freshness_button.click()\n",
    "    time.sleep(random.uniform(2, 4))\n",
    "    most_recent = driver.find_element_by_xpath('//*[@id=\"option_DATE\"]')\n",
    "    most_recent.click()\n",
    "    time.sleep(random.uniform(2, 4))"
   ]
  },
  {
   "cell_type": "code",
   "execution_count": 91,
   "id": "caca307b-f3bd-45a7-ab1a-0f84b60d311e",
   "metadata": {},
   "outputs": [],
   "source": [
    "# Only belgian reviews\n",
    "def get_belgian_reviews():\n",
    "    time.sleep(random.uniform(2, 4))\n",
    "    filter_button = driver.find_element_by_xpath('//*[@id=\"MainContent\"]/div/div[1]/div[1]/div[1]/div/div[1]/div[2]/div[2]/button/span')\n",
    "    filter_button.click()\n",
    "    time.sleep(random.uniform(2, 4))\n",
    "    location_box = driver.find_element_by_xpath('//*[@id=\"MainContent\"]/div/div[1]/div[1]/div[1]/div/div[1]/div[3]/div[2]/div[1]/div/div[1]')\n",
    "    location_box.click()\n",
    "    time.sleep(random.uniform(2, 4))\n",
    "    location_input = driver.find_element_by_xpath('//*[@id=\"MainContent\"]/div/div[1]/div[1]/div[1]/div/div[1]/div[3]/div[2]/div[1]/div/div[1]/div/div/div/input')\n",
    "    location_input.send_keys('Belgium')\n",
    "    belgium = driver.find_element_by_xpath('//*[@id=\"option_N,25\"]/span')\n",
    "    belgium.click()"
   ]
  },
  {
   "cell_type": "code",
   "execution_count": 92,
   "id": "67da0981-5773-444f-a599-bc22f3a8af47",
   "metadata": {},
   "outputs": [],
   "source": [
    "# For Interns and full time and part time\n",
    "def interns_and_fulltime():\n",
    "    time.sleep(random.uniform(2, 4))\n",
    "    filter_button = driver.find_element_by_xpath('//*[@id=\"MainContent\"]/div/div[1]/div[1]/div[1]/div/div[1]/div[2]/div[2]/button/span')\n",
    "    filter_button.click()\n",
    "    time.sleep(random.uniform(2, 4))\n",
    "    jobs_category = driver.find_element_by_xpath('//*[@id=\"MainContent\"]/div/div[1]/div[1]/div[1]/div/div[1]/div[3]/div[1]/div[2]/div/div[1]')\n",
    "    jobs_category.click()\n",
    "    time.sleep(random.uniform(2, 4))\n",
    "    jobs_categories = driver.find_element_by_xpath('//*[@id=\"option_INTERN\"]/div')\n",
    "    jobs_categories.click()"
   ]
  },
  {
   "cell_type": "code",
   "execution_count": 109,
   "id": "93ccadcf-e1b9-4484-9e98-510a2412157b",
   "metadata": {},
   "outputs": [],
   "source": [
    "def setup_url_site(driver, url):\n",
    "    \"\"\"\n",
    "    Gets the url, sets the site in english, set the reviews in english, sets the \n",
    "    reviews to chronological order, gets only belgian reviews for intern, full time and part time jobs.\n",
    "    \"\"\"\n",
    "    driver.get(url)\n",
    "    functions = [set_site_language, get_english_reviews, orderby_recent, get_belgian_reviews, interns_and_fulltime]\n",
    "    \n",
    "    for func in functions:\n",
    "        max_tries = 5\n",
    "        tries = 0\n",
    "        if tries <= max_tries:\n",
    "            try:\n",
    "                func()\n",
    "            except (ElementClickInterceptedException, ElementNotInteractableException, WebDriverException):\n",
    "                get_rid_overlay(driver)\n",
    "                tries +=1\n",
    "                func()\n",
    "        else:\n",
    "            print('Max tries for setup attained')\n",
    "    \n",
    "    # Returns modified url with all filters\n",
    "    url = driver.current_url\n",
    "    return driver, url"
   ]
  },
  {
   "cell_type": "code",
   "execution_count": 94,
   "id": "a9674f60-800a-4574-9e68-af632db2307c",
   "metadata": {},
   "outputs": [],
   "source": [
    "def scrape_ratings(post):\n",
    "    \"\"\"\n",
    "    Returns a string with the main rating and a list with subrating\n",
    "    \"\"\"\n",
    "    # Main rating\n",
    "    main_rating = post.find('span', class_ = 'ratingNumber mr-xsm').string\n",
    "    \n",
    "    # Subratings\n",
    "    try:\n",
    "        rating_categories = post.find('div', class_ = 'content')\n",
    "        ratings = rating_categories.find_all('li') # Each rating has a different class, it's the only way to differentiate\n",
    "\n",
    "        subratings = {}\n",
    "        for subrating in ratings:\n",
    "            #Get categories, it's not always 6 of them\n",
    "            subrating_category = subrating.find_all('div')[0].string\n",
    "            subrating_class = subrating.find_all('div')[1]['class'][0]\n",
    "            subrating = subrating_classes[subrating_class]\n",
    "            subratings[subrating_category] = subrating\n",
    "    except:\n",
    "        subratings = {'Work/Life Balance': np.nan,\n",
    "                      'Culture & Values': np.nan, \n",
    "                      'Diversity & Inclusion': np.nan, \n",
    "                      'Career Opportunities': np.nan,\n",
    "                      'Compensation and Benefits': np.nan,\n",
    "                      'Senior Management': np.nan}\n",
    "    \n",
    "    return main_rating, subratings"
   ]
  },
  {
   "cell_type": "code",
   "execution_count": 95,
   "id": "379353fe-9566-4e59-8ac0-0df09d8ab805",
   "metadata": {},
   "outputs": [],
   "source": [
    "def single_page_scraper(html): #Needs the driver.page_source\n",
    "    \"\"\"\n",
    "    Scrapes rating, subrating, post_title, date_and_job, recommend, CEO approval,\n",
    "    business outlook, pros and cons of all postings on a single page and\n",
    "    returns a dataframe\n",
    "    \"\"\"\n",
    "    #Initializing df\n",
    "    df = pd.DataFrame({'main_rating': [],\n",
    "                       'Work/Life Balance': [], \n",
    "                       'Culture & Values': [], \n",
    "                       'Diversity & Inclusion': [], \n",
    "                       'Career Opportunities': [],\n",
    "                       'Compensation and Benefits': [],\n",
    "                       'Senior Management': []\n",
    "                       })\n",
    "    soup = BeautifulSoup(html, 'lxml')\n",
    "    \n",
    "    # Get postings on a single page\n",
    "    # First and other nine reviews have different classes\n",
    "    first_posting = soup.find_all('li', class_ = 'empReview cf pb-0 mb-0')\n",
    "    next_postings = soup.find_all('li', class_ = 'noBorder empReview cf pb-0 mb-0')\n",
    "    # Extending first_posting with the nine other and renaming the variable adequatly\n",
    "    first_posting.extend(next_postings)\n",
    "    postings = first_posting\n",
    "    \n",
    "    \n",
    "    # Looping on postings\n",
    "    for post in postings:\n",
    "        # Get status\n",
    "        status = post.find('span', class_ = 'pt-xsm pt-md-0 css-1qxtz39 eg4psks0').string\n",
    "        # Get general opinion \n",
    "        post_title = post.find('h2', class_ = 'mb-xxsm mt-0 css-93svrw el6ke055').string\n",
    "        # Get date and job title\n",
    "        date_and_job = post.find('span', class_ = 'authorInfo').text        \n",
    "        # Get pros and cons\n",
    "        pros = post.find('span', {'data-test': 'pros'}).string\n",
    "        cons = post.find('span', {'data-test': 'cons'}).string\n",
    "        # Get shapes for Recommend, CEO approval, Business outlook for a single post\n",
    "        other_scores = {'Recommend': '',\n",
    "                       'CEO Approval': '',\n",
    "                       'Business Outlook': ''}\n",
    "        bar_shapes = post.find('div', class_ = 'd-flex my-std reviewBodyCell recommends css-1y3jl3a e1868oi10')\n",
    "        for i, element in  enumerate(bar_shapes.find_all('svg')):\n",
    "            other_scores[list(other_scores)[i]] = shape_styles[element['class'][1]]\n",
    "        #Initating row for dataframe \n",
    "        post_data = {'date_and_job': date_and_job,\n",
    "                     'post_title': post_title,\n",
    "                     'status': status,\n",
    "                     'pros': pros,\n",
    "                     'cons': cons,\n",
    "                     'Recommend': other_scores['Recommend'],\n",
    "                     'CEO Approval': other_scores['CEO Approval'],\n",
    "                     'Business Outlook': other_scores['Business Outlook']}\n",
    "        # Getting ratings\n",
    "        main_rating, subratings = scrape_ratings(post)\n",
    "        post_data['main_rating'] = main_rating\n",
    "        for key, value in subratings.items():\n",
    "            post_data[key] = value\n",
    "             \n",
    "        #Populating the dataframe\n",
    "        df = df.append((post_data),\n",
    "                        ignore_index=True)\n",
    "    return df"
   ]
  },
  {
   "cell_type": "code",
   "execution_count": 114,
   "id": "301ea79c-1397-4740-ba82-377ff08750ff",
   "metadata": {},
   "outputs": [],
   "source": [
    "def url_decomposer(url):\n",
    "    \"\"\"\n",
    "    Takes any url, and returns the domain, the filter part of the url and the company code part of the url, \n",
    "    with these you can then recompose the link of any page of that company's reviews as such:\n",
    "    domain_page_url + company_code + _IPx + filter_url with x the page in question\n",
    "    \"\"\"\n",
    "    domain_page_url = 'https://www.glassdoor.com/Reviews/'\n",
    "    \n",
    "    filter_index = url.index('.htm')\n",
    "    filter_url = url[filter_index:]\n",
    "    \n",
    "    try:\n",
    "        page_index = url.index('_IP')\n",
    "        page_url = url[page_index:]\n",
    "    except ValueError:\n",
    "        page_url = ''\n",
    "    \n",
    "    company_code = url.replace(page_url, '').replace(domain_page_url, '').replace(filter_url, '')\n",
    "    return domain_page_url,  filter_url, company_code"
   ]
  },
  {
   "cell_type": "code",
   "execution_count": 130,
   "id": "376a2294-a624-416e-ad64-36de7e69f888",
   "metadata": {},
   "outputs": [],
   "source": [
    "def scrape_all_pages(driver, url): # Would like to be able to scrape 5 years back, you can try to use date in date_and_job column\n",
    "    \"\"\"\n",
    "    Takes link of first setted (english, recent) reviews, scrapes it and \n",
    "    goes automatically to next pages scrapes them etc\n",
    "    \"\"\"\n",
    "    \n",
    "    df = pd.DataFrame()\n",
    "    domain_page_url,  filter_url, company_code = url_decomposer(url)\n",
    "    for p in range(3):\n",
    "        try:\n",
    "            driver.get(url)\n",
    "            time.sleep(random.uniform(2, 4))\n",
    "            df_p = single_page_scraper(driver.page_source)\n",
    "            df = df.append(df_p, ignore_index=True)\n",
    "            time.sleep(random.uniform(7, 13))\n",
    "            url = domain_page_url + company_code + '_IP' + str(p) + filter_url\n",
    "        except WebDriverException:\n",
    "            get_rid_overlay(driver)\n",
    "            time.sleep(random.uniform(2, 4))\n",
    "            df_p = single_page_scraper(driver.page_source)\n",
    "            df = df.append(df_p, ignore_index=True)\n",
    "            time.sleep(random.uniform(7, 13))\n",
    "            url = domain_page_url + company_code + '_IP' + str(p) + filter_url\n",
    "        \n",
    "    return df"
   ]
  },
  {
   "cell_type": "code",
   "execution_count": 140,
   "id": "fba3b26a-daf4-4bc5-84c8-ce94a2596c7e",
   "metadata": {},
   "outputs": [],
   "source": [
    "driver = setup_driver()"
   ]
  },
  {
   "cell_type": "code",
   "execution_count": 141,
   "id": "d34a960f-1715-49dd-85bb-f00a851bf03e",
   "metadata": {},
   "outputs": [
    {
     "ename": "JavascriptException",
     "evalue": "Message: javascript error: Cannot read properties of undefined (reading 'remove')\n  (Session info: chrome=100.0.4896.127)\n",
     "output_type": "error",
     "traceback": [
      "\u001b[0;31m---------------------------------------------------------------------------\u001b[0m",
      "\u001b[0;31mElementNotInteractableException\u001b[0m           Traceback (most recent call last)",
      "\u001b[0;32m/var/folders/75/_lpdck312plbd86wrgx53dbc0000gn/T/ipykernel_1207/3844022238.py\u001b[0m in \u001b[0;36msetup_url_site\u001b[0;34m(driver, url)\u001b[0m\n\u001b[1;32m     13\u001b[0m             \u001b[0;32mtry\u001b[0m\u001b[0;34m:\u001b[0m\u001b[0;34m\u001b[0m\u001b[0;34m\u001b[0m\u001b[0m\n\u001b[0;32m---> 14\u001b[0;31m                 \u001b[0mfunc\u001b[0m\u001b[0;34m(\u001b[0m\u001b[0;34m)\u001b[0m\u001b[0;34m\u001b[0m\u001b[0;34m\u001b[0m\u001b[0m\n\u001b[0m\u001b[1;32m     15\u001b[0m             \u001b[0;32mexcept\u001b[0m \u001b[0;34m(\u001b[0m\u001b[0mElementClickInterceptedException\u001b[0m\u001b[0;34m,\u001b[0m \u001b[0mElementNotInteractableException\u001b[0m\u001b[0;34m,\u001b[0m \u001b[0mWebDriverException\u001b[0m\u001b[0;34m)\u001b[0m\u001b[0;34m:\u001b[0m\u001b[0;34m\u001b[0m\u001b[0;34m\u001b[0m\u001b[0m\n",
      "\u001b[0;32m/var/folders/75/_lpdck312plbd86wrgx53dbc0000gn/T/ipykernel_1207/139898098.py\u001b[0m in \u001b[0;36minterns_and_fulltime\u001b[0;34m()\u001b[0m\n\u001b[1;32m      7\u001b[0m     \u001b[0mjobs_category\u001b[0m \u001b[0;34m=\u001b[0m \u001b[0mdriver\u001b[0m\u001b[0;34m.\u001b[0m\u001b[0mfind_element_by_xpath\u001b[0m\u001b[0;34m(\u001b[0m\u001b[0;34m'//*[@id=\"MainContent\"]/div/div[1]/div[1]/div[1]/div/div[1]/div[3]/div[1]/div[2]/div/div[1]'\u001b[0m\u001b[0;34m)\u001b[0m\u001b[0;34m\u001b[0m\u001b[0;34m\u001b[0m\u001b[0m\n\u001b[0;32m----> 8\u001b[0;31m     \u001b[0mjobs_category\u001b[0m\u001b[0;34m.\u001b[0m\u001b[0mclick\u001b[0m\u001b[0;34m(\u001b[0m\u001b[0;34m)\u001b[0m\u001b[0;34m\u001b[0m\u001b[0;34m\u001b[0m\u001b[0m\n\u001b[0m\u001b[1;32m      9\u001b[0m     \u001b[0mtime\u001b[0m\u001b[0;34m.\u001b[0m\u001b[0msleep\u001b[0m\u001b[0;34m(\u001b[0m\u001b[0mrandom\u001b[0m\u001b[0;34m.\u001b[0m\u001b[0muniform\u001b[0m\u001b[0;34m(\u001b[0m\u001b[0;36m2\u001b[0m\u001b[0;34m,\u001b[0m \u001b[0;36m4\u001b[0m\u001b[0;34m)\u001b[0m\u001b[0;34m)\u001b[0m\u001b[0;34m\u001b[0m\u001b[0;34m\u001b[0m\u001b[0m\n",
      "\u001b[0;32m~/opt/anaconda3/lib/python3.9/site-packages/selenium/webdriver/remote/webelement.py\u001b[0m in \u001b[0;36mclick\u001b[0;34m(self)\u001b[0m\n\u001b[1;32m     79\u001b[0m         \u001b[0;34m\"\"\"Clicks the element.\"\"\"\u001b[0m\u001b[0;34m\u001b[0m\u001b[0;34m\u001b[0m\u001b[0m\n\u001b[0;32m---> 80\u001b[0;31m         \u001b[0mself\u001b[0m\u001b[0;34m.\u001b[0m\u001b[0m_execute\u001b[0m\u001b[0;34m(\u001b[0m\u001b[0mCommand\u001b[0m\u001b[0;34m.\u001b[0m\u001b[0mCLICK_ELEMENT\u001b[0m\u001b[0;34m)\u001b[0m\u001b[0;34m\u001b[0m\u001b[0;34m\u001b[0m\u001b[0m\n\u001b[0m\u001b[1;32m     81\u001b[0m \u001b[0;34m\u001b[0m\u001b[0m\n",
      "\u001b[0;32m~/opt/anaconda3/lib/python3.9/site-packages/selenium/webdriver/remote/webelement.py\u001b[0m in \u001b[0;36m_execute\u001b[0;34m(self, command, params)\u001b[0m\n\u001b[1;32m    632\u001b[0m         \u001b[0mparams\u001b[0m\u001b[0;34m[\u001b[0m\u001b[0;34m'id'\u001b[0m\u001b[0;34m]\u001b[0m \u001b[0;34m=\u001b[0m \u001b[0mself\u001b[0m\u001b[0;34m.\u001b[0m\u001b[0m_id\u001b[0m\u001b[0;34m\u001b[0m\u001b[0;34m\u001b[0m\u001b[0m\n\u001b[0;32m--> 633\u001b[0;31m         \u001b[0;32mreturn\u001b[0m \u001b[0mself\u001b[0m\u001b[0;34m.\u001b[0m\u001b[0m_parent\u001b[0m\u001b[0;34m.\u001b[0m\u001b[0mexecute\u001b[0m\u001b[0;34m(\u001b[0m\u001b[0mcommand\u001b[0m\u001b[0;34m,\u001b[0m \u001b[0mparams\u001b[0m\u001b[0;34m)\u001b[0m\u001b[0;34m\u001b[0m\u001b[0;34m\u001b[0m\u001b[0m\n\u001b[0m\u001b[1;32m    634\u001b[0m \u001b[0;34m\u001b[0m\u001b[0m\n",
      "\u001b[0;32m~/opt/anaconda3/lib/python3.9/site-packages/selenium/webdriver/remote/webdriver.py\u001b[0m in \u001b[0;36mexecute\u001b[0;34m(self, driver_command, params)\u001b[0m\n\u001b[1;32m    320\u001b[0m         \u001b[0;32mif\u001b[0m \u001b[0mresponse\u001b[0m\u001b[0;34m:\u001b[0m\u001b[0;34m\u001b[0m\u001b[0;34m\u001b[0m\u001b[0m\n\u001b[0;32m--> 321\u001b[0;31m             \u001b[0mself\u001b[0m\u001b[0;34m.\u001b[0m\u001b[0merror_handler\u001b[0m\u001b[0;34m.\u001b[0m\u001b[0mcheck_response\u001b[0m\u001b[0;34m(\u001b[0m\u001b[0mresponse\u001b[0m\u001b[0;34m)\u001b[0m\u001b[0;34m\u001b[0m\u001b[0;34m\u001b[0m\u001b[0m\n\u001b[0m\u001b[1;32m    322\u001b[0m             response['value'] = self._unwrap_value(\n",
      "\u001b[0;32m~/opt/anaconda3/lib/python3.9/site-packages/selenium/webdriver/remote/errorhandler.py\u001b[0m in \u001b[0;36mcheck_response\u001b[0;34m(self, response)\u001b[0m\n\u001b[1;32m    241\u001b[0m             \u001b[0;32mraise\u001b[0m \u001b[0mexception_class\u001b[0m\u001b[0;34m(\u001b[0m\u001b[0mmessage\u001b[0m\u001b[0;34m,\u001b[0m \u001b[0mscreen\u001b[0m\u001b[0;34m,\u001b[0m \u001b[0mstacktrace\u001b[0m\u001b[0;34m,\u001b[0m \u001b[0malert_text\u001b[0m\u001b[0;34m)\u001b[0m\u001b[0;34m\u001b[0m\u001b[0;34m\u001b[0m\u001b[0m\n\u001b[0;32m--> 242\u001b[0;31m         \u001b[0;32mraise\u001b[0m \u001b[0mexception_class\u001b[0m\u001b[0;34m(\u001b[0m\u001b[0mmessage\u001b[0m\u001b[0;34m,\u001b[0m \u001b[0mscreen\u001b[0m\u001b[0;34m,\u001b[0m \u001b[0mstacktrace\u001b[0m\u001b[0;34m)\u001b[0m\u001b[0;34m\u001b[0m\u001b[0;34m\u001b[0m\u001b[0m\n\u001b[0m\u001b[1;32m    243\u001b[0m \u001b[0;34m\u001b[0m\u001b[0m\n",
      "\u001b[0;31mElementNotInteractableException\u001b[0m: Message: element not interactable\n  (Session info: chrome=100.0.4896.127)\n",
      "\nDuring handling of the above exception, another exception occurred:\n",
      "\u001b[0;31mJavascriptException\u001b[0m                       Traceback (most recent call last)",
      "\u001b[0;32m/var/folders/75/_lpdck312plbd86wrgx53dbc0000gn/T/ipykernel_1207/3337200216.py\u001b[0m in \u001b[0;36m<module>\u001b[0;34m\u001b[0m\n\u001b[0;32m----> 1\u001b[0;31m \u001b[0mdriver\u001b[0m\u001b[0;34m,\u001b[0m \u001b[0murl\u001b[0m \u001b[0;34m=\u001b[0m \u001b[0msetup_url_site\u001b[0m\u001b[0;34m(\u001b[0m\u001b[0mdriver\u001b[0m\u001b[0;34m,\u001b[0m \u001b[0murl\u001b[0m\u001b[0;34m)\u001b[0m\u001b[0;34m\u001b[0m\u001b[0;34m\u001b[0m\u001b[0m\n\u001b[0m",
      "\u001b[0;32m/var/folders/75/_lpdck312plbd86wrgx53dbc0000gn/T/ipykernel_1207/3844022238.py\u001b[0m in \u001b[0;36msetup_url_site\u001b[0;34m(driver, url)\u001b[0m\n\u001b[1;32m     14\u001b[0m                 \u001b[0mfunc\u001b[0m\u001b[0;34m(\u001b[0m\u001b[0;34m)\u001b[0m\u001b[0;34m\u001b[0m\u001b[0;34m\u001b[0m\u001b[0m\n\u001b[1;32m     15\u001b[0m             \u001b[0;32mexcept\u001b[0m \u001b[0;34m(\u001b[0m\u001b[0mElementClickInterceptedException\u001b[0m\u001b[0;34m,\u001b[0m \u001b[0mElementNotInteractableException\u001b[0m\u001b[0;34m,\u001b[0m \u001b[0mWebDriverException\u001b[0m\u001b[0;34m)\u001b[0m\u001b[0;34m:\u001b[0m\u001b[0;34m\u001b[0m\u001b[0;34m\u001b[0m\u001b[0m\n\u001b[0;32m---> 16\u001b[0;31m                 \u001b[0mget_rid_overlay\u001b[0m\u001b[0;34m(\u001b[0m\u001b[0mdriver\u001b[0m\u001b[0;34m)\u001b[0m\u001b[0;34m\u001b[0m\u001b[0;34m\u001b[0m\u001b[0m\n\u001b[0m\u001b[1;32m     17\u001b[0m                 \u001b[0mtries\u001b[0m \u001b[0;34m+=\u001b[0m\u001b[0;36m1\u001b[0m\u001b[0;34m\u001b[0m\u001b[0;34m\u001b[0m\u001b[0m\n\u001b[1;32m     18\u001b[0m                 \u001b[0mfunc\u001b[0m\u001b[0;34m(\u001b[0m\u001b[0;34m)\u001b[0m\u001b[0;34m\u001b[0m\u001b[0;34m\u001b[0m\u001b[0m\n",
      "\u001b[0;32m/var/folders/75/_lpdck312plbd86wrgx53dbc0000gn/T/ipykernel_1207/2885983481.py\u001b[0m in \u001b[0;36mget_rid_overlay\u001b[0;34m(driver)\u001b[0m\n\u001b[1;32m      4\u001b[0m     \u001b[0mthis\u001b[0m \u001b[0;32mis\u001b[0m \u001b[0msome\u001b[0m \u001b[0mcode\u001b[0m \u001b[0mto\u001b[0m \u001b[0mremove\u001b[0m \u001b[0mit\u001b[0m\u001b[0;34m.\u001b[0m\u001b[0;34m\u001b[0m\u001b[0;34m\u001b[0m\u001b[0m\n\u001b[1;32m      5\u001b[0m     \"\"\"\n\u001b[0;32m----> 6\u001b[0;31m     driver.execute_script(\"\"\"\n\u001b[0m\u001b[1;32m      7\u001b[0m         javascript:(function(){\n\u001b[1;32m      8\u001b[0m           \u001b[0mdocument\u001b[0m\u001b[0;34m.\u001b[0m\u001b[0mgetElementsByClassName\u001b[0m\u001b[0;34m(\u001b[0m\u001b[0;34m'hardsellOverlay'\u001b[0m\u001b[0;34m)\u001b[0m\u001b[0;34m[\u001b[0m\u001b[0;36m0\u001b[0m\u001b[0;34m]\u001b[0m\u001b[0;34m.\u001b[0m\u001b[0mremove\u001b[0m\u001b[0;34m(\u001b[0m\u001b[0;34m)\u001b[0m\u001b[0;34m;\u001b[0m\u001b[0;34m\u001b[0m\u001b[0;34m\u001b[0m\u001b[0m\n",
      "\u001b[0;32m~/opt/anaconda3/lib/python3.9/site-packages/selenium/webdriver/remote/webdriver.py\u001b[0m in \u001b[0;36mexecute_script\u001b[0;34m(self, script, *args)\u001b[0m\n\u001b[1;32m    632\u001b[0m             \u001b[0mcommand\u001b[0m \u001b[0;34m=\u001b[0m \u001b[0mCommand\u001b[0m\u001b[0;34m.\u001b[0m\u001b[0mEXECUTE_SCRIPT\u001b[0m\u001b[0;34m\u001b[0m\u001b[0;34m\u001b[0m\u001b[0m\n\u001b[1;32m    633\u001b[0m \u001b[0;34m\u001b[0m\u001b[0m\n\u001b[0;32m--> 634\u001b[0;31m         return self.execute(command, {\n\u001b[0m\u001b[1;32m    635\u001b[0m             \u001b[0;34m'script'\u001b[0m\u001b[0;34m:\u001b[0m \u001b[0mscript\u001b[0m\u001b[0;34m,\u001b[0m\u001b[0;34m\u001b[0m\u001b[0;34m\u001b[0m\u001b[0m\n\u001b[1;32m    636\u001b[0m             'args': converted_args})['value']\n",
      "\u001b[0;32m~/opt/anaconda3/lib/python3.9/site-packages/selenium/webdriver/remote/webdriver.py\u001b[0m in \u001b[0;36mexecute\u001b[0;34m(self, driver_command, params)\u001b[0m\n\u001b[1;32m    319\u001b[0m         \u001b[0mresponse\u001b[0m \u001b[0;34m=\u001b[0m \u001b[0mself\u001b[0m\u001b[0;34m.\u001b[0m\u001b[0mcommand_executor\u001b[0m\u001b[0;34m.\u001b[0m\u001b[0mexecute\u001b[0m\u001b[0;34m(\u001b[0m\u001b[0mdriver_command\u001b[0m\u001b[0;34m,\u001b[0m \u001b[0mparams\u001b[0m\u001b[0;34m)\u001b[0m\u001b[0;34m\u001b[0m\u001b[0;34m\u001b[0m\u001b[0m\n\u001b[1;32m    320\u001b[0m         \u001b[0;32mif\u001b[0m \u001b[0mresponse\u001b[0m\u001b[0;34m:\u001b[0m\u001b[0;34m\u001b[0m\u001b[0;34m\u001b[0m\u001b[0m\n\u001b[0;32m--> 321\u001b[0;31m             \u001b[0mself\u001b[0m\u001b[0;34m.\u001b[0m\u001b[0merror_handler\u001b[0m\u001b[0;34m.\u001b[0m\u001b[0mcheck_response\u001b[0m\u001b[0;34m(\u001b[0m\u001b[0mresponse\u001b[0m\u001b[0;34m)\u001b[0m\u001b[0;34m\u001b[0m\u001b[0;34m\u001b[0m\u001b[0m\n\u001b[0m\u001b[1;32m    322\u001b[0m             response['value'] = self._unwrap_value(\n\u001b[1;32m    323\u001b[0m                 response.get('value', None))\n",
      "\u001b[0;32m~/opt/anaconda3/lib/python3.9/site-packages/selenium/webdriver/remote/errorhandler.py\u001b[0m in \u001b[0;36mcheck_response\u001b[0;34m(self, response)\u001b[0m\n\u001b[1;32m    240\u001b[0m                 \u001b[0malert_text\u001b[0m \u001b[0;34m=\u001b[0m \u001b[0mvalue\u001b[0m\u001b[0;34m[\u001b[0m\u001b[0;34m'alert'\u001b[0m\u001b[0;34m]\u001b[0m\u001b[0;34m.\u001b[0m\u001b[0mget\u001b[0m\u001b[0;34m(\u001b[0m\u001b[0;34m'text'\u001b[0m\u001b[0;34m)\u001b[0m\u001b[0;34m\u001b[0m\u001b[0;34m\u001b[0m\u001b[0m\n\u001b[1;32m    241\u001b[0m             \u001b[0;32mraise\u001b[0m \u001b[0mexception_class\u001b[0m\u001b[0;34m(\u001b[0m\u001b[0mmessage\u001b[0m\u001b[0;34m,\u001b[0m \u001b[0mscreen\u001b[0m\u001b[0;34m,\u001b[0m \u001b[0mstacktrace\u001b[0m\u001b[0;34m,\u001b[0m \u001b[0malert_text\u001b[0m\u001b[0;34m)\u001b[0m\u001b[0;34m\u001b[0m\u001b[0;34m\u001b[0m\u001b[0m\n\u001b[0;32m--> 242\u001b[0;31m         \u001b[0;32mraise\u001b[0m \u001b[0mexception_class\u001b[0m\u001b[0;34m(\u001b[0m\u001b[0mmessage\u001b[0m\u001b[0;34m,\u001b[0m \u001b[0mscreen\u001b[0m\u001b[0;34m,\u001b[0m \u001b[0mstacktrace\u001b[0m\u001b[0;34m)\u001b[0m\u001b[0;34m\u001b[0m\u001b[0;34m\u001b[0m\u001b[0m\n\u001b[0m\u001b[1;32m    243\u001b[0m \u001b[0;34m\u001b[0m\u001b[0m\n\u001b[1;32m    244\u001b[0m     \u001b[0;32mdef\u001b[0m \u001b[0m_value_or_default\u001b[0m\u001b[0;34m(\u001b[0m\u001b[0mself\u001b[0m\u001b[0;34m,\u001b[0m \u001b[0mobj\u001b[0m\u001b[0;34m,\u001b[0m \u001b[0mkey\u001b[0m\u001b[0;34m,\u001b[0m \u001b[0mdefault\u001b[0m\u001b[0;34m)\u001b[0m\u001b[0;34m:\u001b[0m\u001b[0;34m\u001b[0m\u001b[0;34m\u001b[0m\u001b[0m\n",
      "\u001b[0;31mJavascriptException\u001b[0m: Message: javascript error: Cannot read properties of undefined (reading 'remove')\n  (Session info: chrome=100.0.4896.127)\n"
     ]
    }
   ],
   "source": [
    "driver, url = setup_url_site(driver, url)"
   ]
  },
  {
   "cell_type": "code",
   "execution_count": 128,
   "id": "b8ec3bb1-86a1-4af6-a5f8-30214867d398",
   "metadata": {},
   "outputs": [],
   "source": [
    "df = scrape_all_pages(driver, driver.current_url)"
   ]
  },
  {
   "cell_type": "markdown",
   "id": "7caec18e-cf15-4ed2-81fd-ff062abbd108",
   "metadata": {},
   "source": [
    "### Scraping the reviews for all companies"
   ]
  },
  {
   "cell_type": "code",
   "execution_count": null,
   "id": "45d0def2-f2d1-472a-aeae-833f92e29b35",
   "metadata": {},
   "outputs": [],
   "source": [
    "driver = setup_driver()\n",
    "for row in companies_links:\n",
    "    company, link = row['company'], row['link']\n",
    "    "
   ]
  },
  {
   "cell_type": "code",
   "execution_count": null,
   "id": "75b7b041-1d39-42db-9b5e-1cd637461d4d",
   "metadata": {},
   "outputs": [],
   "source": []
  },
  {
   "cell_type": "code",
   "execution_count": null,
   "id": "54fa35bb-0636-4b9a-99b9-30c54912e77c",
   "metadata": {},
   "outputs": [],
   "source": []
  },
  {
   "cell_type": "code",
   "execution_count": null,
   "id": "4f53a4b1-f6bf-48b7-889a-7529e1df2b04",
   "metadata": {},
   "outputs": [],
   "source": []
  },
  {
   "cell_type": "code",
   "execution_count": 148,
   "id": "3c2ebde0-ec12-4c64-ba7b-7bdee7b6f55e",
   "metadata": {},
   "outputs": [],
   "source": [
    "domain_page_url,  filter_url, company_code = url_decomposer(deloitte)"
   ]
  },
  {
   "cell_type": "code",
   "execution_count": 150,
   "id": "a1aff5df-9671-4287-8a4f-d08661302529",
   "metadata": {},
   "outputs": [],
   "source": [
    "domain_page_url2,  filter_url2, company_code2 = url_decomposer(pwc)"
   ]
  },
  {
   "cell_type": "code",
   "execution_count": 151,
   "id": "9e73d3c5-15e4-4619-8505-131e75c25f24",
   "metadata": {},
   "outputs": [
    {
     "data": {
      "text/plain": [
       "'https://www.glassdoor.com/Reviews/PwC-Reviews-E8450_IP2.htm?sort.sortType=RD&sort.ascending=false&filter.iso3Language=eng&filter.employmentStatus=PART_TIME&filter.employmentStatus=REGULAR&filter.employmentStatus=INTERN'"
      ]
     },
     "execution_count": 151,
     "metadata": {},
     "output_type": "execute_result"
    }
   ],
   "source": [
    "domain_page_url + company_code2 + '_IP2' + filter_url"
   ]
  },
  {
   "cell_type": "code",
   "execution_count": 152,
   "id": "ebe02452-fce3-4c02-8519-a4175de0d116",
   "metadata": {},
   "outputs": [],
   "source": [
    "get_rid_overlay(driver)"
   ]
  },
  {
   "cell_type": "code",
   "execution_count": 149,
   "id": "df22cbcd-aab9-4067-b8df-ff981b8a5668",
   "metadata": {},
   "outputs": [],
   "source": [
    "pwc = 'https://www.glassdoor.com/Reviews/PwC-Reviews-E8450.htm'"
   ]
  },
  {
   "cell_type": "code",
   "execution_count": 153,
   "id": "fd221416-aada-4ff6-be0e-426b447b1a63",
   "metadata": {},
   "outputs": [],
   "source": [
    "pwc_belgium = 'https://www.glassdoor.com/Reviews/PwC-Belgium-Reviews-EI_IE8450.0,3_IL.4,11_IN25.htm?filter.iso3Language=eng&filter.employmentStatus=REGULAR&filter.employmentStatus=PART_TIME'"
   ]
  },
  {
   "cell_type": "code",
   "execution_count": 147,
   "id": "d0448f32-6c2d-48d2-a226-3078f117cb6b",
   "metadata": {},
   "outputs": [],
   "source": [
    "deloitte = 'https://www.glassdoor.com/Reviews/Deloitte-Belgium-Reviews-EI_IE2763.0,8_IL.9,16_IN25.htm?sort.sortType=RD&sort.ascending=false&filter.iso3Language=eng&filter.employmentStatus=PART_TIME&filter.employmentStatus=REGULAR&filter.employmentStatus=INTERN'"
   ]
  },
  {
   "cell_type": "code",
   "execution_count": 154,
   "id": "26695657-da10-4aa7-9192-90016ce78ac6",
   "metadata": {},
   "outputs": [],
   "source": [
    "deloitte_belgium_only = 'https://www.glassdoor.com/Reviews/Deloitte-Belgium-Reviews-EI_IE2763.0,8_IL.9,16_IN25.htm?sort.sortType=RD&sort.ascending=false&filter.iso3Language=eng'"
   ]
  },
  {
   "cell_type": "code",
   "execution_count": 155,
   "id": "46ba11a7-2811-4ab2-87d4-da6ae7d3aa86",
   "metadata": {},
   "outputs": [],
   "source": [
    "linkaas = domain_page_url + 'Deloitte-Belgium-Reviews-EI_IE2763.0,8_IL.9,16_IN25' + '_IP2' + filter_url"
   ]
  },
  {
   "cell_type": "code",
   "execution_count": 156,
   "id": "47683568-7b31-436a-8d48-367a431f6477",
   "metadata": {},
   "outputs": [
    {
     "data": {
      "text/plain": [
       "'https://www.glassdoor.com/Reviews/Deloitte-Belgium-Reviews-EI_IE2763.0,8_IL.9,16_IN25_IP2.htm?sort.sortType=RD&sort.ascending=false&filter.iso3Language=eng&filter.employmentStatus=PART_TIME&filter.employmentStatus=REGULAR&filter.employmentStatus=INTERN'"
      ]
     },
     "execution_count": 156,
     "metadata": {},
     "output_type": "execute_result"
    }
   ],
   "source": [
    "linkaas"
   ]
  },
  {
   "cell_type": "code",
   "execution_count": 35,
   "id": "a8ba3761-8c5c-4b30-b5ad-5bbca068f4d8",
   "metadata": {},
   "outputs": [],
   "source": []
  },
  {
   "cell_type": "code",
   "execution_count": 36,
   "id": "dbc5bf85-47bd-4ca4-904f-245bc4eed970",
   "metadata": {},
   "outputs": [
    {
     "data": {
      "text/plain": [
       "'https://fr.glassdoor.be/Avis/PwC-Avis-E8450_P3.htm?sort.sortType=RD&sort.ascending=false&filter.iso3Language=eng&filter.employmentStatus=PART_TIME&filter.employmentStatus=REGULAR&filter.employmentStatus=INTERN'"
      ]
     },
     "execution_count": 36,
     "metadata": {},
     "output_type": "execute_result"
    }
   ],
   "source": [
    "get_link_page(df_links.link.iloc[0], 3)"
   ]
  },
  {
   "cell_type": "code",
   "execution_count": 26,
   "id": "6ed0a4d7-8ed4-4532-8b8b-4ff121114bd7",
   "metadata": {},
   "outputs": [
    {
     "data": {
      "text/plain": [
       "'https://www.glassdoor.com/Reviews/PwC-Avis-E8450_P3.htm?sort.sortType=RD&sort.ascending=false&filter.iso3Language=eng&filter.employmentStatus=PART_TIME&filter.employmentStatus=REGULAR&filter.employmentStatus=INTERN'"
      ]
     },
     "execution_count": 26,
     "metadata": {},
     "output_type": "execute_result"
    }
   ],
   "source": [
    "link_page(df_links.link.iloc[0], 3)"
   ]
  },
  {
   "cell_type": "code",
   "execution_count": 27,
   "id": "62c9a0e4-760c-4815-9de5-42d2348f343e",
   "metadata": {},
   "outputs": [
    {
     "data": {
      "text/plain": [
       "'https://fr.glassdoor.be/Avis/PwC-Avis-E8450.htm'"
      ]
     },
     "execution_count": 27,
     "metadata": {},
     "output_type": "execute_result"
    }
   ],
   "source": []
  },
  {
   "cell_type": "code",
   "execution_count": 28,
   "id": "7dc93489-217f-4f14-b995-60c4cbb27f72",
   "metadata": {},
   "outputs": [],
   "source": [
    "link_us_belg = 'https://www.glassdoor.com/Reviews/PwC-Belgium-Reviews-EI_IE8450.0,3_IL.4,11_IN25.htm?filter.iso3Language=eng&filter.employmentStatus=REGULAR&filter.employmentStatus=PART_TIME'"
   ]
  },
  {
   "cell_type": "code",
   "execution_count": 29,
   "id": "267c50c0-5b78-4ad5-8880-596814f74d95",
   "metadata": {},
   "outputs": [
    {
     "data": {
      "text/plain": [
       "'https://www.glassdoor.com/Reviews/https://www.glassdoor.com/Reviews/PwC-Belgium-Reviews-EI_IE8450.0,3_IL.4,11_IN25_P3.htm?sort.sortType=RD&sort.ascending=false&filter.iso3Language=eng&filter.employmentStatus=PART_TIME&filter.employmentStatus=REGULAR&filter.employmentStatus=INTERN'"
      ]
     },
     "execution_count": 29,
     "metadata": {},
     "output_type": "execute_result"
    }
   ],
   "source": [
    "link_page(link_us_belg, 3)"
   ]
  },
  {
   "cell_type": "code",
   "execution_count": null,
   "id": "9e06d2a3-35cd-465e-9aee-83619ff9593f",
   "metadata": {},
   "outputs": [],
   "source": []
  }
 ],
 "metadata": {
  "kernelspec": {
   "display_name": "Python 3 (ipykernel)",
   "language": "python",
   "name": "python3"
  },
  "language_info": {
   "codemirror_mode": {
    "name": "ipython",
    "version": 3
   },
   "file_extension": ".py",
   "mimetype": "text/x-python",
   "name": "python",
   "nbconvert_exporter": "python",
   "pygments_lexer": "ipython3",
   "version": "3.9.7"
  }
 },
 "nbformat": 4,
 "nbformat_minor": 5
}
