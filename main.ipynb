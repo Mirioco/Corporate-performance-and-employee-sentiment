{
 "cells": [
  {
   "cell_type": "code",
   "execution_count": 1,
   "id": "3e2a13a9-4a1c-47b4-95f2-54e908f56e23",
   "metadata": {},
   "outputs": [],
   "source": [
    "# Imports\n",
    "from selenium import webdriver\n",
    "from bs4 import BeautifulSoup\n",
    "from selenium.webdriver.common.keys import Keys\n",
    "from selenium.webdriver.common.action_chains import ActionChains\n",
    "\n",
    "import random\n",
    "import time\n",
    "import pandas as pd"
   ]
  },
  {
   "cell_type": "code",
   "execution_count": 2,
   "id": "b80c4086-0d2a-4abd-a815-8d575706fa52",
   "metadata": {},
   "outputs": [],
   "source": [
    "# Initializating variables\n",
    "subrating_classes = {'css-xd4dom': '*',\n",
    "               'css-18v8tui': '**',\n",
    "               'css-vl2edp': '***',\n",
    "               'css-1nuumx7': '****',\n",
    "               'css-s88v13': '*****'}\n",
    "rating_subcategories = ['Work/Life Balance',\n",
    "                   'Culture & Values',\n",
    "                   'Diversity & Inclusion',\n",
    "                   'Career Opportunities',\n",
    "                   'Compensation and Benefits',\n",
    "                   'Senior Management']\n",
    "\n",
    "# Get NOKIA link for testing\n",
    "link = 'https://www.glassdoor.com/Reviews/Nokia-Reviews-E3494.htm'"
   ]
  },
  {
   "cell_type": "code",
   "execution_count": 4,
   "id": "2d39ac77-2b78-44a2-a325-ef7e355d9e81",
   "metadata": {},
   "outputs": [],
   "source": [
    "# Set up\n",
    "def setup_driver():\n",
    "    \"\"\"\n",
    "    Launches driver, maximizes window size\n",
    "    \"\"\"\n",
    "    driver = webdriver.Chrome('/Users/corentin/Documents/chromedriver')\n",
    "    time.sleep(random.uniform(2, 4))\n",
    "    # Setting window size to make sure the scrolls get to where they are supposed to\n",
    "    driver.set_window_size(1920, 1080)\n",
    "    driver.implicitly_wait(30)\n",
    "    return driver"
   ]
  },
  {
   "cell_type": "code",
   "execution_count": 5,
   "id": "fba3b26a-daf4-4bc5-84c8-ce94a2596c7e",
   "metadata": {},
   "outputs": [],
   "source": [
    "driver = setup_driver()"
   ]
  },
  {
   "cell_type": "code",
   "execution_count": 6,
   "id": "93ccadcf-e1b9-4484-9e98-510a2412157b",
   "metadata": {},
   "outputs": [],
   "source": [
    "def setup_url_site(driver, link):\n",
    "    \"\"\"\n",
    "    Gets the url, sets the site in english, set the reviews in english and sets the \n",
    "    reviews to chronologically order\n",
    "    \"\"\"\n",
    "    \n",
    "    url = link\n",
    "    driver.get(url)\n",
    "    \n",
    "    # Set site language to us\n",
    "    time.sleep(random.uniform(2, 4))\n",
    "    driver.execute_script('window.scrollTo(0, document.body.scrollHeight)')\n",
    "    time.sleep(random.uniform(2, 4))\n",
    "    language_choice = driver.find_element_by_xpath('//*[@id=\"Footer\"]/nav/ul[2]/li[3]/div/div/div[1]')\n",
    "    language_choice.click()\n",
    "    soup = BeautifulSoup(driver.page_source, 'lxml')\n",
    "    language_click_box = soup.find('div', class_='dropdownOptions dropdownExpanded animated above')\n",
    "    for li in language_click_box.find_all('li'):\n",
    "        country = li.find_all('span')[1].string\n",
    "        if country == 'United States':\n",
    "            us_id = li.get('id')\n",
    "            break\n",
    "    time.sleep(random.uniform(2, 4))\n",
    "    us = driver.find_element_by_id(us_id)\n",
    "    us.click()\n",
    "    \n",
    "    # Get only english reviews\n",
    "    time.sleep(random.uniform(2, 4))\n",
    "    filter_button = driver.find_element_by_xpath('//*[@id=\"MainContent\"]/div/div[1]/div[1]/div[1]/div/div[1]/div[2]/div[2]/button/span')\n",
    "    filter_button.click()\n",
    "    time.sleep(random.uniform(2, 4))\n",
    "    language_button = driver.find_element_by_xpath('//*[@id=\"MainContent\"]/div/div[1]/div[1]/div[1]/div/div[1]/div[3]/div[2]/div[2]/div/div[1]')\n",
    "    language_button.click()\n",
    "    time.sleep(random.uniform(2, 4))\n",
    "    english = driver.find_element_by_xpath('//*[@id=\"option_eng\"]')\n",
    "    english.click()\n",
    "\n",
    "    # Start with most recent reviews\n",
    "    time.sleep(random.uniform(2, 4))\n",
    "    driver.execute_script('window.scrollTo(0, 450)')\n",
    "    time.sleep(random.uniform(2, 4))\n",
    "    freshness_button = driver.find_element_by_xpath('//*[@id=\"MainContent\"]/div/div[1]/div[1]/div[2]/div/span/div/div/div[1]')\n",
    "    freshness_button.click()\n",
    "    time.sleep(random.uniform(2, 4))\n",
    "    most_recent = driver.find_element_by_xpath('//*[@id=\"option_DATE\"]')\n",
    "    most_recent.click()\n",
    "    time.sleep(random.uniform(2, 4))"
   ]
  },
  {
   "cell_type": "code",
   "execution_count": 7,
   "id": "ba1f86a9-775c-47e0-82ce-ca4d83561801",
   "metadata": {},
   "outputs": [],
   "source": [
    "setup_url_site(driver, link)"
   ]
  },
  {
   "cell_type": "code",
   "execution_count": 9,
   "id": "a9674f60-800a-4574-9e68-af632db2307c",
   "metadata": {},
   "outputs": [],
   "source": [
    "def scrape_ratings(post):\n",
    "    \"\"\"\n",
    "    Returns a string with the main rating and a list with subrating\n",
    "    \"\"\"\n",
    "    # Main rating\n",
    "    main_rating = post.find('span', class_ = 'ratingNumber mr-xsm').string\n",
    "    \n",
    "    # Subratings\n",
    "    try:\n",
    "        rating_categories = post.find('div', class_ = 'content')\n",
    "        ratings = rating_categories.find_all('li') # Each rating has a different class, it's the only way to differentiate\n",
    "\n",
    "        subratings = {}\n",
    "        for subrating in ratings:\n",
    "            #Get categories, it's not always 6 of them\n",
    "            subrating_category = subrating.find_all('div')[0].string\n",
    "            subrating_class = subrating.find_all('div')[1]['class'][0]\n",
    "            subrating = subrating_classes[subrating_class]\n",
    "            subratings[subrating_category] = subrating\n",
    "    except:\n",
    "        subratings = {'Work/Life Balance': None,\n",
    "                      'Culture & Values': None, \n",
    "                      'Diversity & Inclusion': None, \n",
    "                      'Career Opportunities': None,\n",
    "                      'Compensation and Benefits': None,\n",
    "                      'Senior Management': None}\n",
    "    \n",
    "    return main_rating, subratings"
   ]
  },
  {
   "cell_type": "code",
   "execution_count": 26,
   "id": "379353fe-9566-4e59-8ac0-0df09d8ab805",
   "metadata": {},
   "outputs": [],
   "source": [
    "def single_page_scraper(html): #Needs the driver.page_source\n",
    "    \"\"\"\n",
    "    Scrapes rating, subrating, post_title, date_and_job, recommend, CEO approval,\n",
    "    business outlook, pros and cons of all postings on a single page and\n",
    "    returns a dataframe\n",
    "    \"\"\"\n",
    "    #Initializing df\n",
    "    df = pd.DataFrame({'main_rating': [],\n",
    "                       'Work/Life Balance': [], \n",
    "                       'Culture & Values': [], \n",
    "                       'Diversity & Inclusion': [], \n",
    "                       'Career Opportunities': [],\n",
    "                       'Compensation and Benefits': [],\n",
    "                       'Senior Management': []\n",
    "                       })\n",
    "    soup = BeautifulSoup(html, 'lxml')\n",
    "    \n",
    "    # Get postings on a single page\n",
    "    # First and other nine reviews have different classes\n",
    "    first_posting = soup.find_all('li', class_ = 'empReview cf pb-0 mb-0')\n",
    "    next_postings = soup.find_all('li', class_ = 'noBorder empReview cf pb-0 mb-0')\n",
    "    # Extending first_posting with the nine other and renaming the variable adequatly\n",
    "    first_posting.extend(next_postings)\n",
    "    postings = first_posting\n",
    "    \n",
    "    \n",
    "    # Looping on postings\n",
    "    for post in postings:\n",
    "        # Getting ratings\n",
    "        main_rating, subratings = scrape_ratings(post)\n",
    "        post_ratings = {'main_rating': main_rating}\n",
    "        for key, value in subratings.items():\n",
    "            post_ratings[key] = value\n",
    "             \n",
    "        #Populating the dataframe\n",
    "        df = df.append((post_ratings),\n",
    "                        ignore_index=True)\n",
    "    \n",
    "    return df"
   ]
  },
  {
   "cell_type": "code",
   "execution_count": 19,
   "id": "e9701fe7-3a9c-49c9-aebf-88f3183b18c1",
   "metadata": {},
   "outputs": [
    {
     "name": "stdout",
     "output_type": "stream",
     "text": [
      "soup ok\n",
      "10\n",
      "Ratings gotten:  5.0 {'Work/Life Balance': None, 'Culture & Values': None, 'Diversity & Inclusion': None, 'Career Opportunities': None, 'Compensation and Benefits': None, 'Senior Management': None}\n",
      "Ratings gotten:  5.0 {'Work/Life Balance': '*****', 'Culture & Values': '*****', 'Diversity & Inclusion': '****', 'Career Opportunities': '****', 'Compensation and Benefits': '****', 'Senior Management': '****'}\n",
      "Ratings gotten:  4.0 {'Work/Life Balance': '****', 'Culture & Values': '*****', 'Diversity & Inclusion': '*****', 'Career Opportunities': '*****', 'Compensation and Benefits': '****', 'Senior Management': '****'}\n",
      "Ratings gotten:  2.0 {'Work/Life Balance': '***', 'Culture & Values': '***', 'Diversity & Inclusion': '***', 'Career Opportunities': '**', 'Compensation and Benefits': '**', 'Senior Management': '*'}\n",
      "Ratings gotten:  4.0 {'Work/Life Balance': None, 'Culture & Values': None, 'Diversity & Inclusion': None, 'Career Opportunities': None, 'Compensation and Benefits': None, 'Senior Management': None}\n",
      "Ratings gotten:  3.0 {'Work/Life Balance': None, 'Culture & Values': None, 'Diversity & Inclusion': None, 'Career Opportunities': None, 'Compensation and Benefits': None, 'Senior Management': None}\n",
      "Ratings gotten:  4.0 {'Work/Life Balance': None, 'Culture & Values': None, 'Diversity & Inclusion': None, 'Career Opportunities': None, 'Compensation and Benefits': None, 'Senior Management': None}\n",
      "Ratings gotten:  4.0 {'Work/Life Balance': '*****', 'Culture & Values': '***', 'Diversity & Inclusion': '****', 'Career Opportunities': '***', 'Compensation and Benefits': '***', 'Senior Management': '***'}\n",
      "Ratings gotten:  4.0 {'Work/Life Balance': '***', 'Culture & Values': '****', 'Diversity & Inclusion': '****', 'Career Opportunities': '***', 'Compensation and Benefits': '**', 'Senior Management': '***'}\n",
      "Ratings gotten:  3.0 {'Work/Life Balance': '***', 'Culture & Values': '***', 'Diversity & Inclusion': '*****', 'Career Opportunities': '**', 'Compensation and Benefits': '***', 'Senior Management': '***'}\n"
     ]
    }
   ],
   "source": [
    "df = single_page_scraper(driver.page_source)"
   ]
  },
  {
   "cell_type": "code",
   "execution_count": 23,
   "id": "b61f52fe-05e6-4ea7-bca3-dd7c73b33228",
   "metadata": {},
   "outputs": [],
   "source": [
    "soup = BeautifulSoup(driver.page_source, 'lxml')\n",
    "# Get postings on a single page\n",
    "# First and other nine reviews have different classes\n",
    "first_posting = soup.find_all('li', class_ = 'empReview cf pb-0 mb-0')\n",
    "next_postings = soup.find_all('li', class_ = 'noBorder empReview cf pb-0 mb-0')\n",
    "# Extending first_posting with the nine other and renaming the variable adequatly\n",
    "first_posting.extend(next_postings)\n",
    "postings = first_posting"
   ]
  },
  {
   "cell_type": "code",
   "execution_count": 24,
   "id": "99b24a9f-1064-4160-a806-b83958d3867c",
   "metadata": {},
   "outputs": [],
   "source": [
    "status = postings[0].find('span', class_ = 'pt-xsm pt-md-0 css-1qxtz39 eg4psks0').string"
   ]
  },
  {
   "cell_type": "code",
   "execution_count": 25,
   "id": "1b24b24f-424f-4c52-8a6e-bc55b91937f2",
   "metadata": {},
   "outputs": [
    {
     "data": {
      "text/plain": [
       "'Current Employee'"
      ]
     },
     "execution_count": 25,
     "metadata": {},
     "output_type": "execute_result"
    }
   ],
   "source": [
    "status"
   ]
  },
  {
   "cell_type": "code",
   "execution_count": null,
   "id": "904e678f-8def-4801-af60-9becf3cbcffc",
   "metadata": {},
   "outputs": [],
   "source": [
    "\n",
    "# try:\n",
    "#     whatever\n",
    "# except ElementClickInterceptedException:    \n",
    "#     driver.execute_script(\"\"\"\n",
    "#     javascript:(function(){\n",
    "#       document.getElementsByClassName('hardsellOverlay')[0].remove();\n",
    "#       document.getElementsByTagName(\"body\")[0].style.overflow = \"scroll\";\n",
    "#       let style = document.createElement('style');\n",
    "#       style.innerHTML = `\n",
    "#         #LoginModal {\n",
    "#           display: none!important;\n",
    "#         }\n",
    "#       `;\n",
    "#       document.head.appendChild(style);\n",
    "#       window.addEventListener(\"scroll\", function (event) {\n",
    "#         event.stopPropagation();\n",
    "#       }, true);\n",
    "#     })();\n",
    "#     \"\"\")    "
   ]
  },
  {
   "cell_type": "code",
   "execution_count": 8,
   "id": "28fbbc06-4518-41f7-b205-b56b9b9a3535",
   "metadata": {},
   "outputs": [],
   "source": [
    "driver.execute_script(\"\"\"\n",
    "    javascript:(function(){\n",
    "      document.getElementsByClassName('hardsellOverlay')[0].remove();\n",
    "      document.getElementsByTagName(\"body\")[0].style.overflow = \"scroll\";\n",
    "      let style = document.createElement('style');\n",
    "      style.innerHTML = `\n",
    "        #LoginModal {\n",
    "          display: none!important;\n",
    "        }\n",
    "      `;\n",
    "      document.head.appendChild(style);\n",
    "      window.addEventListener(\"scroll\", function (event) {\n",
    "        event.stopPropagation();\n",
    "      }, true);\n",
    "    })();\n",
    "    \"\"\") "
   ]
  },
  {
   "cell_type": "code",
   "execution_count": null,
   "id": "dca84393-f4cc-4422-94c2-82447ef6cc2e",
   "metadata": {},
   "outputs": [],
   "source": []
  }
 ],
 "metadata": {
  "kernelspec": {
   "display_name": "Python 3 (ipykernel)",
   "language": "python",
   "name": "python3"
  },
  "language_info": {
   "codemirror_mode": {
    "name": "ipython",
    "version": 3
   },
   "file_extension": ".py",
   "mimetype": "text/x-python",
   "name": "python",
   "nbconvert_exporter": "python",
   "pygments_lexer": "ipython3",
   "version": "3.9.7"
  }
 },
 "nbformat": 4,
 "nbformat_minor": 5
}
