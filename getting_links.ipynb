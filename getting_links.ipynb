{
 "cells": [
  {
   "cell_type": "code",
   "execution_count": null,
   "id": "ffe4b664-df53-4dae-ae7a-2c3c36190705",
   "metadata": {},
   "outputs": [],
   "source": [
    "# Imports\n",
    "from selenium import webdriver\n",
    "from bs4 import BeautifulSoup\n",
    "from selenium.webdriver.common.keys import Keys\n",
    "import random\n",
    "import time\n",
    "import pandas as pd"
   ]
  },
  {
   "cell_type": "code",
   "execution_count": null,
   "id": "9c6e08bd-ba64-412b-a92c-cc6700d78449",
   "metadata": {},
   "outputs": [],
   "source": [
    "# Main scraping function\n",
    "def getting_company_reviews_urls_bs(companies):\n",
    "    \"\"\"\n",
    "    Takes a list of company names as input and returns the url of the review \n",
    "    section of each company in a dataframe\n",
    "    \"\"\"\n",
    "    driver = webdriver.Chrome('/Users/corentin/Documents/chromedriver')\n",
    "    time.sleep(5)\n",
    "    url = 'https://www.glassdoor.com/Reviews/index.htm'\n",
    "    search_bar_xpath = '//*[@id=\"KeywordSearch\"]'\n",
    "    df = pd.DataFrame({'company': [], 'link': []})\n",
    "    domain = 'https://fr.glassdoor.be'\n",
    "\n",
    "    \n",
    "    for company in companies:\n",
    "        try:\n",
    "            #Searching for the company\n",
    "            driver.get(url)\n",
    "            time.sleep(random.uniform(2, 4))\n",
    "            company_search = driver.find_element_by_xpath(search_bar_xpath)\n",
    "            company_search.send_keys(company)\n",
    "            time.sleep(random.uniform(1, 2))\n",
    "            company_search.send_keys(Keys.ENTER)\n",
    "\n",
    "            #Going on the first company's page\n",
    "            time.sleep(random.uniform(2, 4))\n",
    "            driver.find_element_by_xpath('//*[@id=\"MainCol\"]/div/div[1]/div/div[1]/div/div[2]/h2/a').click()\n",
    "            # soup = BeautifulSoup(driver.page_source, 'lxml')\n",
    "            # first_company_box = domain + soup.find('a', class_ = 'sqLogoLink').get('href')\n",
    "\n",
    "            #Going in the reviews section of the page and getting the url\n",
    "            time.sleep(random.uniform(2, 4))\n",
    "            # sauce = requests.get(first_company_box)\n",
    "            # soup = BeautifulSoup(sauce.text, 'lxml')\n",
    "            soup = BeautifulSoup(driver.page_source, 'lxml')\n",
    "            reviews_url = domain + soup.find('a', class_ = 'd-flex align-items-center pt-std css-1qnp674 e16bqfyh1').get('href')\n",
    "            #reviews_url = domain + soup.find('a', {'data-test': 'reviewSeeAllLink'}).get('href')\n",
    "            #reviews_url = soup.find('a', class_ 'eiCell cell reviews ').get('href')\n",
    "            print('Reviews for ' + company + reviews_url)\n",
    "            print('Search for the company succesful')\n",
    "\n",
    "            #Populating the dataframe\n",
    "            df = df.append({'company': company,\n",
    "                            'link': reviews_url},\n",
    "                           ignore_index=True)\n",
    "        except:\n",
    "            continue\n",
    "    \n",
    "    df.to_csv('data/company_links.csv')\n",
    "    return df"
   ]
  }
 ],
 "metadata": {
  "kernelspec": {
   "display_name": "Python 3 (ipykernel)",
   "language": "python",
   "name": "python3"
  },
  "language_info": {
   "codemirror_mode": {
    "name": "ipython",
    "version": 3
   },
   "file_extension": ".py",
   "mimetype": "text/x-python",
   "name": "python",
   "nbconvert_exporter": "python",
   "pygments_lexer": "ipython3",
   "version": "3.9.7"
  }
 },
 "nbformat": 4,
 "nbformat_minor": 5
}
